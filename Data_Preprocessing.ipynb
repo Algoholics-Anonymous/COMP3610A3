{
 "cells": [
  {
   "cell_type": "markdown",
   "id": "58fe7329",
   "metadata": {},
   "source": [
    "# Data Preprocessing:"
   ]
  },
  {
   "cell_type": "code",
   "execution_count": 25,
   "id": "57bada0f",
   "metadata": {},
   "outputs": [],
   "source": [
    "from bigdata_a3_utils import *\n",
    "import pandas as pd\n",
    "import pyarrow as pa\n",
    "import pyarrow.dataset as ds\n",
    "import pyarrow.parquet as pq\n",
    "from pathlib import Path\n",
    "import os\n",
    "import time\n",
    "import gc\n",
    "import re"
   ]
  },
  {
   "cell_type": "code",
   "execution_count": 26,
   "id": "6c80a5ee",
   "metadata": {},
   "outputs": [
    {
     "name": "stdout",
     "output_type": "stream",
     "text": [
      "Subset list: ['All_Beauty', 'Amazon_Fashion', 'Appliances', 'Arts_Crafts_and_Sewing', 'Automotive', 'Baby_Products', 'Beauty_and_Personal_Care', 'Books', 'CDs_and_Vinyl', 'Cell_Phones_and_Accessories', 'Clothing_Shoes_and_Jewelry']\n"
     ]
    }
   ],
   "source": [
    "subset_sizes = [11, 11, 12]  # Define the sizes of each subset\n",
    "\n",
    "# Create subsets\n",
    "subsets = []\n",
    "start_index = 0\n",
    "for size in subset_sizes:\n",
    "    subsets.append(VALID_CATEGORIES[start_index:start_index + size])\n",
    "    start_index += size\n",
    "\n",
    "# Unpack the subsets into individual variables\n",
    "kailash_subset, saeed_subset, johnny_subset = subsets\n",
    "\n",
    "print(f\"Subset list: {kailash_subset}\")\n",
    "# Output the subsets"
   ]
  },
  {
   "cell_type": "markdown",
   "id": "d72cc32b",
   "metadata": {},
   "source": [
    "Define paths below"
   ]
  },
  {
   "cell_type": "code",
   "execution_count": null,
   "id": "4c938b28",
   "metadata": {},
   "outputs": [
    {
     "name": "stderr",
     "output_type": "stream",
     "text": [
      "<>:1: SyntaxWarning: invalid escape sequence '\\d'\n",
      "<>:2: SyntaxWarning: invalid escape sequence '\\p'\n",
      "<>:1: SyntaxWarning: invalid escape sequence '\\d'\n",
      "<>:2: SyntaxWarning: invalid escape sequence '\\p'\n",
      "C:\\Users\\kaila\\AppData\\Local\\Temp\\ipykernel_12556\\3535351520.py:1: SyntaxWarning: invalid escape sequence '\\d'\n",
      "  base_path = Path(\"C:\\dataset\")\n",
      "C:\\Users\\kaila\\AppData\\Local\\Temp\\ipykernel_12556\\3535351520.py:2: SyntaxWarning: invalid escape sequence '\\p'\n",
      "  pickle_path = Path(\"C:\\pickles\")\n"
     ]
    }
   ],
   "source": [
    "base_path = Path(\"C:\\dataset\")\n",
    "pickle_path = Path(\"C:\\pickles\")"
   ]
  },
  {
   "cell_type": "code",
   "execution_count": 28,
   "id": "5bd29a73",
   "metadata": {},
   "outputs": [],
   "source": [
    "def load_review_data(base_path, category):\n",
    "    review_path = base_path / f\"raw_review_{category}.tar.gz\"\n",
    "\n",
    "    print(f\"Loading review data for {category}...\")\n",
    "    review_dataset = load_compressed_dataset(review_path)    \n",
    "    reviews_df = review_dataset[\"full\"].to_pandas()\n",
    "\n",
    "    return reviews_df"
   ]
  },
  {
   "cell_type": "code",
   "execution_count": 29,
   "id": "f9b8a5c4",
   "metadata": {},
   "outputs": [],
   "source": [
    "def load_metadata(base_path, category):\n",
    "    metadata_folder_path = base_path / f\"raw_meta_{category}.tar.gz\"\n",
    "\n",
    "    print(f\"Loading metadata for {category}...\")\n",
    "    metadata = load_compressed_dataset(metadata_folder_path)\n",
    "    metadata_df = metadata[\"full\"].to_pandas()\n",
    "\n",
    "    return metadata_df"
   ]
  },
  {
   "cell_type": "code",
   "execution_count": 30,
   "id": "24466c3b",
   "metadata": {},
   "outputs": [],
   "source": [
    "def merge_dataframes(reviews_df, meta_df):\n",
    "    merged_df = pd.merge(\n",
    "        reviews_df,\n",
    "        meta_df,\n",
    "        left_on='parent_asin',\n",
    "        right_on='parent_asin',\n",
    "        how='inner',\n",
    "        suffixes=('_reviews', '_meta')\n",
    "    )\n",
    "\n",
    "    return merged_df"
   ]
  },
  {
   "cell_type": "code",
   "execution_count": 31,
   "id": "3a5d5d21",
   "metadata": {},
   "outputs": [],
   "source": [
    "def extract_brand(row):\n",
    "    # Check if store exists and is not empty after stripping\n",
    "    if row.get('store') and row['store'].strip():\n",
    "        return row['store'].strip()  # Return store if it has a non-empty value\n",
    "    \n",
    "    # Try to extract brand from details\n",
    "    elif row.get('details'):\n",
    "        # Use a regex pattern similar to your original function\n",
    "        match = re.search(r\"Brand[:\\s\\-]*([A-Za-z0-9&\\s]+)\", row['details'], re.IGNORECASE)\n",
    "        if match:\n",
    "            return match.group(1).strip()  # Return the brand found in details\n",
    "    \n",
    "    # Default fallback\n",
    "    return 'Unknown'"
   ]
  },
  {
   "cell_type": "markdown",
   "id": "285866c7",
   "metadata": {},
   "source": [
    "# Preprocessing creates pickle files for temporary storage"
   ]
  },
  {
   "cell_type": "code",
   "execution_count": null,
   "id": "ac9cdbaf",
   "metadata": {},
   "outputs": [
    {
     "name": "stdout",
     "output_type": "stream",
     "text": [
      "Loading review data for All_Beauty...\n",
      "Extracting C:\\dataset\\raw_review_All_Beauty.tar.gz to C:\\dataset\\temp_abfd0f0ae08f42c3bc4584a7af3b68f0...\n",
      "Loading dataset from C:\\dataset\\temp_abfd0f0ae08f42c3bc4584a7af3b68f0\\raw_review_All_Beauty...\n",
      "Cleaning up temporary directory: C:\\dataset\\temp_abfd0f0ae08f42c3bc4584a7af3b68f0\n",
      "Loading metadata for All_Beauty...\n",
      "Extracting C:\\dataset\\raw_meta_All_Beauty.tar.gz to C:\\dataset\\temp_3343a7c2f6ff47fa92a1891cfede8adc...\n",
      "Loading dataset from C:\\dataset\\temp_3343a7c2f6ff47fa92a1891cfede8adc\\raw_meta_All_Beauty...\n",
      "Cleaning up temporary directory: C:\\dataset\\temp_3343a7c2f6ff47fa92a1891cfede8adc\n",
      "Merged meta and reviews\n",
      "Filtered ratings\n",
      "Filtered empty reviews\n",
      "Extracted brands\n",
      "Dropped duplicates\n",
      "Calculated review length\n",
      "Extracted year\n"
     ]
    }
   ],
   "source": [
    "# Create directory if none exists\n",
    "if not os.path.exists(pickle_path):\n",
    "    os.makedirs(pickle_path)\n",
    "\n",
    "# Main preprocessing loop\n",
    "for category in VALID_CATEGORIES:\n",
    "    pickle_file_name = os.path.join(pickle_path, f'cleaned_data_{category}.pkl')\n",
    "    \n",
    "    if os.path.exists(pickle_file_name):\n",
    "        print(f\"Pickle file already exists for {category}. Skipping preprocessing...\")\n",
    "        continue\n",
    "    \n",
    "    reviews_df = load_review_data(base_path, category)\n",
    "    metadata_df = load_metadata(base_path, category)\n",
    "    \n",
    "    df = merge_dataframes(reviews_df, metadata_df)\n",
    "    print(\"Merged meta and reviews\")\n",
    "\n",
    "    # del reviews_df\n",
    "    # del metadata_df   ## wont it need \n",
    "                        ##to remove the memory used to hold review and meta?\n",
    "    # gc.collect()\n",
    "\n",
    "    df = df[(df['rating'].notnull()) & (df['rating'].between(1, 5))]\n",
    "    print(\"Filtered ratings\")\n",
    "\n",
    "    df = df[df['text'].str.strip().astype(bool)]\n",
    "    print(\"Filtered empty reviews\")\n",
    "\n",
    "    df.loc[:, 'brand'] = df.apply(extract_brand, axis=1)\n",
    "    print(\"Extracted brands\")\n",
    "\n",
    "    df = df.drop_duplicates(subset=['user_id', 'text', 'asin'], keep='first')\n",
    "    print(\"Dropped duplicates\")\n",
    "\n",
    "    df.loc[:, 'review_length'] = df['text'].apply(lambda x: len(x.split()))\n",
    "    print(\"Calculated review length\")\n",
    "\n",
    "    df.loc[:, 'year'] = pd.to_datetime(df['timestamp'], unit='ms', errors='coerce').dt.year\n",
    "    print(\"Extracted year\")\n",
    "\n",
    "    pickle_file_name = os.path.join(pickle_path, f'cleaned_data_{category}.pkl')\n",
    "    df.to_pickle(pickle_file_name)\n",
    "    \n",
    "    del reviews_df\n",
    "    del metadata_df\n",
    "    gc.collect()\n"
   ]
  },
  {
   "cell_type": "code",
   "execution_count": null,
   "id": "d7634d42",
   "metadata": {},
   "outputs": [],
   "source": []
  }
 ],
 "metadata": {
  "kernelspec": {
   "display_name": "Python 3",
   "language": "python",
   "name": "python3"
  },
  "language_info": {
   "codemirror_mode": {
    "name": "ipython",
    "version": 3
   },
   "file_extension": ".py",
   "mimetype": "text/x-python",
   "name": "python",
   "nbconvert_exporter": "python",
   "pygments_lexer": "ipython3",
   "version": "3.12.6"
  }
 },
 "nbformat": 4,
 "nbformat_minor": 5
}
