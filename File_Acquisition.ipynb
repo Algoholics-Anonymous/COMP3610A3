{
 "cells": [
  {
   "cell_type": "markdown",
   "id": "9b95d8d1",
   "metadata": {},
   "source": [
    "# Initial Imports"
   ]
  },
  {
   "cell_type": "code",
   "execution_count": 1,
   "id": "427cc289",
   "metadata": {},
   "outputs": [],
   "source": [
    "from bigdata_a3_utils import *\n",
    "import shutil\n",
    "import os\n",
    "from pathlib import Path\n",
    "import logging\n",
    "import tarfile\n",
    "import zipfile"
   ]
  },
  {
   "cell_type": "code",
   "execution_count": 2,
   "id": "ad7eee1e",
   "metadata": {},
   "outputs": [
    {
     "name": "stdout",
     "output_type": "stream",
     "text": [
      "[INFO] Current cache directory: C:\\Users\\saeed\\.cache\\huggingface\\datasets\n",
      "[NOTE] To use a custom cache directory, set HF_DATASETS_CACHE before importing datasets.\n",
      "Example:\n",
      "    import os\n",
      "    os.environ['HF_DATASETS_CACHE'] = 'C:\\\\your\\\\custom\\\\path'\n",
      "    from datasets import load_dataset\n",
      "\n"
     ]
    }
   ],
   "source": [
    "cache_dir = get_cache_directory()"
   ]
  },
  {
   "cell_type": "code",
   "execution_count": 3,
   "id": "ebd09fd5",
   "metadata": {},
   "outputs": [
    {
     "name": "stdout",
     "output_type": "stream",
     "text": [
      "[INFO] Your default cache path: \"C:\\Users\\saeed\\.cache\\huggingface\\datasets\"\n"
     ]
    }
   ],
   "source": [
    "default_cache_dir = default_cache_path()"
   ]
  },
  {
   "cell_type": "markdown",
   "id": "ed04b8b9",
   "metadata": {},
   "source": [
    "# Checking availble disk space\n",
    "- Files could also be stored on external drive\n",
    "- Simply change file path in save_path variable"
   ]
  },
  {
   "cell_type": "code",
   "execution_count": 4,
   "id": "a04c7723",
   "metadata": {},
   "outputs": [
    {
     "name": "stdout",
     "output_type": "stream",
     "text": [
      "Drive C::\n",
      "Total: 474.72 GB\n",
      "Used: 432.53 GB\n",
      "Free: 42.19 GB\n",
      "❌ Not enough space! You need at least 220 GB, but only have 42.19 GB free\n",
      "Consider setting a custom cache directory on a drive with more space\n"
     ]
    }
   ],
   "source": [
    "# Get the disk where your cache directory is located\n",
    "cache_path = cache_dir\n",
    "drive = os.path.splitdrive(cache_path)[0]\n",
    "\n",
    "# Get disk usage statistics\n",
    "total, used, free = shutil.disk_usage(drive)\n",
    "\n",
    "# Convert to GB for easier reading\n",
    "total_gb = total / (1024**3)\n",
    "used_gb = used / (1024**3)\n",
    "free_gb = free / (1024**3)\n",
    "\n",
    "print(f\"Drive {drive}:\")\n",
    "print(f\"Total: {total_gb:.2f} GB\")\n",
    "print(f\"Used: {used_gb:.2f} GB\")\n",
    "print(f\"Free: {free_gb:.2f} GB\")\n",
    "\n",
    "# Check if you have enough space (e.g., 220GB to be safe)\n",
    "required_space = 220  # GB\n",
    "if free_gb > required_space:\n",
    "    print(f\"✅ You have enough space for the 200GB dataset (with some buffer)\")\n",
    "else:\n",
    "    print(f\"❌ Not enough space! You need at least {required_space} GB, but only have {free_gb:.2f} GB free\")\n",
    "    print(f\"Consider setting a custom cache directory on a drive with more space\")"
   ]
  },
  {
   "cell_type": "markdown",
   "id": "9ac7ab06",
   "metadata": {},
   "source": [
    "# Division of categories into subsets per person:\n"
   ]
  },
  {
   "cell_type": "code",
   "execution_count": 5,
   "id": "42ee5c91",
   "metadata": {},
   "outputs": [
    {
     "name": "stdout",
     "output_type": "stream",
     "text": [
      "Subset list: [['All_Beauty', 'Amazon_Fashion', 'Appliances', 'Arts_Crafts_and_Sewing', 'Automotive', 'Baby_Products', 'Beauty_and_Personal_Care', 'Books', 'CDs_and_Vinyl', 'Cell_Phones_and_Accessories', 'Clothing_Shoes_and_Jewelry'], ['Digital_Music', 'Electronics', 'Gift_Cards', 'Grocery_and_Gourmet_Food', 'Handmade_Products', 'Health_and_Household', 'Health_and_Personal_Care', 'Home_and_Kitchen', 'Industrial_and_Scientific', 'Kindle_Store', 'Magazine_Subscriptions'], ['Movies_and_TV', 'Musical_Instruments', 'Office_Products', 'Patio_Lawn_and_Garden', 'Pet_Supplies', 'Software', 'Sports_and_Outdoors', 'Subscription_Boxes', 'Tools_and_Home_Improvement', 'Toys_and_Games', 'Video_Games', 'Unknown']]\n",
      "Length: 34\n"
     ]
    }
   ],
   "source": [
    "subset_sizes = [11, 11, 12]  # Define the sizes of each subset\n",
    "\n",
    "# Create subsets\n",
    "subsets = []\n",
    "start_index = 0\n",
    "for size in subset_sizes:\n",
    "    subsets.append(VALID_CATEGORIES[start_index:start_index + size])\n",
    "    start_index += size\n",
    "\n",
    "# Unpack the subsets into individual variables\n",
    "kailash_subset, saeed_subset1, johnny_subset2 = subsets\n",
    "\n",
    "print(f\"Subset list: {subsets}\")\n",
    "print(f\"Length: {len(VALID_CATEGORIES)}\")\n",
    "# Output the subsets\n"
   ]
  },
  {
   "cell_type": "markdown",
   "id": "818459c5",
   "metadata": {},
   "source": [
    "# Setting up log directory and logging system\n",
    "- Used for proof of file acquisition"
   ]
  },
  {
   "cell_type": "code",
   "execution_count": 6,
   "id": "b7301ed8",
   "metadata": {},
   "outputs": [],
   "source": [
    "log_dir = Path(\"logs\")\n",
    "log_dir.mkdir(parents=True, exist_ok=True)\n",
    "\n",
    "logging.basicConfig(\n",
    "    filename=log_dir / 'download_log.log',\n",
    "    level=logging.INFO,\n",
    "    format='%(asctime)s - %(levelname)s - %(message)s'\n",
    ")"
   ]
  },
  {
   "cell_type": "markdown",
   "id": "c322bf70",
   "metadata": {},
   "source": [
    "# Error handling:\n",
    "- In the event of an issue where the folder was not dowloaded properly\n",
    "- In the event of a issue with preprocessing any particular category (OS error, Permissions error, Temp file being deleted before full extraction) it is likely the initial download was corrupted by some means. As such simply redownload via the last cell, again specifying the failed category"
   ]
  },
  {
   "cell_type": "code",
   "execution_count": 7,
   "id": "190d3cad",
   "metadata": {},
   "outputs": [],
   "source": [
    "def verify_compressed_file(file_path):\n",
    "    \"\"\"\n",
    "    Verifies if a compressed file (tar.gz, zip, etc.) is valid and not corrupted.\n",
    "    \n",
    "    Args:\n",
    "        file_path: Path to the compressed file\n",
    "        \n",
    "    Returns:\n",
    "        bool: True if the file is valid, False otherwise\n",
    "    \"\"\"\n",
    "    file_path = Path(file_path)\n",
    "    \n",
    "    if not file_path.exists():\n",
    "        print(f\"Error: File does not exist: {file_path}\")\n",
    "        return False\n",
    "        \n",
    "    try:\n",
    "        if str(file_path).endswith('.tar.gz') or str(file_path).endswith('.tgz'):\n",
    "            # Test if tar.gz file is valid\n",
    "            with tarfile.open(file_path, 'r:gz') as tar:\n",
    "                # Just check the integrity by attempting to list contents\n",
    "                tar.getnames()\n",
    "                print(f\"✓ Verified {file_path} is a valid tar.gz file\")\n",
    "                return True\n",
    "                \n",
    "        else:\n",
    "            print(f\"Error: Unsupported file format for {file_path}\")\n",
    "            return False\n",
    "            \n",
    "    except Exception as e:\n",
    "        print(f\"Error verifying {file_path}: {str(e)}\")\n",
    "        return False"
   ]
  },
  {
   "cell_type": "markdown",
   "id": "cc9be841",
   "metadata": {},
   "source": [
    "# Downloading the folders and metadata\n",
    "- Just change the file path in save_path accordingly to where you want it stored\n",
    "- VALID_CATEGORIES will download all metadata and review data for all 34 categories, otherwise choose a subset from above to work with. "
   ]
  },
  {
   "cell_type": "code",
   "execution_count": 11,
   "id": "a87ce820",
   "metadata": {},
   "outputs": [
    {
     "name": "stdout",
     "output_type": "stream",
     "text": [
      "\n",
      "------Processing All_Beauty------\n",
      "⠋ Processing All_Beauty "
     ]
    },
    {
     "data": {
      "application/vnd.jupyter.widget-view+json": {
       "model_id": "c9d352c438124819a85d8de35c5a6027",
       "version_major": 2,
       "version_minor": 0
      },
      "text/plain": [
       "README.md:   0%|          | 0.00/30.3k [00:00<?, ?B/s]"
      ]
     },
     "metadata": {},
     "output_type": "display_data"
    },
    {
     "name": "stdout",
     "output_type": "stream",
     "text": [
      "⠹ Processing All_Beauty "
     ]
    },
    {
     "name": "stderr",
     "output_type": "stream",
     "text": [
      "c:\\Users\\saeed\\anaconda3\\Lib\\site-packages\\huggingface_hub\\file_download.py:144: UserWarning: `huggingface_hub` cache-system uses symlinks by default to efficiently store duplicated files but your machine does not support them in C:\\Users\\saeed\\.cache\\huggingface\\hub\\datasets--McAuley-Lab--Amazon-Reviews-2023. Caching files will still work but in a degraded version that might require more space on your disk. This warning can be disabled by setting the `HF_HUB_DISABLE_SYMLINKS_WARNING` environment variable. For more details, see https://huggingface.co/docs/huggingface_hub/how-to-cache#limitations.\n",
      "To support symlinks on Windows, you either need to activate Developer Mode or to run Python as an administrator. In order to activate developer mode, see this article: https://docs.microsoft.com/en-us/windows/apps/get-started/enable-your-device-for-development\n",
      "  warnings.warn(message)\n"
     ]
    },
    {
     "name": "stdout",
     "output_type": "stream",
     "text": [
      "⠦ Processing All_Beauty "
     ]
    },
    {
     "data": {
      "application/vnd.jupyter.widget-view+json": {
       "model_id": "ae6af18224db403281d131749db53319",
       "version_major": 2,
       "version_minor": 0
      },
      "text/plain": [
       "Amazon-Reviews-2023.py:   0%|          | 0.00/39.6k [00:00<?, ?B/s]"
      ]
     },
     "metadata": {},
     "output_type": "display_data"
    },
    {
     "name": "stdout",
     "output_type": "stream",
     "text": [
      "⠦ Processing All_Beauty "
     ]
    },
    {
     "data": {
      "application/vnd.jupyter.widget-view+json": {
       "model_id": "b1659e8f4181485fb7a4114ca164da2d",
       "version_major": 2,
       "version_minor": 0
      },
      "text/plain": [
       "All_Beauty.jsonl:   0%|          | 0.00/327M [00:00<?, ?B/s]"
      ]
     },
     "metadata": {},
     "output_type": "display_data"
    },
    {
     "name": "stdout",
     "output_type": "stream",
     "text": [
      "⠸ Processing All_Beauty "
     ]
    },
    {
     "data": {
      "application/vnd.jupyter.widget-view+json": {
       "model_id": "4992f3bd184341f4987844394aeeabf5",
       "version_major": 2,
       "version_minor": 0
      },
      "text/plain": [
       "Generating full split: 0 examples [00:00, ? examples/s]"
      ]
     },
     "metadata": {},
     "output_type": "display_data"
    },
    {
     "name": "stdout",
     "output_type": "stream",
     "text": [
      "⠼ Processing All_Beauty "
     ]
    },
    {
     "data": {
      "application/vnd.jupyter.widget-view+json": {
       "model_id": "62ebb75c9c88441592eea3fbbb586a55",
       "version_major": 2,
       "version_minor": 0
      },
      "text/plain": [
       "Saving the dataset (0/1 shards):   0%|          | 0/701528 [00:00<?, ? examples/s]"
      ]
     },
     "metadata": {},
     "output_type": "display_data"
    },
    {
     "name": "stdout",
     "output_type": "stream",
     "text": [
      "[DONE] raw_review_All_Beauty downloaded\n",
      "⠸ Processing All_Beauty "
     ]
    },
    {
     "data": {
      "application/vnd.jupyter.widget-view+json": {
       "model_id": "efd5e876afad40159ad96af6bce57aa2",
       "version_major": 2,
       "version_minor": 0
      },
      "text/plain": [
       "meta_All_Beauty.jsonl:   0%|          | 0.00/213M [00:00<?, ?B/s]"
      ]
     },
     "metadata": {},
     "output_type": "display_data"
    },
    {
     "name": "stdout",
     "output_type": "stream",
     "text": [
      "⠦ Processing All_Beauty "
     ]
    },
    {
     "data": {
      "application/vnd.jupyter.widget-view+json": {
       "model_id": "278b8d7c6f604acd8bd0e812feb1b487",
       "version_major": 2,
       "version_minor": 0
      },
      "text/plain": [
       "Generating full split:   0%|          | 0/112590 [00:00<?, ? examples/s]"
      ]
     },
     "metadata": {},
     "output_type": "display_data"
    },
    {
     "name": "stdout",
     "output_type": "stream",
     "text": [
      "⠋ Processing All_Beauty "
     ]
    },
    {
     "data": {
      "application/vnd.jupyter.widget-view+json": {
       "model_id": "20ecd48147da49978354ee2b800d0ecb",
       "version_major": 2,
       "version_minor": 0
      },
      "text/plain": [
       "Saving the dataset (0/1 shards):   0%|          | 0/112590 [00:00<?, ? examples/s]"
      ]
     },
     "metadata": {},
     "output_type": "display_data"
    },
    {
     "name": "stdout",
     "output_type": "stream",
     "text": [
      "[DONE] raw_meta_All_Beauty downloaded\n",
      "✅ Processing All_Beauty\n",
      "\n",
      "🎉 Download summary:\n",
      "  - Successfully processed: 1/1 categories\n",
      "Compressed reviews to: D:\\BigData\\raw_review_All_Beauty.tar.gz\n",
      "Compressed metadata to: D:\\BigData\\raw_meta_All_Beauty.tar.gz\n",
      "Error: File does not exist: D:\\BigData\\raw_review_All_Beauty\n",
      "Error: File does not exist: D:\\BigData\\raw_meta_All_Beauty\n",
      "\n",
      "------Processing Amazon_Fashion------\n",
      "⠼ Processing Amazon_Fashion "
     ]
    },
    {
     "data": {
      "application/vnd.jupyter.widget-view+json": {
       "model_id": "3bf87d841c3b46a89329603dbad2ac40",
       "version_major": 2,
       "version_minor": 0
      },
      "text/plain": [
       "Amazon_Fashion.jsonl:   0%|          | 0.00/1.05G [00:00<?, ?B/s]"
      ]
     },
     "metadata": {},
     "output_type": "display_data"
    },
    {
     "name": "stdout",
     "output_type": "stream",
     "text": [
      "⠦ Processing Amazon_Fashion "
     ]
    },
    {
     "data": {
      "application/vnd.jupyter.widget-view+json": {
       "model_id": "1e6ff4dca5c9495ca33bcadb88e92a2a",
       "version_major": 2,
       "version_minor": 0
      },
      "text/plain": [
       "Generating full split: 0 examples [00:00, ? examples/s]"
      ]
     },
     "metadata": {},
     "output_type": "display_data"
    },
    {
     "name": "stdout",
     "output_type": "stream",
     "text": [
      "⠏ Processing Amazon_Fashion "
     ]
    },
    {
     "data": {
      "application/vnd.jupyter.widget-view+json": {
       "model_id": "e681ba5d9b1e46e38d1e56a6bdd2ad33",
       "version_major": 2,
       "version_minor": 0
      },
      "text/plain": [
       "Saving the dataset (0/2 shards):   0%|          | 0/2500939 [00:00<?, ? examples/s]"
      ]
     },
     "metadata": {},
     "output_type": "display_data"
    },
    {
     "name": "stdout",
     "output_type": "stream",
     "text": [
      "[DONE] raw_review_Amazon_Fashion downloaded\n",
      "⠙ Processing Amazon_Fashion "
     ]
    },
    {
     "data": {
      "application/vnd.jupyter.widget-view+json": {
       "model_id": "ccb5bc759b69456980da7c05943e3249",
       "version_major": 2,
       "version_minor": 0
      },
      "text/plain": [
       "meta_Amazon_Fashion.jsonl:   0%|          | 0.00/1.42G [00:00<?, ?B/s]"
      ]
     },
     "metadata": {},
     "output_type": "display_data"
    },
    {
     "name": "stdout",
     "output_type": "stream",
     "text": [
      "⠦ Processing Amazon_Fashion "
     ]
    },
    {
     "data": {
      "application/vnd.jupyter.widget-view+json": {
       "model_id": "5857a6f4602c4ded912584cad5b71ade",
       "version_major": 2,
       "version_minor": 0
      },
      "text/plain": [
       "Generating full split: 0 examples [00:00, ? examples/s]"
      ]
     },
     "metadata": {},
     "output_type": "display_data"
    },
    {
     "name": "stdout",
     "output_type": "stream",
     "text": [
      "⠦ Processing Amazon_Fashion "
     ]
    },
    {
     "data": {
      "application/vnd.jupyter.widget-view+json": {
       "model_id": "e59c04d1d3b24b678095e10eea283b5e",
       "version_major": 2,
       "version_minor": 0
      },
      "text/plain": [
       "Saving the dataset (0/3 shards):   0%|          | 0/826108 [00:00<?, ? examples/s]"
      ]
     },
     "metadata": {},
     "output_type": "display_data"
    },
    {
     "name": "stdout",
     "output_type": "stream",
     "text": [
      "[DONE] raw_meta_Amazon_Fashion downloaded\n",
      "✅ Processing Amazon_Fashion\n",
      "\n",
      "🎉 Download summary:\n",
      "  - Successfully processed: 1/1 categories\n",
      "Compressed reviews to: D:\\BigData\\raw_review_Amazon_Fashion.tar.gz\n",
      "Compressed metadata to: D:\\BigData\\raw_meta_Amazon_Fashion.tar.gz\n",
      "Error: File does not exist: D:\\BigData\\raw_review_Amazon_Fashion\n",
      "Error: File does not exist: D:\\BigData\\raw_meta_Amazon_Fashion\n",
      "\n",
      "------Processing Appliances------\n",
      "⠼ Processing Appliances "
     ]
    },
    {
     "data": {
      "application/vnd.jupyter.widget-view+json": {
       "model_id": "0cc3d6171fa64af6b0a4371f6a3e3011",
       "version_major": 2,
       "version_minor": 0
      },
      "text/plain": [
       "Appliances.jsonl:   0%|          | 0.00/929M [00:00<?, ?B/s]"
      ]
     },
     "metadata": {},
     "output_type": "display_data"
    },
    {
     "name": "stdout",
     "output_type": "stream",
     "text": [
      "⠇ Processing Appliances "
     ]
    },
    {
     "data": {
      "application/vnd.jupyter.widget-view+json": {
       "model_id": "aae1cd1893584c8aaec6c4e0de7c2b8b",
       "version_major": 2,
       "version_minor": 0
      },
      "text/plain": [
       "Generating full split: 0 examples [00:00, ? examples/s]"
      ]
     },
     "metadata": {},
     "output_type": "display_data"
    },
    {
     "name": "stdout",
     "output_type": "stream",
     "text": [
      "⠹ Processing Appliances "
     ]
    },
    {
     "data": {
      "application/vnd.jupyter.widget-view+json": {
       "model_id": "c8e697ec0d094ba398b906f0eaff86a6",
       "version_major": 2,
       "version_minor": 0
      },
      "text/plain": [
       "Saving the dataset (0/2 shards):   0%|          | 0/2128605 [00:00<?, ? examples/s]"
      ]
     },
     "metadata": {},
     "output_type": "display_data"
    },
    {
     "name": "stdout",
     "output_type": "stream",
     "text": [
      "[DONE] raw_review_Appliances downloaded\n",
      "⠸ Processing Appliances "
     ]
    },
    {
     "data": {
      "application/vnd.jupyter.widget-view+json": {
       "model_id": "c60a4179e1eb4e458ef4382e03644fde",
       "version_major": 2,
       "version_minor": 0
      },
      "text/plain": [
       "meta_Appliances.jsonl:   0%|          | 0.00/285M [00:00<?, ?B/s]"
      ]
     },
     "metadata": {},
     "output_type": "display_data"
    },
    {
     "name": "stdout",
     "output_type": "stream",
     "text": [
      "⠹ Processing Appliances "
     ]
    },
    {
     "data": {
      "application/vnd.jupyter.widget-view+json": {
       "model_id": "28ebadeee57941f3ab532288cabf1252",
       "version_major": 2,
       "version_minor": 0
      },
      "text/plain": [
       "Generating full split: 0 examples [00:00, ? examples/s]"
      ]
     },
     "metadata": {},
     "output_type": "display_data"
    },
    {
     "name": "stdout",
     "output_type": "stream",
     "text": [
      "⠹ Processing Appliances "
     ]
    },
    {
     "data": {
      "application/vnd.jupyter.widget-view+json": {
       "model_id": "a6c5e10b7c014a3c861cff4071ab264b",
       "version_major": 2,
       "version_minor": 0
      },
      "text/plain": [
       "Saving the dataset (0/1 shards):   0%|          | 0/94327 [00:00<?, ? examples/s]"
      ]
     },
     "metadata": {},
     "output_type": "display_data"
    },
    {
     "name": "stdout",
     "output_type": "stream",
     "text": [
      "[DONE] raw_meta_Appliances downloaded\n",
      "✅ Processing Appliances\n",
      "\n",
      "🎉 Download summary:\n",
      "  - Successfully processed: 1/1 categories\n",
      "Compressed reviews to: D:\\BigData\\raw_review_Appliances.tar.gz\n",
      "Compressed metadata to: D:\\BigData\\raw_meta_Appliances.tar.gz\n",
      "Error: File does not exist: D:\\BigData\\raw_review_Appliances\n",
      "Error: File does not exist: D:\\BigData\\raw_meta_Appliances\n",
      "\n",
      "------Processing Arts_Crafts_and_Sewing------\n",
      "⠙ Processing Arts_Crafts_and_Sewing "
     ]
    },
    {
     "data": {
      "application/vnd.jupyter.widget-view+json": {
       "model_id": "fcb61c95d2844ce09ae63c9f8b281b40",
       "version_major": 2,
       "version_minor": 0
      },
      "text/plain": [
       "Arts_Crafts_and_Sewing.jsonl:   0%|          | 0.00/3.95G [00:00<?, ?B/s]"
      ]
     },
     "metadata": {},
     "output_type": "display_data"
    },
    {
     "name": "stdout",
     "output_type": "stream",
     "text": [
      "⠏ Processing Arts_Crafts_and_Sewing "
     ]
    },
    {
     "data": {
      "application/vnd.jupyter.widget-view+json": {
       "model_id": "09ce3e7632134a318fb013be8684845b",
       "version_major": 2,
       "version_minor": 0
      },
      "text/plain": [
       "Generating full split: 0 examples [00:00, ? examples/s]"
      ]
     },
     "metadata": {},
     "output_type": "display_data"
    },
    {
     "name": "stdout",
     "output_type": "stream",
     "text": [
      "⠋ Processing Arts_Crafts_and_Sewing "
     ]
    },
    {
     "data": {
      "application/vnd.jupyter.widget-view+json": {
       "model_id": "3ff34e0324f84b339e24a06369695fdf",
       "version_major": 2,
       "version_minor": 0
      },
      "text/plain": [
       "Saving the dataset (0/6 shards):   0%|          | 0/8966758 [00:00<?, ? examples/s]"
      ]
     },
     "metadata": {},
     "output_type": "display_data"
    },
    {
     "name": "stdout",
     "output_type": "stream",
     "text": [
      "[DONE] raw_review_Arts_Crafts_and_Sewing downloaded\n",
      "⠋ Processing Arts_Crafts_and_Sewing "
     ]
    },
    {
     "data": {
      "application/vnd.jupyter.widget-view+json": {
       "model_id": "5a6909585e2949a1a8362aa2c54384ea",
       "version_major": 2,
       "version_minor": 0
      },
      "text/plain": [
       "meta_Arts_Crafts_and_Sewing.jsonl:   0%|          | 0.00/2.17G [00:00<?, ?B/s]"
      ]
     },
     "metadata": {},
     "output_type": "display_data"
    },
    {
     "name": "stdout",
     "output_type": "stream",
     "text": [
      "⠦ Processing Arts_Crafts_and_Sewing "
     ]
    },
    {
     "data": {
      "application/vnd.jupyter.widget-view+json": {
       "model_id": "5d5fcea5217e44dcacc390f5dbc29c7e",
       "version_major": 2,
       "version_minor": 0
      },
      "text/plain": [
       "Generating full split:   0%|          | 0/801446 [00:00<?, ? examples/s]"
      ]
     },
     "metadata": {},
     "output_type": "display_data"
    },
    {
     "name": "stdout",
     "output_type": "stream",
     "text": [
      "⠙ Processing Arts_Crafts_and_Sewing "
     ]
    },
    {
     "data": {
      "application/vnd.jupyter.widget-view+json": {
       "model_id": "090e221a35c24591b170b81c6efca6bf",
       "version_major": 2,
       "version_minor": 0
      },
      "text/plain": [
       "Saving the dataset (0/4 shards):   0%|          | 0/801446 [00:00<?, ? examples/s]"
      ]
     },
     "metadata": {},
     "output_type": "display_data"
    },
    {
     "name": "stdout",
     "output_type": "stream",
     "text": [
      "[DONE] raw_meta_Arts_Crafts_and_Sewing downloaded\n",
      "✅ Processing Arts_Crafts_and_Sewing\n",
      "\n",
      "🎉 Download summary:\n",
      "  - Successfully processed: 1/1 categories\n",
      "Compressed reviews to: D:\\BigData\\raw_review_Arts_Crafts_and_Sewing.tar.gz\n",
      "Compressed metadata to: D:\\BigData\\raw_meta_Arts_Crafts_and_Sewing.tar.gz\n",
      "Error: File does not exist: D:\\BigData\\raw_review_Arts_Crafts_and_Sewing\n",
      "Error: File does not exist: D:\\BigData\\raw_meta_Arts_Crafts_and_Sewing\n",
      "\n",
      "------Processing Automotive------\n",
      "⠇ Processing Automotive "
     ]
    },
    {
     "data": {
      "application/vnd.jupyter.widget-view+json": {
       "model_id": "ace33163109f4b4492a100309937fa8e",
       "version_major": 2,
       "version_minor": 0
      },
      "text/plain": [
       "Automotive.jsonl:   0%|          | 0.00/8.73G [00:00<?, ?B/s]"
      ]
     },
     "metadata": {},
     "output_type": "display_data"
    },
    {
     "name": "stdout",
     "output_type": "stream",
     "text": [
      "⠹ Processing Automotive "
     ]
    },
    {
     "data": {
      "application/vnd.jupyter.widget-view+json": {
       "model_id": "8d9a0c9ba4d5447fa629a9b8256cd700",
       "version_major": 2,
       "version_minor": 0
      },
      "text/plain": [
       "Generating full split: 0 examples [00:00, ? examples/s]"
      ]
     },
     "metadata": {},
     "output_type": "display_data"
    },
    {
     "name": "stdout",
     "output_type": "stream",
     "text": [
      "⠏ Processing Automotive "
     ]
    },
    {
     "data": {
      "application/vnd.jupyter.widget-view+json": {
       "model_id": "2a19d126f8324be3bc31feec2596b537",
       "version_major": 2,
       "version_minor": 0
      },
      "text/plain": [
       "Saving the dataset (0/13 shards):   0%|          | 0/19955450 [00:00<?, ? examples/s]"
      ]
     },
     "metadata": {},
     "output_type": "display_data"
    },
    {
     "name": "stdout",
     "output_type": "stream",
     "text": [
      "[DONE] raw_review_Automotive downloaded\n",
      "⠦ Processing Automotive "
     ]
    },
    {
     "data": {
      "application/vnd.jupyter.widget-view+json": {
       "model_id": "e1b5c72ca0314039a434ff0090bd003a",
       "version_major": 2,
       "version_minor": 0
      },
      "text/plain": [
       "meta_Automotive.jsonl:   0%|          | 0.00/5.35G [00:00<?, ?B/s]"
      ]
     },
     "metadata": {},
     "output_type": "display_data"
    },
    {
     "name": "stdout",
     "output_type": "stream",
     "text": [
      "⠼ Processing Automotive "
     ]
    },
    {
     "data": {
      "application/vnd.jupyter.widget-view+json": {
       "model_id": "3a31ebf45bff4669b6c312c57d0fab09",
       "version_major": 2,
       "version_minor": 0
      },
      "text/plain": [
       "Generating full split: 0 examples [00:00, ? examples/s]"
      ]
     },
     "metadata": {},
     "output_type": "display_data"
    },
    {
     "name": "stdout",
     "output_type": "stream",
     "text": [
      "⠼ Processing Automotive "
     ]
    },
    {
     "data": {
      "application/vnd.jupyter.widget-view+json": {
       "model_id": "246ab204cdb848bcad6eaed5dcb3ac24",
       "version_major": 2,
       "version_minor": 0
      },
      "text/plain": [
       "Saving the dataset (0/10 shards):   0%|          | 0/2003129 [00:00<?, ? examples/s]"
      ]
     },
     "metadata": {},
     "output_type": "display_data"
    },
    {
     "name": "stdout",
     "output_type": "stream",
     "text": [
      "[DONE] raw_meta_Automotive downloaded\n",
      "✅ Processing Automotive\n",
      "\n",
      "🎉 Download summary:\n",
      "  - Successfully processed: 1/1 categories\n",
      "Compressed reviews to: D:\\BigData\\raw_review_Automotive.tar.gz\n",
      "Compressed metadata to: D:\\BigData\\raw_meta_Automotive.tar.gz\n",
      "Error: File does not exist: D:\\BigData\\raw_review_Automotive\n",
      "Error: File does not exist: D:\\BigData\\raw_meta_Automotive\n",
      "\n",
      "------Processing Baby_Products------\n",
      "⠋ Processing Baby_Products "
     ]
    },
    {
     "data": {
      "application/vnd.jupyter.widget-view+json": {
       "model_id": "edbac3825c0b4830a99cf1dd60b7c456",
       "version_major": 2,
       "version_minor": 0
      },
      "text/plain": [
       "Baby_Products.jsonl:   0%|          | 0.00/2.95G [00:00<?, ?B/s]"
      ]
     },
     "metadata": {},
     "output_type": "display_data"
    },
    {
     "name": "stdout",
     "output_type": "stream",
     "text": [
      "⠼ Processing Baby_Products "
     ]
    },
    {
     "data": {
      "application/vnd.jupyter.widget-view+json": {
       "model_id": "1c4e0463447f44e096f5150f93951a6c",
       "version_major": 2,
       "version_minor": 0
      },
      "text/plain": [
       "Generating full split: 0 examples [00:00, ? examples/s]"
      ]
     },
     "metadata": {},
     "output_type": "display_data"
    },
    {
     "name": "stdout",
     "output_type": "stream",
     "text": [
      "⠇ Processing Baby_Products "
     ]
    },
    {
     "data": {
      "application/vnd.jupyter.widget-view+json": {
       "model_id": "ecda2236b34042ecb3c1f3195b61529a",
       "version_major": 2,
       "version_minor": 0
      },
      "text/plain": [
       "Saving the dataset (0/5 shards):   0%|          | 0/6028884 [00:00<?, ? examples/s]"
      ]
     },
     "metadata": {},
     "output_type": "display_data"
    },
    {
     "name": "stdout",
     "output_type": "stream",
     "text": [
      "[DONE] raw_review_Baby_Products downloaded\n",
      "⠇ Processing Baby_Products "
     ]
    },
    {
     "data": {
      "application/vnd.jupyter.widget-view+json": {
       "model_id": "1ab13e7d79d94c4ebb5bccd21a506e0d",
       "version_major": 2,
       "version_minor": 0
      },
      "text/plain": [
       "meta_Baby_Products.jsonl:   0%|          | 0.00/691M [00:00<?, ?B/s]"
      ]
     },
     "metadata": {},
     "output_type": "display_data"
    },
    {
     "name": "stdout",
     "output_type": "stream",
     "text": [
      "⠸ Processing Baby_Products "
     ]
    },
    {
     "data": {
      "application/vnd.jupyter.widget-view+json": {
       "model_id": "000738626fda42e1ab82d740b5e1f6ed",
       "version_major": 2,
       "version_minor": 0
      },
      "text/plain": [
       "Generating full split: 0 examples [00:00, ? examples/s]"
      ]
     },
     "metadata": {},
     "output_type": "display_data"
    },
    {
     "name": "stdout",
     "output_type": "stream",
     "text": [
      "⠇ Processing Baby_Products "
     ]
    },
    {
     "data": {
      "application/vnd.jupyter.widget-view+json": {
       "model_id": "fdc3097b28554cb2b18b360a1aa420df",
       "version_major": 2,
       "version_minor": 0
      },
      "text/plain": [
       "Saving the dataset (0/2 shards):   0%|          | 0/217724 [00:00<?, ? examples/s]"
      ]
     },
     "metadata": {},
     "output_type": "display_data"
    },
    {
     "name": "stdout",
     "output_type": "stream",
     "text": [
      "[DONE] raw_meta_Baby_Products downloaded\n",
      "✅ Processing Baby_Products\n",
      "\n",
      "🎉 Download summary:\n",
      "  - Successfully processed: 1/1 categories\n",
      "Compressed reviews to: D:\\BigData\\raw_review_Baby_Products.tar.gz\n",
      "Compressed metadata to: D:\\BigData\\raw_meta_Baby_Products.tar.gz\n",
      "Error: File does not exist: D:\\BigData\\raw_review_Baby_Products\n",
      "Error: File does not exist: D:\\BigData\\raw_meta_Baby_Products\n",
      "\n",
      "------Processing Beauty_and_Personal_Care------\n",
      "⠴ Processing Beauty_and_Personal_Care "
     ]
    },
    {
     "data": {
      "application/vnd.jupyter.widget-view+json": {
       "model_id": "3472d2bf0ab34390b86ea290ccd3d8e1",
       "version_major": 2,
       "version_minor": 0
      },
      "text/plain": [
       "Beauty_and_Personal_Care.jsonl:   0%|          | 0.00/11.0G [00:00<?, ?B/s]"
      ]
     },
     "metadata": {},
     "output_type": "display_data"
    },
    {
     "name": "stdout",
     "output_type": "stream",
     "text": [
      "⠋ Processing Beauty_and_Personal_Care "
     ]
    },
    {
     "data": {
      "application/vnd.jupyter.widget-view+json": {
       "model_id": "0d7076929977424591bcb461c4f581d6",
       "version_major": 2,
       "version_minor": 0
      },
      "text/plain": [
       "Generating full split: 0 examples [00:00, ? examples/s]"
      ]
     },
     "metadata": {},
     "output_type": "display_data"
    },
    {
     "name": "stdout",
     "output_type": "stream",
     "text": [
      "⠹ Processing Beauty_and_Personal_Care "
     ]
    },
    {
     "data": {
      "application/vnd.jupyter.widget-view+json": {
       "model_id": "0e063dbcbc5244cd86e81615f9892a60",
       "version_major": 2,
       "version_minor": 0
      },
      "text/plain": [
       "Saving the dataset (0/16 shards):   0%|          | 0/23911390 [00:00<?, ? examples/s]"
      ]
     },
     "metadata": {},
     "output_type": "display_data"
    },
    {
     "name": "stdout",
     "output_type": "stream",
     "text": [
      "[DONE] raw_review_Beauty_and_Personal_Care downloaded\n",
      "💥 Processing Beauty_and_Personal_Care\n",
      "Failed to process category 'Beauty_and_Personal_Care': (ReadTimeoutError(\"HTTPSConnectionPool(host='cdn-lfs-us-1.hf.co', port=443): Read timed out. (read timeout=10)\"), '(Request ID: 8a0b3603-fc76-4cb4-8eac-ed1d106f99e2)')\n",
      "\n",
      "🎉 Download summary:\n",
      "  - Successfully processed: 0/1 categories\n",
      "  - Failed: 1/1 categories\n",
      "    - Beauty_and_Personal_Care: (ReadTimeoutError(\"HTTPSConnectionPool(host='cdn-lfs-us-1.hf.co', port=443): Read timed out. (read timeout=10)\"), '(Request ID: 8a0b3603-fc76-4cb4-8eac-ed1d106f99e2)')\n",
      "Compressed reviews to: D:\\BigData\\raw_review_Beauty_and_Personal_Care.tar.gz\n",
      "Error: File does not exist: D:\\BigData\\raw_review_Beauty_and_Personal_Care\n",
      "Error: File does not exist: D:\\BigData\\raw_meta_Beauty_and_Personal_Care\n",
      "\n",
      "------Processing Books------\n",
      "⠹ Processing Books "
     ]
    },
    {
     "data": {
      "application/vnd.jupyter.widget-view+json": {
       "model_id": "a5fa26ee293b4781a77734e47fa4a17b",
       "version_major": 2,
       "version_minor": 0
      },
      "text/plain": [
       "Books.jsonl:   0%|          | 0.00/20.1G [00:00<?, ?B/s]"
      ]
     },
     "metadata": {},
     "output_type": "display_data"
    },
    {
     "name": "stdout",
     "output_type": "stream",
     "text": [
      "⠴ Processing Books "
     ]
    },
    {
     "data": {
      "application/vnd.jupyter.widget-view+json": {
       "model_id": "b6e36aa12c934057b41d7fbfc5461c43",
       "version_major": 2,
       "version_minor": 0
      },
      "text/plain": [
       "Generating full split: 0 examples [00:00, ? examples/s]"
      ]
     },
     "metadata": {},
     "output_type": "display_data"
    },
    {
     "name": "stdout",
     "output_type": "stream",
     "text": [
      "⠧ Processing Books "
     ]
    },
    {
     "data": {
      "application/vnd.jupyter.widget-view+json": {
       "model_id": "c0b1f40a21f8495299f4aaa6805421e0",
       "version_major": 2,
       "version_minor": 0
      },
      "text/plain": [
       "Loading dataset shards:   0%|          | 0/33 [00:00<?, ?it/s]"
      ]
     },
     "metadata": {},
     "output_type": "display_data"
    },
    {
     "name": "stdout",
     "output_type": "stream",
     "text": [
      "⠏ Processing Books "
     ]
    },
    {
     "data": {
      "application/vnd.jupyter.widget-view+json": {
       "model_id": "0129480331194c45af61bae16602f30d",
       "version_major": 2,
       "version_minor": 0
      },
      "text/plain": [
       "Saving the dataset (0/33 shards):   0%|          | 0/29475453 [00:00<?, ? examples/s]"
      ]
     },
     "metadata": {},
     "output_type": "display_data"
    },
    {
     "name": "stdout",
     "output_type": "stream",
     "text": [
      "[DONE] raw_review_Books downloaded\n",
      "💥 Processing Books\n",
      "Failed to process category 'Books': (ReadTimeoutError(\"HTTPSConnectionPool(host='cdn-lfs-us-1.hf.co', port=443): Read timed out. (read timeout=10)\"), '(Request ID: 61c09b40-fd95-4b41-84e6-3c79264802bd)')\n",
      "\n",
      "🎉 Download summary:\n",
      "  - Successfully processed: 0/1 categories\n",
      "  - Failed: 1/1 categories\n",
      "    - Books: (ReadTimeoutError(\"HTTPSConnectionPool(host='cdn-lfs-us-1.hf.co', port=443): Read timed out. (read timeout=10)\"), '(Request ID: 61c09b40-fd95-4b41-84e6-3c79264802bd)')\n",
      "Compressed reviews to: D:\\BigData\\raw_review_Books.tar.gz\n",
      "Error: File does not exist: D:\\BigData\\raw_review_Books\n",
      "Error: File does not exist: D:\\BigData\\raw_meta_Books\n",
      "\n",
      "------Processing CDs_and_Vinyl------\n",
      "⠹ Processing CDs_and_Vinyl "
     ]
    },
    {
     "data": {
      "application/vnd.jupyter.widget-view+json": {
       "model_id": "3f1a26a5e80b4d8fa5e9ba9f90eec679",
       "version_major": 2,
       "version_minor": 0
      },
      "text/plain": [
       "CDs_and_Vinyl.jsonl:   0%|          | 0.00/3.29G [00:00<?, ?B/s]"
      ]
     },
     "metadata": {},
     "output_type": "display_data"
    },
    {
     "name": "stdout",
     "output_type": "stream",
     "text": [
      "⠋ Processing CDs_and_Vinyl "
     ]
    },
    {
     "data": {
      "application/vnd.jupyter.widget-view+json": {
       "model_id": "c3dc9fce3b5a4b16993a5cd1f5151e3c",
       "version_major": 2,
       "version_minor": 0
      },
      "text/plain": [
       "Generating full split: 0 examples [00:00, ? examples/s]"
      ]
     },
     "metadata": {},
     "output_type": "display_data"
    },
    {
     "name": "stdout",
     "output_type": "stream",
     "text": [
      "⠹ Processing CDs_and_Vinyl "
     ]
    },
    {
     "data": {
      "application/vnd.jupyter.widget-view+json": {
       "model_id": "6d21654013d1470590bae587a3ec0f2d",
       "version_major": 2,
       "version_minor": 0
      },
      "text/plain": [
       "Saving the dataset (0/6 shards):   0%|          | 0/4827273 [00:00<?, ? examples/s]"
      ]
     },
     "metadata": {},
     "output_type": "display_data"
    },
    {
     "name": "stdout",
     "output_type": "stream",
     "text": [
      "[DONE] raw_review_CDs_and_Vinyl downloaded\n",
      "⠧ Processing CDs_and_Vinyl "
     ]
    },
    {
     "data": {
      "application/vnd.jupyter.widget-view+json": {
       "model_id": "5d480a59bf25492fbd25249740664c59",
       "version_major": 2,
       "version_minor": 0
      },
      "text/plain": [
       "meta_CDs_and_Vinyl.jsonl:   0%|          | 0.00/949M [00:00<?, ?B/s]"
      ]
     },
     "metadata": {},
     "output_type": "display_data"
    },
    {
     "name": "stdout",
     "output_type": "stream",
     "text": [
      "⠴ Processing CDs_and_Vinyl "
     ]
    },
    {
     "data": {
      "application/vnd.jupyter.widget-view+json": {
       "model_id": "a152ec397b6f4c0d8169a3eeb6941986",
       "version_major": 2,
       "version_minor": 0
      },
      "text/plain": [
       "Generating full split: 0 examples [00:00, ? examples/s]"
      ]
     },
     "metadata": {},
     "output_type": "display_data"
    },
    {
     "name": "stdout",
     "output_type": "stream",
     "text": [
      "⠹ Processing CDs_and_Vinyl "
     ]
    },
    {
     "data": {
      "application/vnd.jupyter.widget-view+json": {
       "model_id": "98ce9d8776ba4876b9a0f6291392e918",
       "version_major": 2,
       "version_minor": 0
      },
      "text/plain": [
       "Saving the dataset (0/2 shards):   0%|          | 0/701959 [00:00<?, ? examples/s]"
      ]
     },
     "metadata": {},
     "output_type": "display_data"
    },
    {
     "name": "stdout",
     "output_type": "stream",
     "text": [
      "[DONE] raw_meta_CDs_and_Vinyl downloaded\n",
      "✅ Processing CDs_and_Vinyl\n",
      "\n",
      "🎉 Download summary:\n",
      "  - Successfully processed: 1/1 categories\n",
      "Compressed reviews to: D:\\BigData\\raw_review_CDs_and_Vinyl.tar.gz\n",
      "Compressed metadata to: D:\\BigData\\raw_meta_CDs_and_Vinyl.tar.gz\n",
      "Error: File does not exist: D:\\BigData\\raw_review_CDs_and_Vinyl\n",
      "Error: File does not exist: D:\\BigData\\raw_meta_CDs_and_Vinyl\n",
      "\n",
      "------Processing Cell_Phones_and_Accessories------\n",
      "⠙ Processing Cell_Phones_and_Accessories "
     ]
    },
    {
     "data": {
      "application/vnd.jupyter.widget-view+json": {
       "model_id": "cbdfbb17d79944639f92e339a5d20b94",
       "version_major": 2,
       "version_minor": 0
      },
      "text/plain": [
       "Cell_Phones_and_Accessories.jsonl:   0%|          | 0.00/9.34G [00:00<?, ?B/s]"
      ]
     },
     "metadata": {},
     "output_type": "display_data"
    },
    {
     "name": "stdout",
     "output_type": "stream",
     "text": [
      "⠸ Processing Cell_Phones_and_Accessories "
     ]
    },
    {
     "data": {
      "application/vnd.jupyter.widget-view+json": {
       "model_id": "75d4b026628d4ed7aa206c2ab3a2e097",
       "version_major": 2,
       "version_minor": 0
      },
      "text/plain": [
       "Generating full split: 0 examples [00:00, ? examples/s]"
      ]
     },
     "metadata": {},
     "output_type": "display_data"
    },
    {
     "name": "stdout",
     "output_type": "stream",
     "text": [
      "⠇ Processing Cell_Phones_and_Accessories "
     ]
    },
    {
     "data": {
      "application/vnd.jupyter.widget-view+json": {
       "model_id": "ab6870fb4bbf4dfa8cba7897ff74119f",
       "version_major": 2,
       "version_minor": 0
      },
      "text/plain": [
       "Saving the dataset (0/14 shards):   0%|          | 0/20812945 [00:00<?, ? examples/s]"
      ]
     },
     "metadata": {},
     "output_type": "display_data"
    },
    {
     "name": "stdout",
     "output_type": "stream",
     "text": [
      "[DONE] raw_review_Cell_Phones_and_Accessories downloaded\n",
      "💥 Processing Cell_Phones_and_Accessories\n",
      "Failed to process category 'Cell_Phones_and_Accessories': (ReadTimeoutError(\"HTTPSConnectionPool(host='cdn-lfs-us-1.hf.co', port=443): Read timed out. (read timeout=10)\"), '(Request ID: 98b0bd5d-4953-4ed3-bb4d-44c7b78880ed)')\n",
      "\n",
      "🎉 Download summary:\n",
      "  - Successfully processed: 0/1 categories\n",
      "  - Failed: 1/1 categories\n",
      "    - Cell_Phones_and_Accessories: (ReadTimeoutError(\"HTTPSConnectionPool(host='cdn-lfs-us-1.hf.co', port=443): Read timed out. (read timeout=10)\"), '(Request ID: 98b0bd5d-4953-4ed3-bb4d-44c7b78880ed)')\n",
      "Compressed reviews to: D:\\BigData\\raw_review_Cell_Phones_and_Accessories.tar.gz\n",
      "Error: File does not exist: D:\\BigData\\raw_review_Cell_Phones_and_Accessories\n",
      "Error: File does not exist: D:\\BigData\\raw_meta_Cell_Phones_and_Accessories\n",
      "\n",
      "------Processing Clothing_Shoes_and_Jewelry------\n",
      "⠙ Processing Clothing_Shoes_and_Jewelry "
     ]
    },
    {
     "data": {
      "application/vnd.jupyter.widget-view+json": {
       "model_id": "93df69c2625e4578b3ffe027a89b4ddc",
       "version_major": 2,
       "version_minor": 0
      },
      "text/plain": [
       "Clothing_Shoes_and_Jewelry.jsonl:   0%|          | 0.00/27.8G [00:00<?, ?B/s]"
      ]
     },
     "metadata": {},
     "output_type": "display_data"
    },
    {
     "name": "stdout",
     "output_type": "stream",
     "text": [
      "⠦ Processing Clothing_Shoes_and_Jewelry "
     ]
    },
    {
     "data": {
      "application/vnd.jupyter.widget-view+json": {
       "model_id": "666413b7bc784a46b5f8c98ab5cd90dc",
       "version_major": 2,
       "version_minor": 0
      },
      "text/plain": [
       "Generating full split: 0 examples [00:00, ? examples/s]"
      ]
     },
     "metadata": {},
     "output_type": "display_data"
    },
    {
     "name": "stdout",
     "output_type": "stream",
     "text": [
      "⠋ Processing Clothing_Shoes_and_Jewelry "
     ]
    },
    {
     "data": {
      "application/vnd.jupyter.widget-view+json": {
       "model_id": "87f4af2666354a0092334680f4254fd2",
       "version_major": 2,
       "version_minor": 0
      },
      "text/plain": [
       "Loading dataset shards:   0%|          | 0/38 [00:00<?, ?it/s]"
      ]
     },
     "metadata": {},
     "output_type": "display_data"
    },
    {
     "name": "stdout",
     "output_type": "stream",
     "text": [
      "⠧ Processing Clothing_Shoes_and_Jewelry "
     ]
    },
    {
     "data": {
      "application/vnd.jupyter.widget-view+json": {
       "model_id": "cfd0658bdbf54a07934f45b88f72c5f1",
       "version_major": 2,
       "version_minor": 0
      },
      "text/plain": [
       "Saving the dataset (0/38 shards):   0%|          | 0/66033346 [00:00<?, ? examples/s]"
      ]
     },
     "metadata": {},
     "output_type": "display_data"
    },
    {
     "name": "stdout",
     "output_type": "stream",
     "text": [
      "[DONE] raw_review_Clothing_Shoes_and_Jewelry downloaded\n",
      "💥 Processing Clothing_Shoes_and_Jewelry\n",
      "Failed to process category 'Clothing_Shoes_and_Jewelry': (ReadTimeoutError(\"HTTPSConnectionPool(host='cdn-lfs-us-1.hf.co', port=443): Read timed out. (read timeout=10)\"), '(Request ID: d5424aaf-eddb-4e2c-8a1f-49e884d50a30)')\n",
      "\n",
      "🎉 Download summary:\n",
      "  - Successfully processed: 0/1 categories\n",
      "  - Failed: 1/1 categories\n",
      "    - Clothing_Shoes_and_Jewelry: (ReadTimeoutError(\"HTTPSConnectionPool(host='cdn-lfs-us-1.hf.co', port=443): Read timed out. (read timeout=10)\"), '(Request ID: d5424aaf-eddb-4e2c-8a1f-49e884d50a30)')\n",
      "Compressed reviews to: D:\\BigData\\raw_review_Clothing_Shoes_and_Jewelry.tar.gz\n",
      "Error: File does not exist: D:\\BigData\\raw_review_Clothing_Shoes_and_Jewelry\n",
      "Error: File does not exist: D:\\BigData\\raw_meta_Clothing_Shoes_and_Jewelry\n",
      "\n",
      "------Processing Digital_Music------\n",
      "⠸ Processing Digital_Music "
     ]
    },
    {
     "data": {
      "application/vnd.jupyter.widget-view+json": {
       "model_id": "400feacb1b514f168b6bf9928a0e87e8",
       "version_major": 2,
       "version_minor": 0
      },
      "text/plain": [
       "Digital_Music.jsonl:   0%|          | 0.00/78.8M [00:00<?, ?B/s]"
      ]
     },
     "metadata": {},
     "output_type": "display_data"
    },
    {
     "name": "stdout",
     "output_type": "stream",
     "text": [
      "⠹ Processing Digital_Music "
     ]
    },
    {
     "data": {
      "application/vnd.jupyter.widget-view+json": {
       "model_id": "0bf14154b9854c3ab9de4d627b2d842e",
       "version_major": 2,
       "version_minor": 0
      },
      "text/plain": [
       "Generating full split: 0 examples [00:00, ? examples/s]"
      ]
     },
     "metadata": {},
     "output_type": "display_data"
    },
    {
     "name": "stdout",
     "output_type": "stream",
     "text": [
      "⠹ Processing Digital_Music "
     ]
    },
    {
     "data": {
      "application/vnd.jupyter.widget-view+json": {
       "model_id": "5b830ff038cc49a6b9d2be3beef24b89",
       "version_major": 2,
       "version_minor": 0
      },
      "text/plain": [
       "Saving the dataset (0/1 shards):   0%|          | 0/130434 [00:00<?, ? examples/s]"
      ]
     },
     "metadata": {},
     "output_type": "display_data"
    },
    {
     "name": "stdout",
     "output_type": "stream",
     "text": [
      "[DONE] raw_review_Digital_Music downloaded\n",
      "⠋ Processing Digital_Music "
     ]
    },
    {
     "data": {
      "application/vnd.jupyter.widget-view+json": {
       "model_id": "f31f470a3fce4bc9b9080e0309bbc2aa",
       "version_major": 2,
       "version_minor": 0
      },
      "text/plain": [
       "meta_Digital_Music.jsonl:   0%|          | 0.00/67.1M [00:00<?, ?B/s]"
      ]
     },
     "metadata": {},
     "output_type": "display_data"
    },
    {
     "name": "stdout",
     "output_type": "stream",
     "text": [
      "⠹ Processing Digital_Music "
     ]
    },
    {
     "data": {
      "application/vnd.jupyter.widget-view+json": {
       "model_id": "060eeb67d2494abab47c15d3c7d2b447",
       "version_major": 2,
       "version_minor": 0
      },
      "text/plain": [
       "Generating full split: 0 examples [00:00, ? examples/s]"
      ]
     },
     "metadata": {},
     "output_type": "display_data"
    },
    {
     "name": "stdout",
     "output_type": "stream",
     "text": [
      "⠙ Processing Digital_Music "
     ]
    },
    {
     "data": {
      "application/vnd.jupyter.widget-view+json": {
       "model_id": "3fb70c388db147c9944189659911c639",
       "version_major": 2,
       "version_minor": 0
      },
      "text/plain": [
       "Saving the dataset (0/1 shards):   0%|          | 0/70537 [00:00<?, ? examples/s]"
      ]
     },
     "metadata": {},
     "output_type": "display_data"
    },
    {
     "name": "stdout",
     "output_type": "stream",
     "text": [
      "[DONE] raw_meta_Digital_Music downloaded\n",
      "✅ Processing Digital_Music \n",
      "\n",
      "🎉 Download summary:\n",
      "  - Successfully processed: 1/1 categories\n",
      "Compressed reviews to: D:\\BigData\\raw_review_Digital_Music.tar.gz\n",
      "Compressed metadata to: D:\\BigData\\raw_meta_Digital_Music.tar.gz\n",
      "Error: File does not exist: D:\\BigData\\raw_review_Digital_Music\n",
      "Error: File does not exist: D:\\BigData\\raw_meta_Digital_Music\n",
      "\n",
      "------Processing Electronics------\n",
      "⠹ Processing Electronics "
     ]
    },
    {
     "data": {
      "application/vnd.jupyter.widget-view+json": {
       "model_id": "666693adffca4008850dc61feb24a11a",
       "version_major": 2,
       "version_minor": 0
      },
      "text/plain": [
       "Electronics.jsonl:   0%|          | 0.00/22.6G [00:00<?, ?B/s]"
      ]
     },
     "metadata": {},
     "output_type": "display_data"
    },
    {
     "name": "stdout",
     "output_type": "stream",
     "text": [
      "⠼ Processing Electronics "
     ]
    },
    {
     "data": {
      "application/vnd.jupyter.widget-view+json": {
       "model_id": "f81615c4e3a543eab2586d3dcfcaffbd",
       "version_major": 2,
       "version_minor": 0
      },
      "text/plain": [
       "Generating full split: 0 examples [00:00, ? examples/s]"
      ]
     },
     "metadata": {},
     "output_type": "display_data"
    },
    {
     "name": "stdout",
     "output_type": "stream",
     "text": [
      "⠋ Processing Electronics "
     ]
    },
    {
     "data": {
      "application/vnd.jupyter.widget-view+json": {
       "model_id": "3d46ea91f8b34dcfa5635eb72ed21861",
       "version_major": 2,
       "version_minor": 0
      },
      "text/plain": [
       "Loading dataset shards:   0%|          | 0/34 [00:00<?, ?it/s]"
      ]
     },
     "metadata": {},
     "output_type": "display_data"
    },
    {
     "name": "stdout",
     "output_type": "stream",
     "text": [
      "⠋ Processing Electronics "
     ]
    },
    {
     "data": {
      "application/vnd.jupyter.widget-view+json": {
       "model_id": "c68cdbffc06d4e7eaf1225ebdd487fc6",
       "version_major": 2,
       "version_minor": 0
      },
      "text/plain": [
       "Saving the dataset (0/34 shards):   0%|          | 0/43886944 [00:00<?, ? examples/s]"
      ]
     },
     "metadata": {},
     "output_type": "display_data"
    },
    {
     "name": "stdout",
     "output_type": "stream",
     "text": [
      "[DONE] raw_review_Electronics downloaded\n",
      "💥 Processing Electronics\n",
      "Failed to process category 'Electronics': (ReadTimeoutError(\"HTTPSConnectionPool(host='cdn-lfs-us-1.hf.co', port=443): Read timed out. (read timeout=10)\"), '(Request ID: b77d8c16-1906-4c3d-890a-b78b076383e9)')\n",
      "\n",
      "🎉 Download summary:\n",
      "  - Successfully processed: 0/1 categories\n",
      "  - Failed: 1/1 categories\n",
      "    - Electronics: (ReadTimeoutError(\"HTTPSConnectionPool(host='cdn-lfs-us-1.hf.co', port=443): Read timed out. (read timeout=10)\"), '(Request ID: b77d8c16-1906-4c3d-890a-b78b076383e9)')\n",
      "Compressed reviews to: D:\\BigData\\raw_review_Electronics.tar.gz\n",
      "Error: File does not exist: D:\\BigData\\raw_review_Electronics\n",
      "Error: File does not exist: D:\\BigData\\raw_meta_Electronics\n",
      "\n",
      "------Processing Gift_Cards------\n",
      "⠹ Processing Gift_Cards "
     ]
    },
    {
     "data": {
      "application/vnd.jupyter.widget-view+json": {
       "model_id": "b3966ff28ce247aa93c176d24571c740",
       "version_major": 2,
       "version_minor": 0
      },
      "text/plain": [
       "Gift_Cards.jsonl:   0%|          | 0.00/50.2M [00:00<?, ?B/s]"
      ]
     },
     "metadata": {},
     "output_type": "display_data"
    },
    {
     "name": "stdout",
     "output_type": "stream",
     "text": [
      "⠸ Processing Gift_Cards "
     ]
    },
    {
     "data": {
      "application/vnd.jupyter.widget-view+json": {
       "model_id": "498b641a66064edd948c884e2b9f2d86",
       "version_major": 2,
       "version_minor": 0
      },
      "text/plain": [
       "Generating full split: 0 examples [00:00, ? examples/s]"
      ]
     },
     "metadata": {},
     "output_type": "display_data"
    },
    {
     "name": "stdout",
     "output_type": "stream",
     "text": [
      "⠼ Processing Gift_Cards "
     ]
    },
    {
     "data": {
      "application/vnd.jupyter.widget-view+json": {
       "model_id": "5277e3faca5d447cbc9e0418dc9e9548",
       "version_major": 2,
       "version_minor": 0
      },
      "text/plain": [
       "Saving the dataset (0/1 shards):   0%|          | 0/152410 [00:00<?, ? examples/s]"
      ]
     },
     "metadata": {},
     "output_type": "display_data"
    },
    {
     "name": "stdout",
     "output_type": "stream",
     "text": [
      "[DONE] raw_review_Gift_Cards downloaded\n",
      "⠼ Processing Gift_Cards "
     ]
    },
    {
     "data": {
      "application/vnd.jupyter.widget-view+json": {
       "model_id": "5be1792727484fc68f4f8c52e9e79261",
       "version_major": 2,
       "version_minor": 0
      },
      "text/plain": [
       "meta_Gift_Cards.jsonl:   0%|          | 0.00/2.04M [00:00<?, ?B/s]"
      ]
     },
     "metadata": {},
     "output_type": "display_data"
    },
    {
     "name": "stdout",
     "output_type": "stream",
     "text": [
      "⠦ Processing Gift_Cards "
     ]
    },
    {
     "data": {
      "application/vnd.jupyter.widget-view+json": {
       "model_id": "6b553c047fee4835b5733b4613716811",
       "version_major": 2,
       "version_minor": 0
      },
      "text/plain": [
       "Generating full split:   0%|          | 0/1137 [00:00<?, ? examples/s]"
      ]
     },
     "metadata": {},
     "output_type": "display_data"
    },
    {
     "name": "stdout",
     "output_type": "stream",
     "text": [
      "⠇ Processing Gift_Cards "
     ]
    },
    {
     "data": {
      "application/vnd.jupyter.widget-view+json": {
       "model_id": "7a383a9c5d9b4deeb5410814c3ffe584",
       "version_major": 2,
       "version_minor": 0
      },
      "text/plain": [
       "Saving the dataset (0/1 shards):   0%|          | 0/1137 [00:00<?, ? examples/s]"
      ]
     },
     "metadata": {},
     "output_type": "display_data"
    },
    {
     "name": "stdout",
     "output_type": "stream",
     "text": [
      "[DONE] raw_meta_Gift_Cards downloaded\n",
      "✅ Processing Gift_Cards\n",
      "\n",
      "🎉 Download summary:\n",
      "  - Successfully processed: 1/1 categories\n",
      "Compressed reviews to: D:\\BigData\\raw_review_Gift_Cards.tar.gz\n",
      "Compressed metadata to: D:\\BigData\\raw_meta_Gift_Cards.tar.gz\n",
      "Error: File does not exist: D:\\BigData\\raw_review_Gift_Cards\n",
      "Error: File does not exist: D:\\BigData\\raw_meta_Gift_Cards\n",
      "\n",
      "------Processing Grocery_and_Gourmet_Food------\n",
      "⠦ Processing Grocery_and_Gourmet_Food "
     ]
    },
    {
     "data": {
      "application/vnd.jupyter.widget-view+json": {
       "model_id": "fe8be664fcb24190849e9016992857fe",
       "version_major": 2,
       "version_minor": 0
      },
      "text/plain": [
       "Grocery_and_Gourmet_Food.jsonl:   0%|          | 0.00/5.97G [00:00<?, ?B/s]"
      ]
     },
     "metadata": {},
     "output_type": "display_data"
    },
    {
     "name": "stdout",
     "output_type": "stream",
     "text": [
      "⠇ Processing Grocery_and_Gourmet_Food "
     ]
    },
    {
     "data": {
      "application/vnd.jupyter.widget-view+json": {
       "model_id": "d5d45a82a1884d33898d286777c44928",
       "version_major": 2,
       "version_minor": 0
      },
      "text/plain": [
       "Generating full split: 0 examples [00:00, ? examples/s]"
      ]
     },
     "metadata": {},
     "output_type": "display_data"
    },
    {
     "name": "stdout",
     "output_type": "stream",
     "text": [
      "⠋ Processing Grocery_and_Gourmet_Food "
     ]
    },
    {
     "data": {
      "application/vnd.jupyter.widget-view+json": {
       "model_id": "8a946449b0b146afa18374cae6cc8d58",
       "version_major": 2,
       "version_minor": 0
      },
      "text/plain": [
       "Saving the dataset (0/9 shards):   0%|          | 0/14318520 [00:00<?, ? examples/s]"
      ]
     },
     "metadata": {},
     "output_type": "display_data"
    },
    {
     "name": "stdout",
     "output_type": "stream",
     "text": [
      "[DONE] raw_review_Grocery_and_Gourmet_Food downloaded\n",
      "⠙ Processing Grocery_and_Gourmet_Food "
     ]
    },
    {
     "data": {
      "application/vnd.jupyter.widget-view+json": {
       "model_id": "1852f06c07ca437c9daf3efaf6a24b92",
       "version_major": 2,
       "version_minor": 0
      },
      "text/plain": [
       "meta_Grocery_and_Gourmet_Food.jsonl:   0%|          | 0.00/1.38G [00:00<?, ?B/s]"
      ]
     },
     "metadata": {},
     "output_type": "display_data"
    },
    {
     "name": "stdout",
     "output_type": "stream",
     "text": [
      "⠧ Processing Grocery_and_Gourmet_Food "
     ]
    },
    {
     "data": {
      "application/vnd.jupyter.widget-view+json": {
       "model_id": "8e692781a964471fad7f8b20e20b7bad",
       "version_major": 2,
       "version_minor": 0
      },
      "text/plain": [
       "Generating full split: 0 examples [00:00, ? examples/s]"
      ]
     },
     "metadata": {},
     "output_type": "display_data"
    },
    {
     "name": "stdout",
     "output_type": "stream",
     "text": [
      "⠧ Processing Grocery_and_Gourmet_Food "
     ]
    },
    {
     "data": {
      "application/vnd.jupyter.widget-view+json": {
       "model_id": "c20ab4e2e776499b85721bddc422ed82",
       "version_major": 2,
       "version_minor": 0
      },
      "text/plain": [
       "Saving the dataset (0/3 shards):   0%|          | 0/603274 [00:00<?, ? examples/s]"
      ]
     },
     "metadata": {},
     "output_type": "display_data"
    },
    {
     "name": "stdout",
     "output_type": "stream",
     "text": [
      "[DONE] raw_meta_Grocery_and_Gourmet_Food downloaded\n",
      "✅ Processing Grocery_and_Gourmet_Food\n",
      "\n",
      "🎉 Download summary:\n",
      "  - Successfully processed: 1/1 categories\n",
      "Compressed reviews to: D:\\BigData\\raw_review_Grocery_and_Gourmet_Food.tar.gz\n",
      "Compressed metadata to: D:\\BigData\\raw_meta_Grocery_and_Gourmet_Food.tar.gz\n",
      "Error: File does not exist: D:\\BigData\\raw_review_Grocery_and_Gourmet_Food\n",
      "Error: File does not exist: D:\\BigData\\raw_meta_Grocery_and_Gourmet_Food\n",
      "\n",
      "------Processing Handmade_Products------\n",
      "⠸ Processing Handmade_Products "
     ]
    },
    {
     "data": {
      "application/vnd.jupyter.widget-view+json": {
       "model_id": "8d3d30b56f12431f98e062395e698f70",
       "version_major": 2,
       "version_minor": 0
      },
      "text/plain": [
       "Handmade_Products.jsonl:   0%|          | 0.00/289M [00:00<?, ?B/s]"
      ]
     },
     "metadata": {},
     "output_type": "display_data"
    },
    {
     "name": "stdout",
     "output_type": "stream",
     "text": [
      "⠹ Processing Handmade_Products "
     ]
    },
    {
     "data": {
      "application/vnd.jupyter.widget-view+json": {
       "model_id": "49933de0c0a246f8a0aac53439f49156",
       "version_major": 2,
       "version_minor": 0
      },
      "text/plain": [
       "Generating full split: 0 examples [00:00, ? examples/s]"
      ]
     },
     "metadata": {},
     "output_type": "display_data"
    },
    {
     "name": "stdout",
     "output_type": "stream",
     "text": [
      "⠋ Processing Handmade_Products "
     ]
    },
    {
     "data": {
      "application/vnd.jupyter.widget-view+json": {
       "model_id": "c60090471d764ae6a1fd88f2afc12b3b",
       "version_major": 2,
       "version_minor": 0
      },
      "text/plain": [
       "Saving the dataset (0/1 shards):   0%|          | 0/664162 [00:00<?, ? examples/s]"
      ]
     },
     "metadata": {},
     "output_type": "display_data"
    },
    {
     "name": "stdout",
     "output_type": "stream",
     "text": [
      "[DONE] raw_review_Handmade_Products downloaded\n",
      "⠙ Processing Handmade_Products "
     ]
    },
    {
     "data": {
      "application/vnd.jupyter.widget-view+json": {
       "model_id": "0d27eb8d1a4844fcbcbf6ca9f7aebab6",
       "version_major": 2,
       "version_minor": 0
      },
      "text/plain": [
       "meta_Handmade_Products.jsonl:   0%|          | 0.00/399M [00:00<?, ?B/s]"
      ]
     },
     "metadata": {},
     "output_type": "display_data"
    },
    {
     "name": "stdout",
     "output_type": "stream",
     "text": [
      "⠧ Processing Handmade_Products "
     ]
    },
    {
     "data": {
      "application/vnd.jupyter.widget-view+json": {
       "model_id": "d15404d59987404f814c732d4af5beeb",
       "version_major": 2,
       "version_minor": 0
      },
      "text/plain": [
       "Generating full split:   0%|          | 0/164817 [00:00<?, ? examples/s]"
      ]
     },
     "metadata": {},
     "output_type": "display_data"
    },
    {
     "name": "stdout",
     "output_type": "stream",
     "text": [
      "⠙ Processing Handmade_Products "
     ]
    },
    {
     "data": {
      "application/vnd.jupyter.widget-view+json": {
       "model_id": "f5062e642d2a4a7dbd53a18c3ef18a30",
       "version_major": 2,
       "version_minor": 0
      },
      "text/plain": [
       "Saving the dataset (0/1 shards):   0%|          | 0/164817 [00:00<?, ? examples/s]"
      ]
     },
     "metadata": {},
     "output_type": "display_data"
    },
    {
     "name": "stdout",
     "output_type": "stream",
     "text": [
      "[DONE] raw_meta_Handmade_Products downloaded\n",
      "✅ Processing Handmade_Products\n",
      "\n",
      "🎉 Download summary:\n",
      "  - Successfully processed: 1/1 categories\n",
      "Compressed reviews to: D:\\BigData\\raw_review_Handmade_Products.tar.gz\n",
      "Compressed metadata to: D:\\BigData\\raw_meta_Handmade_Products.tar.gz\n",
      "Error: File does not exist: D:\\BigData\\raw_review_Handmade_Products\n",
      "Error: File does not exist: D:\\BigData\\raw_meta_Handmade_Products\n",
      "\n",
      "------Processing Health_and_Household------\n",
      "⠹ Processing Health_and_Household "
     ]
    },
    {
     "data": {
      "application/vnd.jupyter.widget-view+json": {
       "model_id": "8666b34a58bc4a599df788dd5605e332",
       "version_major": 2,
       "version_minor": 0
      },
      "text/plain": [
       "Health_and_Household.jsonl:   0%|          | 0.00/11.4G [00:00<?, ?B/s]"
      ]
     },
     "metadata": {},
     "output_type": "display_data"
    },
    {
     "name": "stdout",
     "output_type": "stream",
     "text": [
      "⠸ Processing Health_and_Household "
     ]
    },
    {
     "data": {
      "application/vnd.jupyter.widget-view+json": {
       "model_id": "378dda794fe54e8bb83d80f16315be93",
       "version_major": 2,
       "version_minor": 0
      },
      "text/plain": [
       "Generating full split: 0 examples [00:00, ? examples/s]"
      ]
     },
     "metadata": {},
     "output_type": "display_data"
    },
    {
     "name": "stdout",
     "output_type": "stream",
     "text": [
      "⠇ Processing Health_and_Household "
     ]
    },
    {
     "data": {
      "application/vnd.jupyter.widget-view+json": {
       "model_id": "98432a1c5d264dd5a97c09bdffcfa236",
       "version_major": 2,
       "version_minor": 0
      },
      "text/plain": [
       "Saving the dataset (0/16 shards):   0%|          | 0/25631345 [00:00<?, ? examples/s]"
      ]
     },
     "metadata": {},
     "output_type": "display_data"
    },
    {
     "name": "stdout",
     "output_type": "stream",
     "text": [
      "[DONE] raw_review_Health_and_Household downloaded\n",
      "💥 Processing Health_and_Household\n",
      "Failed to process category 'Health_and_Household': (ReadTimeoutError(\"HTTPSConnectionPool(host='cdn-lfs-us-1.hf.co', port=443): Read timed out. (read timeout=10)\"), '(Request ID: ea419311-f1da-4914-ac8e-9173340639fb)')\n",
      "\n",
      "🎉 Download summary:\n",
      "  - Successfully processed: 0/1 categories\n",
      "  - Failed: 1/1 categories\n",
      "    - Health_and_Household: (ReadTimeoutError(\"HTTPSConnectionPool(host='cdn-lfs-us-1.hf.co', port=443): Read timed out. (read timeout=10)\"), '(Request ID: ea419311-f1da-4914-ac8e-9173340639fb)')\n",
      "Compressed reviews to: D:\\BigData\\raw_review_Health_and_Household.tar.gz\n",
      "Error: File does not exist: D:\\BigData\\raw_review_Health_and_Household\n",
      "Error: File does not exist: D:\\BigData\\raw_meta_Health_and_Household\n",
      "\n",
      "------Processing Health_and_Personal_Care------\n",
      "⠋ Processing Health_and_Personal_Care "
     ]
    },
    {
     "data": {
      "application/vnd.jupyter.widget-view+json": {
       "model_id": "a8ac400b93c444dbb519cad502bdd407",
       "version_major": 2,
       "version_minor": 0
      },
      "text/plain": [
       "Health_and_Personal_Care.jsonl:   0%|          | 0.00/227M [00:00<?, ?B/s]"
      ]
     },
     "metadata": {},
     "output_type": "display_data"
    },
    {
     "name": "stdout",
     "output_type": "stream",
     "text": [
      "⠋ Processing Health_and_Personal_Care "
     ]
    },
    {
     "data": {
      "application/vnd.jupyter.widget-view+json": {
       "model_id": "22dab23ecd9a483ab538793f20b24775",
       "version_major": 2,
       "version_minor": 0
      },
      "text/plain": [
       "Generating full split: 0 examples [00:00, ? examples/s]"
      ]
     },
     "metadata": {},
     "output_type": "display_data"
    },
    {
     "name": "stdout",
     "output_type": "stream",
     "text": [
      "⠏ Processing Health_and_Personal_Care "
     ]
    },
    {
     "data": {
      "application/vnd.jupyter.widget-view+json": {
       "model_id": "03b102c169a74f36910316753aea4157",
       "version_major": 2,
       "version_minor": 0
      },
      "text/plain": [
       "Saving the dataset (0/1 shards):   0%|          | 0/494121 [00:00<?, ? examples/s]"
      ]
     },
     "metadata": {},
     "output_type": "display_data"
    },
    {
     "name": "stdout",
     "output_type": "stream",
     "text": [
      "[DONE] raw_review_Health_and_Personal_Care downloaded\n",
      "⠴ Processing Health_and_Personal_Care "
     ]
    },
    {
     "data": {
      "application/vnd.jupyter.widget-view+json": {
       "model_id": "a9c67248f69141819975e8a9721ea15e",
       "version_major": 2,
       "version_minor": 0
      },
      "text/plain": [
       "meta_Health_and_Personal_Care.jsonl:   0%|          | 0.00/118M [00:00<?, ?B/s]"
      ]
     },
     "metadata": {},
     "output_type": "display_data"
    },
    {
     "name": "stdout",
     "output_type": "stream",
     "text": [
      "⠼ Processing Health_and_Personal_Care "
     ]
    },
    {
     "data": {
      "application/vnd.jupyter.widget-view+json": {
       "model_id": "2bdd91dc13134b4cbe795476fa0121bd",
       "version_major": 2,
       "version_minor": 0
      },
      "text/plain": [
       "Generating full split: 0 examples [00:00, ? examples/s]"
      ]
     },
     "metadata": {},
     "output_type": "display_data"
    },
    {
     "name": "stdout",
     "output_type": "stream",
     "text": [
      "⠏ Processing Health_and_Personal_Care "
     ]
    },
    {
     "data": {
      "application/vnd.jupyter.widget-view+json": {
       "model_id": "22bc21b7993e41f7bf1d6c7e6a9f3b9f",
       "version_major": 2,
       "version_minor": 0
      },
      "text/plain": [
       "Saving the dataset (0/1 shards):   0%|          | 0/60293 [00:00<?, ? examples/s]"
      ]
     },
     "metadata": {},
     "output_type": "display_data"
    },
    {
     "name": "stdout",
     "output_type": "stream",
     "text": [
      "[DONE] raw_meta_Health_and_Personal_Care downloaded\n",
      "✅ Processing Health_and_Personal_Care\n",
      "\n",
      "🎉 Download summary:\n",
      "  - Successfully processed: 1/1 categories\n",
      "Compressed reviews to: D:\\BigData\\raw_review_Health_and_Personal_Care.tar.gz\n",
      "Compressed metadata to: D:\\BigData\\raw_meta_Health_and_Personal_Care.tar.gz\n",
      "Error: File does not exist: D:\\BigData\\raw_review_Health_and_Personal_Care\n",
      "Error: File does not exist: D:\\BigData\\raw_meta_Health_and_Personal_Care\n",
      "\n",
      "------Processing Home_and_Kitchen------\n",
      "⠹ Processing Home_and_Kitchen "
     ]
    },
    {
     "data": {
      "application/vnd.jupyter.widget-view+json": {
       "model_id": "7ffec34910db479bb748aeb744cd4f4b",
       "version_major": 2,
       "version_minor": 0
      },
      "text/plain": [
       "Home_and_Kitchen.jsonl:   0%|          | 0.00/31.4G [00:00<?, ?B/s]"
      ]
     },
     "metadata": {},
     "output_type": "display_data"
    },
    {
     "name": "stdout",
     "output_type": "stream",
     "text": [
      "⠙ Processing Home_and_Kitchen "
     ]
    },
    {
     "data": {
      "application/vnd.jupyter.widget-view+json": {
       "model_id": "8a29390b9fa744cba20c04f8579aea69",
       "version_major": 2,
       "version_minor": 0
      },
      "text/plain": [
       "Generating full split: 0 examples [00:00, ? examples/s]"
      ]
     },
     "metadata": {},
     "output_type": "display_data"
    },
    {
     "name": "stdout",
     "output_type": "stream",
     "text": [
      "⠦ Processing Home_and_Kitchen "
     ]
    },
    {
     "data": {
      "application/vnd.jupyter.widget-view+json": {
       "model_id": "b9568aba076e45d4abb4f32ff302845f",
       "version_major": 2,
       "version_minor": 0
      },
      "text/plain": [
       "Loading dataset shards:   0%|          | 0/45 [00:00<?, ?it/s]"
      ]
     },
     "metadata": {},
     "output_type": "display_data"
    },
    {
     "name": "stdout",
     "output_type": "stream",
     "text": [
      "⠦ Processing Home_and_Kitchen "
     ]
    },
    {
     "data": {
      "application/vnd.jupyter.widget-view+json": {
       "model_id": "245fb6882f564b0cbd5ad979376e5daf",
       "version_major": 2,
       "version_minor": 0
      },
      "text/plain": [
       "Saving the dataset (0/45 shards):   0%|          | 0/67409944 [00:00<?, ? examples/s]"
      ]
     },
     "metadata": {},
     "output_type": "display_data"
    },
    {
     "name": "stdout",
     "output_type": "stream",
     "text": [
      "[DONE] raw_review_Home_and_Kitchen downloaded\n",
      "⠴ Processing Home_and_Kitchen "
     ]
    },
    {
     "name": "stderr",
     "output_type": "stream",
     "text": [
      "c:\\Users\\saeed\\anaconda3\\Lib\\site-packages\\huggingface_hub\\file_download.py:752: UserWarning: Not enough free disk space to download the file. The expected file size is: 11788.77 MB. The target location C:\\Users\\saeed\\.cache\\huggingface\\hub\\datasets--McAuley-Lab--Amazon-Reviews-2023\\blobs only has 7387.95 MB free disk space.\n",
      "  warnings.warn(\n"
     ]
    },
    {
     "name": "stdout",
     "output_type": "stream",
     "text": [
      "💥 Processing Home_and_Kitchen\n",
      "Failed to process category 'Home_and_Kitchen': (ReadTimeoutError(\"HTTPSConnectionPool(host='cdn-lfs-us-1.hf.co', port=443): Read timed out. (read timeout=10)\"), '(Request ID: e1f39c5d-8a39-4c58-a10a-9979876942d9)')\n",
      "\n",
      "🎉 Download summary:\n",
      "  - Successfully processed: 0/1 categories\n",
      "  - Failed: 1/1 categories\n",
      "    - Home_and_Kitchen: (ReadTimeoutError(\"HTTPSConnectionPool(host='cdn-lfs-us-1.hf.co', port=443): Read timed out. (read timeout=10)\"), '(Request ID: e1f39c5d-8a39-4c58-a10a-9979876942d9)')\n",
      "Compressed reviews to: D:\\BigData\\raw_review_Home_and_Kitchen.tar.gz\n",
      "Error: File does not exist: D:\\BigData\\raw_review_Home_and_Kitchen\n",
      "Error: File does not exist: D:\\BigData\\raw_meta_Home_and_Kitchen\n",
      "\n",
      "------Processing Industrial_and_Scientific------\n",
      "⠼ Processing Industrial_and_Scientific "
     ]
    },
    {
     "data": {
      "application/vnd.jupyter.widget-view+json": {
       "model_id": "6fd8ba20a32c4c09bc024a50783c68b0",
       "version_major": 2,
       "version_minor": 0
      },
      "text/plain": [
       "Industrial_and_Scientific.jsonl:   0%|          | 0.00/2.35G [00:00<?, ?B/s]"
      ]
     },
     "metadata": {},
     "output_type": "display_data"
    },
    {
     "name": "stdout",
     "output_type": "stream",
     "text": [
      "⠙ Processing Industrial_and_Scientific "
     ]
    },
    {
     "data": {
      "application/vnd.jupyter.widget-view+json": {
       "model_id": "6881cf4b1fca46a8ad5ed78e943e9232",
       "version_major": 2,
       "version_minor": 0
      },
      "text/plain": [
       "Generating full split: 0 examples [00:00, ? examples/s]"
      ]
     },
     "metadata": {},
     "output_type": "display_data"
    },
    {
     "name": "stdout",
     "output_type": "stream",
     "text": [
      "⠧ Processing Industrial_and_Scientific "
     ]
    },
    {
     "data": {
      "application/vnd.jupyter.widget-view+json": {
       "model_id": "80b2eb9eb56d4ff68c980a5280c07eaf",
       "version_major": 2,
       "version_minor": 0
      },
      "text/plain": [
       "Saving the dataset (0/4 shards):   0%|          | 0/5183005 [00:00<?, ? examples/s]"
      ]
     },
     "metadata": {},
     "output_type": "display_data"
    },
    {
     "name": "stdout",
     "output_type": "stream",
     "text": [
      "[DONE] raw_review_Industrial_and_Scientific downloaded\n",
      "⠏ Processing Industrial_and_Scientific "
     ]
    },
    {
     "data": {
      "application/vnd.jupyter.widget-view+json": {
       "model_id": "9b128aa925914be49198c2c59fdb5dba",
       "version_major": 2,
       "version_minor": 0
      },
      "text/plain": [
       "meta_Industrial_and_Scientific.jsonl:   0%|          | 0.00/1.13G [00:00<?, ?B/s]"
      ]
     },
     "metadata": {},
     "output_type": "display_data"
    },
    {
     "name": "stdout",
     "output_type": "stream",
     "text": [
      "⠋ Processing Industrial_and_Scientific "
     ]
    },
    {
     "data": {
      "application/vnd.jupyter.widget-view+json": {
       "model_id": "8dff469be94f4e3286defbce5a79e07a",
       "version_major": 2,
       "version_minor": 0
      },
      "text/plain": [
       "Generating full split:   0%|          | 0/427564 [00:00<?, ? examples/s]"
      ]
     },
     "metadata": {},
     "output_type": "display_data"
    },
    {
     "name": "stdout",
     "output_type": "stream",
     "text": [
      "⠋ Processing Industrial_and_Scientific "
     ]
    },
    {
     "data": {
      "application/vnd.jupyter.widget-view+json": {
       "model_id": "d1b999b4cb42424f8a0702d413908ec2",
       "version_major": 2,
       "version_minor": 0
      },
      "text/plain": [
       "Saving the dataset (0/2 shards):   0%|          | 0/427564 [00:00<?, ? examples/s]"
      ]
     },
     "metadata": {},
     "output_type": "display_data"
    },
    {
     "name": "stdout",
     "output_type": "stream",
     "text": [
      "[DONE] raw_meta_Industrial_and_Scientific downloaded\n",
      "✅ Processing Industrial_and_Scientific\n",
      "\n",
      "🎉 Download summary:\n",
      "  - Successfully processed: 1/1 categories\n",
      "Compressed reviews to: D:\\BigData\\raw_review_Industrial_and_Scientific.tar.gz\n",
      "Compressed metadata to: D:\\BigData\\raw_meta_Industrial_and_Scientific.tar.gz\n",
      "Error: File does not exist: D:\\BigData\\raw_review_Industrial_and_Scientific\n",
      "Error: File does not exist: D:\\BigData\\raw_meta_Industrial_and_Scientific\n",
      "\n",
      "------Processing Kindle_Store------\n",
      "⠏ Processing Kindle_Store "
     ]
    },
    {
     "data": {
      "application/vnd.jupyter.widget-view+json": {
       "model_id": "da883815e35e4b19965114cfa05bfedd",
       "version_major": 2,
       "version_minor": 0
      },
      "text/plain": [
       "Kindle_Store.jsonl:   0%|          | 0.00/15.8G [00:00<?, ?B/s]"
      ]
     },
     "metadata": {},
     "output_type": "display_data"
    },
    {
     "name": "stdout",
     "output_type": "stream",
     "text": [
      "⠦ Processing Kindle_Store "
     ]
    },
    {
     "data": {
      "application/vnd.jupyter.widget-view+json": {
       "model_id": "5382540f1ec14a10a6e050232a60987c",
       "version_major": 2,
       "version_minor": 0
      },
      "text/plain": [
       "Generating full split: 0 examples [00:00, ? examples/s]"
      ]
     },
     "metadata": {},
     "output_type": "display_data"
    },
    {
     "name": "stdout",
     "output_type": "stream",
     "text": [
      "⠸ Processing Kindle_Store "
     ]
    },
    {
     "data": {
      "application/vnd.jupyter.widget-view+json": {
       "model_id": "b325badc3dc74415adb256cbf1b9c16c",
       "version_major": 2,
       "version_minor": 0
      },
      "text/plain": [
       "Loading dataset shards:   0%|          | 0/25 [00:00<?, ?it/s]"
      ]
     },
     "metadata": {},
     "output_type": "display_data"
    },
    {
     "name": "stdout",
     "output_type": "stream",
     "text": [
      "⠹ Processing Kindle_Store "
     ]
    },
    {
     "data": {
      "application/vnd.jupyter.widget-view+json": {
       "model_id": "0a8c930984ce4c89af0036481a0b1a32",
       "version_major": 2,
       "version_minor": 0
      },
      "text/plain": [
       "Saving the dataset (0/25 shards):   0%|          | 0/25577616 [00:00<?, ? examples/s]"
      ]
     },
     "metadata": {},
     "output_type": "display_data"
    },
    {
     "name": "stdout",
     "output_type": "stream",
     "text": [
      "[DONE] raw_review_Kindle_Store downloaded\n",
      "⠇ Processing Kindle_Store "
     ]
    },
    {
     "name": "stderr",
     "output_type": "stream",
     "text": [
      "c:\\Users\\saeed\\anaconda3\\Lib\\site-packages\\huggingface_hub\\file_download.py:752: UserWarning: Not enough free disk space to download the file. The expected file size is: 6865.24 MB. The target location C:\\Users\\saeed\\.cache\\huggingface\\hub\\datasets--McAuley-Lab--Amazon-Reviews-2023\\blobs only has 1924.76 MB free disk space.\n",
      "  warnings.warn(\n"
     ]
    },
    {
     "name": "stdout",
     "output_type": "stream",
     "text": [
      "💥 Processing Kindle_Store\n",
      "Failed to process category 'Kindle_Store': (ReadTimeoutError(\"HTTPSConnectionPool(host='cdn-lfs-us-1.hf.co', port=443): Read timed out. (read timeout=10)\"), '(Request ID: 758adbf1-df57-4a90-bef7-47ad15eed5e7)')\n",
      "\n",
      "🎉 Download summary:\n",
      "  - Successfully processed: 0/1 categories\n",
      "  - Failed: 1/1 categories\n",
      "    - Kindle_Store: (ReadTimeoutError(\"HTTPSConnectionPool(host='cdn-lfs-us-1.hf.co', port=443): Read timed out. (read timeout=10)\"), '(Request ID: 758adbf1-df57-4a90-bef7-47ad15eed5e7)')\n",
      "Compressed reviews to: D:\\BigData\\raw_review_Kindle_Store.tar.gz\n",
      "Error: File does not exist: D:\\BigData\\raw_review_Kindle_Store\n",
      "Error: File does not exist: D:\\BigData\\raw_meta_Kindle_Store\n",
      "\n",
      "------Processing Magazine_Subscriptions------\n",
      "⠹ Processing Magazine_Subscriptions "
     ]
    },
    {
     "data": {
      "application/vnd.jupyter.widget-view+json": {
       "model_id": "83a82877fb264cd0bf2769789814c0fd",
       "version_major": 2,
       "version_minor": 0
      },
      "text/plain": [
       "Magazine_Subscriptions.jsonl:   0%|          | 0.00/33.3M [00:00<?, ?B/s]"
      ]
     },
     "metadata": {},
     "output_type": "display_data"
    },
    {
     "name": "stdout",
     "output_type": "stream",
     "text": [
      "⠋ Processing Magazine_Subscriptions "
     ]
    },
    {
     "data": {
      "application/vnd.jupyter.widget-view+json": {
       "model_id": "23d2540dd9b6410b95636167cfacf107",
       "version_major": 2,
       "version_minor": 0
      },
      "text/plain": [
       "Generating full split: 0 examples [00:00, ? examples/s]"
      ]
     },
     "metadata": {},
     "output_type": "display_data"
    },
    {
     "name": "stdout",
     "output_type": "stream",
     "text": [
      "⠙ Processing Magazine_Subscriptions "
     ]
    },
    {
     "data": {
      "application/vnd.jupyter.widget-view+json": {
       "model_id": "ae1abbd2177948eaa2dc50057cd3a325",
       "version_major": 2,
       "version_minor": 0
      },
      "text/plain": [
       "Saving the dataset (0/1 shards):   0%|          | 0/71497 [00:00<?, ? examples/s]"
      ]
     },
     "metadata": {},
     "output_type": "display_data"
    },
    {
     "name": "stdout",
     "output_type": "stream",
     "text": [
      "[DONE] raw_review_Magazine_Subscriptions downloaded\n",
      "⠋ Processing Magazine_Subscriptions "
     ]
    },
    {
     "data": {
      "application/vnd.jupyter.widget-view+json": {
       "model_id": "287e68a1fb8e4b75b44f95c8f5c5f220",
       "version_major": 2,
       "version_minor": 0
      },
      "text/plain": [
       "meta_Magazine_Subscriptions.jsonl:   0%|          | 0.00/4.10M [00:00<?, ?B/s]"
      ]
     },
     "metadata": {},
     "output_type": "display_data"
    },
    {
     "name": "stdout",
     "output_type": "stream",
     "text": [
      "⠧ Processing Magazine_Subscriptions "
     ]
    },
    {
     "data": {
      "application/vnd.jupyter.widget-view+json": {
       "model_id": "89c9b183cd7245e8a1a2be2bc0f3d4c2",
       "version_major": 2,
       "version_minor": 0
      },
      "text/plain": [
       "Generating full split: 0 examples [00:00, ? examples/s]"
      ]
     },
     "metadata": {},
     "output_type": "display_data"
    },
    {
     "name": "stdout",
     "output_type": "stream",
     "text": [
      "⠙ Processing Magazine_Subscriptions "
     ]
    },
    {
     "data": {
      "application/vnd.jupyter.widget-view+json": {
       "model_id": "e9130fa76c0b447581881f72906f1cd5",
       "version_major": 2,
       "version_minor": 0
      },
      "text/plain": [
       "Saving the dataset (0/1 shards):   0%|          | 0/3391 [00:00<?, ? examples/s]"
      ]
     },
     "metadata": {},
     "output_type": "display_data"
    },
    {
     "name": "stdout",
     "output_type": "stream",
     "text": [
      "[DONE] raw_meta_Magazine_Subscriptions downloaded\n",
      "✅ Processing Magazine_Subscriptions\n",
      "\n",
      "🎉 Download summary:\n",
      "  - Successfully processed: 1/1 categories\n",
      "Compressed reviews to: D:\\BigData\\raw_review_Magazine_Subscriptions.tar.gz\n",
      "Compressed metadata to: D:\\BigData\\raw_meta_Magazine_Subscriptions.tar.gz\n",
      "Error: File does not exist: D:\\BigData\\raw_review_Magazine_Subscriptions\n",
      "Error: File does not exist: D:\\BigData\\raw_meta_Magazine_Subscriptions\n",
      "\n",
      "------Processing Movies_and_TV------\n",
      "⠋ Processing Movies_and_TV "
     ]
    },
    {
     "data": {
      "application/vnd.jupyter.widget-view+json": {
       "model_id": "51b6e56c138d483f9793734c18f86ba3",
       "version_major": 2,
       "version_minor": 0
      },
      "text/plain": [
       "Movies_and_TV.jsonl:   0%|          | 0.00/8.39G [00:00<?, ?B/s]"
      ]
     },
     "metadata": {},
     "output_type": "display_data"
    },
    {
     "name": "stdout",
     "output_type": "stream",
     "text": [
      "⠹ Processing Movies_and_TV "
     ]
    },
    {
     "data": {
      "application/vnd.jupyter.widget-view+json": {
       "model_id": "e199eb30c3454849bc5bb387304806a2",
       "version_major": 2,
       "version_minor": 0
      },
      "text/plain": [
       "Generating full split: 0 examples [00:00, ? examples/s]"
      ]
     },
     "metadata": {},
     "output_type": "display_data"
    },
    {
     "name": "stdout",
     "output_type": "stream",
     "text": [
      "💥 Processing Movies_and_TV\n",
      "Failed to process category 'Movies_and_TV': [WinError 32] The process cannot access the file because it is being used by another process: 'C:/Users/saeed/.cache/huggingface/datasets/McAuley-Lab___amazon-reviews-2023/raw_review_Movies_and_TV/0.0.0/16b76e0823d73bb8cff1e9c5e3e37dbc46ae3daee380417ae141f5e67d3ea8e8.incomplete\\\\amazon-reviews-2023-full-00000-00011-of-NNNNN.arrow'\n",
      "\n",
      "🎉 Download summary:\n",
      "  - Successfully processed: 0/1 categories\n",
      "  - Failed: 1/1 categories\n",
      "    - Movies_and_TV: [WinError 32] The process cannot access the file because it is being used by another process: 'C:/Users/saeed/.cache/huggingface/datasets/McAuley-Lab___amazon-reviews-2023/raw_review_Movies_and_TV/0.0.0/16b76e0823d73bb8cff1e9c5e3e37dbc46ae3daee380417ae141f5e67d3ea8e8.incomplete\\\\amazon-reviews-2023-full-00000-00011-of-NNNNN.arrow'\n",
      "Error: File does not exist: D:\\BigData\\raw_review_Movies_and_TV\n",
      "Error: File does not exist: D:\\BigData\\raw_meta_Movies_and_TV\n",
      "\n",
      "------Processing Musical_Instruments------\n",
      "⠏ Processing Musical_Instruments "
     ]
    },
    {
     "data": {
      "application/vnd.jupyter.widget-view+json": {
       "model_id": "8bca247bf97240d98f01d0f52d05afa7",
       "version_major": 2,
       "version_minor": 0
      },
      "text/plain": [
       "Musical_Instruments.jsonl:   0%|          | 0.00/1.56G [00:00<?, ?B/s]"
      ]
     },
     "metadata": {},
     "output_type": "display_data"
    },
    {
     "name": "stdout",
     "output_type": "stream",
     "text": [
      "⠋ Processing Musical_Instruments "
     ]
    },
    {
     "data": {
      "application/vnd.jupyter.widget-view+json": {
       "model_id": "70a8b51e5ac446089c529a0002624e2e",
       "version_major": 2,
       "version_minor": 0
      },
      "text/plain": [
       "Generating full split: 0 examples [00:00, ? examples/s]"
      ]
     },
     "metadata": {},
     "output_type": "display_data"
    },
    {
     "name": "stdout",
     "output_type": "stream",
     "text": [
      "⠦ Processing Musical_Instruments "
     ]
    },
    {
     "data": {
      "application/vnd.jupyter.widget-view+json": {
       "model_id": "428f7805de6e4da18d8d49cf9d05c9b7",
       "version_major": 2,
       "version_minor": 0
      },
      "text/plain": [
       "Saving the dataset (0/3 shards):   0%|          | 0/3017439 [00:00<?, ? examples/s]"
      ]
     },
     "metadata": {},
     "output_type": "display_data"
    },
    {
     "name": "stdout",
     "output_type": "stream",
     "text": [
      "[DONE] raw_review_Musical_Instruments downloaded\n",
      "⠏ Processing Musical_Instruments "
     ]
    },
    {
     "data": {
      "application/vnd.jupyter.widget-view+json": {
       "model_id": "582628e2b01d4c449077ddd2074fb0cb",
       "version_major": 2,
       "version_minor": 0
      },
      "text/plain": [
       "meta_Musical_Instruments.jsonl:   0%|          | 0.00/632M [00:00<?, ?B/s]"
      ]
     },
     "metadata": {},
     "output_type": "display_data"
    },
    {
     "name": "stdout",
     "output_type": "stream",
     "text": [
      "⠴ Processing Musical_Instruments "
     ]
    },
    {
     "data": {
      "application/vnd.jupyter.widget-view+json": {
       "model_id": "090bbb906d1a425ba98a41c85d30b9f5",
       "version_major": 2,
       "version_minor": 0
      },
      "text/plain": [
       "Generating full split:   0%|          | 0/213593 [00:00<?, ? examples/s]"
      ]
     },
     "metadata": {},
     "output_type": "display_data"
    },
    {
     "name": "stdout",
     "output_type": "stream",
     "text": [
      "⠋ Processing Musical_Instruments "
     ]
    },
    {
     "data": {
      "application/vnd.jupyter.widget-view+json": {
       "model_id": "b271c4ef403542a0ae7208ee941c876d",
       "version_major": 2,
       "version_minor": 0
      },
      "text/plain": [
       "Saving the dataset (0/2 shards):   0%|          | 0/213593 [00:00<?, ? examples/s]"
      ]
     },
     "metadata": {},
     "output_type": "display_data"
    },
    {
     "name": "stdout",
     "output_type": "stream",
     "text": [
      "[DONE] raw_meta_Musical_Instruments downloaded\n",
      "✅ Processing Musical_Instruments \n",
      "\n",
      "🎉 Download summary:\n",
      "  - Successfully processed: 1/1 categories\n",
      "Compressed reviews to: D:\\BigData\\raw_review_Musical_Instruments.tar.gz\n",
      "Compressed metadata to: D:\\BigData\\raw_meta_Musical_Instruments.tar.gz\n",
      "Error: File does not exist: D:\\BigData\\raw_review_Musical_Instruments\n",
      "Error: File does not exist: D:\\BigData\\raw_meta_Musical_Instruments\n",
      "\n",
      "------Processing Office_Products------\n",
      "⠸ Processing Office_Products "
     ]
    },
    {
     "name": "stderr",
     "output_type": "stream",
     "text": [
      "c:\\Users\\saeed\\anaconda3\\Lib\\site-packages\\huggingface_hub\\file_download.py:752: UserWarning: Not enough free disk space to download the file. The expected file size is: 5776.79 MB. The target location C:\\Users\\saeed\\.cache\\huggingface\\hub\\datasets--McAuley-Lab--Amazon-Reviews-2023\\blobs only has 3576.70 MB free disk space.\n",
      "  warnings.warn(\n"
     ]
    },
    {
     "data": {
      "application/vnd.jupyter.widget-view+json": {
       "model_id": "b536eb3bdca64252abf995da878b829a",
       "version_major": 2,
       "version_minor": 0
      },
      "text/plain": [
       "Office_Products.jsonl:   0%|          | 0.00/5.78G [00:00<?, ?B/s]"
      ]
     },
     "metadata": {},
     "output_type": "display_data"
    },
    {
     "name": "stdout",
     "output_type": "stream",
     "text": [
      "💥 Processing Office_Products\n",
      "Failed to process category 'Office_Products': [Errno 28] No space left on device\n",
      "\n",
      "🎉 Download summary:\n",
      "  - Successfully processed: 0/1 categories\n",
      "  - Failed: 1/1 categories\n",
      "    - Office_Products: [Errno 28] No space left on device\n",
      "Error: File does not exist: D:\\BigData\\raw_review_Office_Products\n",
      "Error: File does not exist: D:\\BigData\\raw_meta_Office_Products\n",
      "\n",
      "------Processing Patio_Lawn_and_Garden------\n",
      "💥 Processing Patio_Lawn_and_Garden\n",
      "Failed to process category 'Patio_Lawn_and_Garden': Not enough disk space. Needed: Unknown size (download: Unknown size, generated: Unknown size, post-processed: Unknown size)\n",
      "\n",
      "🎉 Download summary:\n",
      "  - Successfully processed: 0/1 categories\n",
      "  - Failed: 1/1 categories\n",
      "    - Patio_Lawn_and_Garden: Not enough disk space. Needed: Unknown size (download: Unknown size, generated: Unknown size, post-processed: Unknown size)\n",
      "Error: File does not exist: D:\\BigData\\raw_review_Patio_Lawn_and_Garden\n",
      "Error: File does not exist: D:\\BigData\\raw_meta_Patio_Lawn_and_Garden\n",
      "\n",
      "------Processing Pet_Supplies------\n",
      "💥 Processing Pet_Supplies\n",
      "Failed to process category 'Pet_Supplies': Not enough disk space. Needed: Unknown size (download: Unknown size, generated: Unknown size, post-processed: Unknown size)\n",
      "\n",
      "🎉 Download summary:\n",
      "  - Successfully processed: 0/1 categories\n",
      "  - Failed: 1/1 categories\n",
      "    - Pet_Supplies: Not enough disk space. Needed: Unknown size (download: Unknown size, generated: Unknown size, post-processed: Unknown size)\n",
      "Error: File does not exist: D:\\BigData\\raw_review_Pet_Supplies\n",
      "Error: File does not exist: D:\\BigData\\raw_meta_Pet_Supplies\n",
      "\n",
      "------Processing Software------\n",
      "💥 Processing Software\n",
      "Failed to process category 'Software': Not enough disk space. Needed: Unknown size (download: Unknown size, generated: Unknown size, post-processed: Unknown size)\n",
      "\n",
      "🎉 Download summary:\n",
      "  - Successfully processed: 0/1 categories\n",
      "  - Failed: 1/1 categories\n",
      "    - Software: Not enough disk space. Needed: Unknown size (download: Unknown size, generated: Unknown size, post-processed: Unknown size)\n",
      "Error: File does not exist: D:\\BigData\\raw_review_Software\n",
      "Error: File does not exist: D:\\BigData\\raw_meta_Software\n",
      "\n",
      "------Processing Sports_and_Outdoors------\n",
      "💥 Processing Sports_and_Outdoors\n",
      "Failed to process category 'Sports_and_Outdoors': Not enough disk space. Needed: Unknown size (download: Unknown size, generated: Unknown size, post-processed: Unknown size)\n",
      "\n",
      "🎉 Download summary:\n",
      "  - Successfully processed: 0/1 categories\n",
      "  - Failed: 1/1 categories\n",
      "    - Sports_and_Outdoors: Not enough disk space. Needed: Unknown size (download: Unknown size, generated: Unknown size, post-processed: Unknown size)\n",
      "Error: File does not exist: D:\\BigData\\raw_review_Sports_and_Outdoors\n",
      "Error: File does not exist: D:\\BigData\\raw_meta_Sports_and_Outdoors\n",
      "\n",
      "------Processing Subscription_Boxes------\n",
      "💥 Processing Subscription_Boxes\n",
      "Failed to process category 'Subscription_Boxes': Not enough disk space. Needed: Unknown size (download: Unknown size, generated: Unknown size, post-processed: Unknown size)\n",
      "\n",
      "🎉 Download summary:\n",
      "  - Successfully processed: 0/1 categories\n",
      "  - Failed: 1/1 categories\n",
      "    - Subscription_Boxes: Not enough disk space. Needed: Unknown size (download: Unknown size, generated: Unknown size, post-processed: Unknown size)\n",
      "Error: File does not exist: D:\\BigData\\raw_review_Subscription_Boxes\n",
      "Error: File does not exist: D:\\BigData\\raw_meta_Subscription_Boxes\n",
      "\n",
      "------Processing Tools_and_Home_Improvement------\n",
      "💥 Processing Tools_and_Home_Improvement\n",
      "Failed to process category 'Tools_and_Home_Improvement': Not enough disk space. Needed: Unknown size (download: Unknown size, generated: Unknown size, post-processed: Unknown size)\n",
      "\n",
      "🎉 Download summary:\n",
      "  - Successfully processed: 0/1 categories\n",
      "  - Failed: 1/1 categories\n",
      "    - Tools_and_Home_Improvement: Not enough disk space. Needed: Unknown size (download: Unknown size, generated: Unknown size, post-processed: Unknown size)\n",
      "Error: File does not exist: D:\\BigData\\raw_review_Tools_and_Home_Improvement\n",
      "Error: File does not exist: D:\\BigData\\raw_meta_Tools_and_Home_Improvement\n",
      "\n",
      "------Processing Toys_and_Games------\n",
      "💥 Processing Toys_and_Games\n",
      "Failed to process category 'Toys_and_Games': Not enough disk space. Needed: Unknown size (download: Unknown size, generated: Unknown size, post-processed: Unknown size)\n",
      "\n",
      "🎉 Download summary:\n",
      "  - Successfully processed: 0/1 categories\n",
      "  - Failed: 1/1 categories\n",
      "    - Toys_and_Games: Not enough disk space. Needed: Unknown size (download: Unknown size, generated: Unknown size, post-processed: Unknown size)\n",
      "Error: File does not exist: D:\\BigData\\raw_review_Toys_and_Games\n",
      "Error: File does not exist: D:\\BigData\\raw_meta_Toys_and_Games\n",
      "\n",
      "------Processing Video_Games------\n",
      "💥 Processing Video_Games\n",
      "Failed to process category 'Video_Games': Not enough disk space. Needed: Unknown size (download: Unknown size, generated: Unknown size, post-processed: Unknown size)\n",
      "\n",
      "🎉 Download summary:\n",
      "  - Successfully processed: 0/1 categories\n",
      "  - Failed: 1/1 categories\n",
      "    - Video_Games: Not enough disk space. Needed: Unknown size (download: Unknown size, generated: Unknown size, post-processed: Unknown size)\n",
      "Error: File does not exist: D:\\BigData\\raw_review_Video_Games\n",
      "Error: File does not exist: D:\\BigData\\raw_meta_Video_Games\n",
      "\n",
      "------Processing Unknown------\n",
      "💥 Processing Unknown\n",
      "Failed to process category 'Unknown': Not enough disk space. Needed: Unknown size (download: Unknown size, generated: Unknown size, post-processed: Unknown size)\n",
      "\n",
      "🎉 Download summary:\n",
      "  - Successfully processed: 0/1 categories\n",
      "  - Failed: 1/1 categories\n",
      "    - Unknown: Not enough disk space. Needed: Unknown size (download: Unknown size, generated: Unknown size, post-processed: Unknown size)\n",
      "Error: File does not exist: D:\\BigData\\raw_review_Unknown\n",
      "Error: File does not exist: D:\\BigData\\raw_meta_Unknown\n"
     ]
    }
   ],
   "source": [
    "save_path = Path(r\"D:\\BigData\")\n",
    "save_path.mkdir(parents=True, exist_ok=True)\n",
    "\n",
    "for category in VALID_CATEGORIES:\n",
    "    logging.info(f\"n------Processing {category}------\")\n",
    "    print(f\"\\n------Processing {category}------\")\n",
    "\n",
    "    download_all_amazon_reviews(base_save_path=save_path, \n",
    "                                categories=[category], compress=False)\n",
    "\n",
    "    review_folder = save_path / f\"raw_review_{category}\"\n",
    "    metadata_folder = save_path / f\"raw_meta_{category}\"\n",
    "\n",
    "    if review_folder.exists():\n",
    "        compressed = compress_folder(review_folder, \n",
    "                                        compression_format=\"gz\", \n",
    "                                        level=6)\n",
    "        \n",
    "        logging.info(f\"Compressed reviews to: {compressed}\")\n",
    "        print(f\"Compressed reviews to: {compressed}\")\n",
    "\n",
    "    if metadata_folder.exists():\n",
    "        compressed = compress_folder(metadata_folder, \n",
    "                                        compression_format=\"gz\", \n",
    "                                        level=6)\n",
    "        \n",
    "        logging.info(f\"Compressed metadata to: {compressed}\")\n",
    "        print(f\"Compressed metadata to: {compressed}\")\n",
    "\n",
    "    \n",
    "    verify_compressed_file(review_folder)\n",
    "    verify_compressed_file(metadata_folder) "
   ]
  },
  {
   "cell_type": "markdown",
   "id": "b7d1723f",
   "metadata": {},
   "source": [
    "# Note\n",
    "- the cell below is the one you would use to redownload any specific category that failed during initial download or if OS error, permissions error, file locking error"
   ]
  },
  {
   "cell_type": "code",
   "execution_count": null,
   "id": "2c9259a1",
   "metadata": {},
   "outputs": [
    {
     "name": "stdout",
     "output_type": "stream",
     "text": [
      "\n",
      "------Processing Beauty_and_Personal_Care------\n",
      "[SKIP] raw_review_Beauty_and_Personal_Care already exists\n",
      "⠧ Processing Beauty_and_Personal_Care "
     ]
    },
    {
     "data": {
      "application/vnd.jupyter.widget-view+json": {
       "model_id": "db418d49c5bf45c58ef5fc5d824d9578",
       "version_major": 2,
       "version_minor": 0
      },
      "text/plain": [
       "README.md:   0%|          | 0.00/30.3k [00:00<?, ?B/s]"
      ]
     },
     "metadata": {},
     "output_type": "display_data"
    },
    {
     "name": "stdout",
     "output_type": "stream",
     "text": [
      "⠏ Processing Beauty_and_Personal_Care "
     ]
    },
    {
     "data": {
      "application/vnd.jupyter.widget-view+json": {
       "model_id": "659e57c0186f4ca9ab621603cad9d634",
       "version_major": 2,
       "version_minor": 0
      },
      "text/plain": [
       "Amazon-Reviews-2023.py:   0%|          | 0.00/39.6k [00:00<?, ?B/s]"
      ]
     },
     "metadata": {},
     "output_type": "display_data"
    },
    {
     "name": "stdout",
     "output_type": "stream",
     "text": [
      "⠹ Processing Beauty_and_Personal_Care "
     ]
    },
    {
     "data": {
      "application/vnd.jupyter.widget-view+json": {
       "model_id": "476e10c3424f43b7a18658adab583750",
       "version_major": 2,
       "version_minor": 0
      },
      "text/plain": [
       "meta_Beauty_and_Personal_Care.jsonl:   0%|          | 0.00/2.84G [00:00<?, ?B/s]"
      ]
     },
     "metadata": {},
     "output_type": "display_data"
    },
    {
     "name": "stdout",
     "output_type": "stream",
     "text": [
      "⠧ Processing Beauty_and_Personal_Care "
     ]
    },
    {
     "data": {
      "application/vnd.jupyter.widget-view+json": {
       "model_id": "0927a343f6534d0d8bbbbea4f041b119",
       "version_major": 2,
       "version_minor": 0
      },
      "text/plain": [
       "Generating full split: 0 examples [00:00, ? examples/s]"
      ]
     },
     "metadata": {},
     "output_type": "display_data"
    },
    {
     "name": "stdout",
     "output_type": "stream",
     "text": [
      "⠧ Processing Beauty_and_Personal_Care "
     ]
    },
    {
     "data": {
      "application/vnd.jupyter.widget-view+json": {
       "model_id": "d0b30d8da2b44bdaa13b9079802b2590",
       "version_major": 2,
       "version_minor": 0
      },
      "text/plain": [
       "Saving the dataset (0/5 shards):   0%|          | 0/1028914 [00:00<?, ? examples/s]"
      ]
     },
     "metadata": {},
     "output_type": "display_data"
    },
    {
     "name": "stdout",
     "output_type": "stream",
     "text": [
      "[DONE] raw_meta_Beauty_and_Personal_Care downloaded\n",
      "✅ Processing Beauty_and_Personal_Care\n",
      "\n",
      "🎉 Download summary:\n",
      "  - Successfully processed: 1/1 categories\n",
      "Compressed metadata to: D:\\BigData\\raw_meta_Beauty_and_Personal_Care.tar.gz\n",
      "Error: File does not exist: D:\\BigData\\raw_review_Beauty_and_Personal_Care\n",
      "Error: File does not exist: D:\\BigData\\raw_meta_Beauty_and_Personal_Care\n",
      "\n",
      "------Processing Books------\n",
      "[SKIP] raw_review_Books already exists\n",
      "⠴ Processing Books "
     ]
    },
    {
     "data": {
      "application/vnd.jupyter.widget-view+json": {
       "model_id": "dc5bdd30de114dc1940eb4250bca45d5",
       "version_major": 2,
       "version_minor": 0
      },
      "text/plain": [
       "meta_Books.jsonl:   0%|          | 0.00/14.7G [00:00<?, ?B/s]"
      ]
     },
     "metadata": {},
     "output_type": "display_data"
    },
    {
     "name": "stdout",
     "output_type": "stream",
     "text": [
      "⠇ Processing Books "
     ]
    },
    {
     "data": {
      "application/vnd.jupyter.widget-view+json": {
       "model_id": "a3691b319dd2408c9486ed05a4d14a6e",
       "version_major": 2,
       "version_minor": 0
      },
      "text/plain": [
       "Generating full split: 0 examples [00:00, ? examples/s]"
      ]
     },
     "metadata": {},
     "output_type": "display_data"
    },
    {
     "name": "stdout",
     "output_type": "stream",
     "text": [
      "⠸ Processing Books "
     ]
    },
    {
     "data": {
      "application/vnd.jupyter.widget-view+json": {
       "model_id": "a7e23a03bd0a4cefbdd3982359570c36",
       "version_major": 2,
       "version_minor": 0
      },
      "text/plain": [
       "Loading dataset shards:   0%|          | 0/28 [00:00<?, ?it/s]"
      ]
     },
     "metadata": {},
     "output_type": "display_data"
    },
    {
     "name": "stdout",
     "output_type": "stream",
     "text": [
      "⠋ Processing Books "
     ]
    },
    {
     "data": {
      "application/vnd.jupyter.widget-view+json": {
       "model_id": "28da6e86a3084026af5fee14ee761b61",
       "version_major": 2,
       "version_minor": 0
      },
      "text/plain": [
       "Saving the dataset (0/28 shards):   0%|          | 0/4448181 [00:00<?, ? examples/s]"
      ]
     },
     "metadata": {},
     "output_type": "display_data"
    },
    {
     "name": "stdout",
     "output_type": "stream",
     "text": [
      "[DONE] raw_meta_Books downloaded\n",
      "✅ Processing Books\n",
      "\n",
      "🎉 Download summary:\n",
      "  - Successfully processed: 1/1 categories\n",
      "Compressed metadata to: D:\\BigData\\raw_meta_Books.tar.gz\n",
      "Error: File does not exist: D:\\BigData\\raw_review_Books\n",
      "Error: File does not exist: D:\\BigData\\raw_meta_Books\n",
      "\n",
      "------Processing Cell_Phones_and_Accessories------\n",
      "[SKIP] raw_review_Cell_Phones_and_Accessories already exists\n",
      "⠙ Processing Cell_Phones_and_Accessories "
     ]
    },
    {
     "data": {
      "application/vnd.jupyter.widget-view+json": {
       "model_id": "0fb8623e822e4b0bafa15bde4c675ab6",
       "version_major": 2,
       "version_minor": 0
      },
      "text/plain": [
       "meta_Cell_Phones_and_Accessories.jsonl:   0%|          | 0.00/4.02G [00:00<?, ?B/s]"
      ]
     },
     "metadata": {},
     "output_type": "display_data"
    },
    {
     "name": "stdout",
     "output_type": "stream",
     "text": [
      "⠴ Processing Cell_Phones_and_Accessories "
     ]
    },
    {
     "data": {
      "application/vnd.jupyter.widget-view+json": {
       "model_id": "2dc75f9db0224e8e9a97a141e6be3582",
       "version_major": 2,
       "version_minor": 0
      },
      "text/plain": [
       "Generating full split:   0%|          | 0/1288490 [00:00<?, ? examples/s]"
      ]
     },
     "metadata": {},
     "output_type": "display_data"
    },
    {
     "name": "stdout",
     "output_type": "stream",
     "text": [
      "⠋ Processing Cell_Phones_and_Accessories "
     ]
    },
    {
     "data": {
      "application/vnd.jupyter.widget-view+json": {
       "model_id": "d93a96f8c7ca426799961c747adbfc47",
       "version_major": 2,
       "version_minor": 0
      },
      "text/plain": [
       "Saving the dataset (0/7 shards):   0%|          | 0/1288490 [00:00<?, ? examples/s]"
      ]
     },
     "metadata": {},
     "output_type": "display_data"
    },
    {
     "name": "stdout",
     "output_type": "stream",
     "text": [
      "[DONE] raw_meta_Cell_Phones_and_Accessories downloaded\n",
      "✅ Processing Cell_Phones_and_Accessories\n",
      "\n",
      "🎉 Download summary:\n",
      "  - Successfully processed: 1/1 categories\n",
      "Compressed metadata to: D:\\BigData\\raw_meta_Cell_Phones_and_Accessories.tar.gz\n",
      "Error: File does not exist: D:\\BigData\\raw_review_Cell_Phones_and_Accessories\n",
      "Error: File does not exist: D:\\BigData\\raw_meta_Cell_Phones_and_Accessories\n",
      "\n",
      "------Processing Clothing_Shoes_and_Jewelry------\n",
      "[SKIP] raw_review_Clothing_Shoes_and_Jewelry already exists\n",
      "⠴ Processing Clothing_Shoes_and_Jewelry "
     ]
    },
    {
     "data": {
      "application/vnd.jupyter.widget-view+json": {
       "model_id": "7139f906711b45668a8bff8e8e9ed86d",
       "version_major": 2,
       "version_minor": 0
      },
      "text/plain": [
       "meta_Clothing_Shoes_and_Jewelry.jsonl:   0%|          | 0.00/18.0G [00:00<?, ?B/s]"
      ]
     },
     "metadata": {},
     "output_type": "display_data"
    },
    {
     "name": "stdout",
     "output_type": "stream",
     "text": [
      "⠴ Processing Clothing_Shoes_and_Jewelry "
     ]
    },
    {
     "data": {
      "application/vnd.jupyter.widget-view+json": {
       "model_id": "608c0306a9a04cf2bb76d8e00900797f",
       "version_major": 2,
       "version_minor": 0
      },
      "text/plain": [
       "Generating full split: 0 examples [00:00, ? examples/s]"
      ]
     },
     "metadata": {},
     "output_type": "display_data"
    },
    {
     "name": "stdout",
     "output_type": "stream",
     "text": [
      "⠇ Processing Clothing_Shoes_and_Jewelry "
     ]
    },
    {
     "data": {
      "application/vnd.jupyter.widget-view+json": {
       "model_id": "095e9ba8d1ab46459113f831d07866ec",
       "version_major": 2,
       "version_minor": 0
      },
      "text/plain": [
       "Loading dataset shards:   0%|          | 0/31 [00:00<?, ?it/s]"
      ]
     },
     "metadata": {},
     "output_type": "display_data"
    },
    {
     "name": "stdout",
     "output_type": "stream",
     "text": [
      "⠼ Processing Clothing_Shoes_and_Jewelry "
     ]
    },
    {
     "data": {
      "application/vnd.jupyter.widget-view+json": {
       "model_id": "bcbfa42cfd23493fbfd057347815b5e8",
       "version_major": 2,
       "version_minor": 0
      },
      "text/plain": [
       "Saving the dataset (0/31 shards):   0%|          | 0/7218481 [00:00<?, ? examples/s]"
      ]
     },
     "metadata": {},
     "output_type": "display_data"
    },
    {
     "name": "stdout",
     "output_type": "stream",
     "text": [
      "[DONE] raw_meta_Clothing_Shoes_and_Jewelry downloaded\n",
      "✅ Processing Clothing_Shoes_and_Jewelry\n",
      "\n",
      "🎉 Download summary:\n",
      "  - Successfully processed: 1/1 categories\n",
      "Compressed metadata to: D:\\BigData\\raw_meta_Clothing_Shoes_and_Jewelry.tar.gz\n",
      "Error: File does not exist: D:\\BigData\\raw_review_Clothing_Shoes_and_Jewelry\n",
      "Error: File does not exist: D:\\BigData\\raw_meta_Clothing_Shoes_and_Jewelry\n",
      "\n",
      "------Processing Electronics------\n",
      "[SKIP] raw_review_Electronics already exists\n",
      "💥 Processing Electronics\n",
      "Failed to process category 'Electronics': (ProtocolError('Connection aborted.', RemoteDisconnected('Remote end closed connection without response')), '(Request ID: 7a532ee0-2eec-428b-981a-91355da47b62)')\n",
      "\n",
      "🎉 Download summary:\n",
      "  - Successfully processed: 0/1 categories\n",
      "  - Failed: 1/1 categories\n",
      "    - Electronics: (ProtocolError('Connection aborted.', RemoteDisconnected('Remote end closed connection without response')), '(Request ID: 7a532ee0-2eec-428b-981a-91355da47b62)')\n",
      "Error: File does not exist: D:\\BigData\\raw_review_Electronics\n",
      "Error: File does not exist: D:\\BigData\\raw_meta_Electronics\n",
      "\n",
      "------Processing Health_and_Household------\n",
      "[SKIP] raw_review_Health_and_Household already exists\n",
      "⠸ Processing Health_and_Household "
     ]
    },
    {
     "data": {
      "application/vnd.jupyter.widget-view+json": {
       "model_id": "3eeb685c45cf4e0793aaf1df88790c9a",
       "version_major": 2,
       "version_minor": 0
      },
      "text/plain": [
       "meta_Health_and_Household.jsonl:   0%|          | 0.00/2.47G [00:00<?, ?B/s]"
      ]
     },
     "metadata": {},
     "output_type": "display_data"
    },
    {
     "name": "stdout",
     "output_type": "stream",
     "text": [
      "⠙ Processing Health_and_Household "
     ]
    },
    {
     "data": {
      "application/vnd.jupyter.widget-view+json": {
       "model_id": "fa94558fc05f459eaebdc4f4637a1d30",
       "version_major": 2,
       "version_minor": 0
      },
      "text/plain": [
       "Generating full split: 0 examples [00:00, ? examples/s]"
      ]
     },
     "metadata": {},
     "output_type": "display_data"
    },
    {
     "name": "stdout",
     "output_type": "stream",
     "text": [
      "⠸ Processing Health_and_Household "
     ]
    },
    {
     "data": {
      "application/vnd.jupyter.widget-view+json": {
       "model_id": "fae29e17e1164eefa8f882d98dfb2523",
       "version_major": 2,
       "version_minor": 0
      },
      "text/plain": [
       "Saving the dataset (0/5 shards):   0%|          | 0/797563 [00:00<?, ? examples/s]"
      ]
     },
     "metadata": {},
     "output_type": "display_data"
    },
    {
     "name": "stdout",
     "output_type": "stream",
     "text": [
      "[DONE] raw_meta_Health_and_Household downloaded\n",
      "✅ Processing Health_and_Household\n",
      "\n",
      "🎉 Download summary:\n",
      "  - Successfully processed: 1/1 categories\n",
      "Compressed metadata to: D:\\BigData\\raw_meta_Health_and_Household.tar.gz\n",
      "Error: File does not exist: D:\\BigData\\raw_review_Health_and_Household\n",
      "Error: File does not exist: D:\\BigData\\raw_meta_Health_and_Household\n",
      "\n",
      "------Processing Home_and_Kitchen------\n",
      "[SKIP] raw_review_Home_and_Kitchen already exists\n",
      "⠹ Processing Home_and_Kitchen "
     ]
    },
    {
     "data": {
      "application/vnd.jupyter.widget-view+json": {
       "model_id": "1901bd86d26b45238a7c4c107473d174",
       "version_major": 2,
       "version_minor": 0
      },
      "text/plain": [
       "meta_Home_and_Kitchen.jsonl:   0%|          | 0.00/11.8G [00:00<?, ?B/s]"
      ]
     },
     "metadata": {},
     "output_type": "display_data"
    },
    {
     "name": "stdout",
     "output_type": "stream",
     "text": [
      "⠸ Processing Home_and_Kitchen "
     ]
    },
    {
     "data": {
      "application/vnd.jupyter.widget-view+json": {
       "model_id": "9ba1ea6a2dd043df8b7bbe7440dfd5c0",
       "version_major": 2,
       "version_minor": 0
      },
      "text/plain": [
       "Generating full split: 0 examples [00:00, ? examples/s]"
      ]
     },
     "metadata": {},
     "output_type": "display_data"
    },
    {
     "name": "stdout",
     "output_type": "stream",
     "text": [
      "⠙ Processing Home_and_Kitchen "
     ]
    },
    {
     "data": {
      "application/vnd.jupyter.widget-view+json": {
       "model_id": "539bcae866ed40afaf80048fdee85329",
       "version_major": 2,
       "version_minor": 0
      },
      "text/plain": [
       "Loading dataset shards:   0%|          | 0/21 [00:00<?, ?it/s]"
      ]
     },
     "metadata": {},
     "output_type": "display_data"
    },
    {
     "name": "stdout",
     "output_type": "stream",
     "text": [
      "⠙ Processing Home_and_Kitchen "
     ]
    },
    {
     "data": {
      "application/vnd.jupyter.widget-view+json": {
       "model_id": "5ef56297a5c04ed0a73cb5355ace364a",
       "version_major": 2,
       "version_minor": 0
      },
      "text/plain": [
       "Saving the dataset (0/21 shards):   0%|          | 0/3735584 [00:00<?, ? examples/s]"
      ]
     },
     "metadata": {},
     "output_type": "display_data"
    },
    {
     "name": "stdout",
     "output_type": "stream",
     "text": [
      "[DONE] raw_meta_Home_and_Kitchen downloaded\n",
      "✅ Processing Home_and_Kitchen\n",
      "\n",
      "🎉 Download summary:\n",
      "  - Successfully processed: 1/1 categories\n",
      "Compressed metadata to: D:\\BigData\\raw_meta_Home_and_Kitchen.tar.gz\n",
      "Error: File does not exist: D:\\BigData\\raw_review_Home_and_Kitchen\n",
      "Error: File does not exist: D:\\BigData\\raw_meta_Home_and_Kitchen\n",
      "\n",
      "------Processing Kindle_Store------\n",
      "[SKIP] raw_review_Kindle_Store already exists\n",
      "💥 Processing Kindle_Store\n",
      "Failed to process category 'Kindle_Store': (ReadTimeoutError(\"HTTPSConnectionPool(host='cdn-lfs-us-1.hf.co', port=443): Read timed out. (read timeout=10)\"), '(Request ID: d6ff46ff-5cb8-47a2-9c5c-f468419d4226)')\n",
      "\n",
      "🎉 Download summary:\n",
      "  - Successfully processed: 0/1 categories\n",
      "  - Failed: 1/1 categories\n",
      "    - Kindle_Store: (ReadTimeoutError(\"HTTPSConnectionPool(host='cdn-lfs-us-1.hf.co', port=443): Read timed out. (read timeout=10)\"), '(Request ID: d6ff46ff-5cb8-47a2-9c5c-f468419d4226)')\n",
      "Error: File does not exist: D:\\BigData\\raw_review_Kindle_Store\n",
      "Error: File does not exist: D:\\BigData\\raw_meta_Kindle_Store\n",
      "\n",
      "------Processing Movies_and_TV------\n",
      "⠏ Processing Movies_and_TV "
     ]
    },
    {
     "data": {
      "application/vnd.jupyter.widget-view+json": {
       "model_id": "dff2dce1068440c8859b29fb6651a334",
       "version_major": 2,
       "version_minor": 0
      },
      "text/plain": [
       "Movies_and_TV.jsonl:   0%|          | 0.00/8.39G [00:00<?, ?B/s]"
      ]
     },
     "metadata": {},
     "output_type": "display_data"
    },
    {
     "name": "stdout",
     "output_type": "stream",
     "text": [
      "⠼ Processing Movies_and_TV "
     ]
    },
    {
     "data": {
      "application/vnd.jupyter.widget-view+json": {
       "model_id": "3fbb21bace6647d69c3a556aa7c86941",
       "version_major": 2,
       "version_minor": 0
      },
      "text/plain": [
       "Generating full split: 0 examples [00:00, ? examples/s]"
      ]
     },
     "metadata": {},
     "output_type": "display_data"
    },
    {
     "name": "stdout",
     "output_type": "stream",
     "text": [
      "⠧ Processing Movies_and_TV "
     ]
    },
    {
     "data": {
      "application/vnd.jupyter.widget-view+json": {
       "model_id": "56b1d1aa91fd4f2aa40526d0691a8578",
       "version_major": 2,
       "version_minor": 0
      },
      "text/plain": [
       "Saving the dataset (0/13 shards):   0%|          | 0/17328314 [00:00<?, ? examples/s]"
      ]
     },
     "metadata": {},
     "output_type": "display_data"
    },
    {
     "name": "stdout",
     "output_type": "stream",
     "text": [
      "[DONE] raw_review_Movies_and_TV downloaded\n",
      "💥 Processing Movies_and_TV\n",
      "Failed to process category 'Movies_and_TV': (ReadTimeoutError(\"HTTPSConnectionPool(host='cdn-lfs-us-1.hf.co', port=443): Read timed out. (read timeout=10)\"), '(Request ID: c53f70e2-aa8d-4b02-9bcc-47720a640892)')\n",
      "\n",
      "🎉 Download summary:\n",
      "  - Successfully processed: 0/1 categories\n",
      "  - Failed: 1/1 categories\n",
      "    - Movies_and_TV: (ReadTimeoutError(\"HTTPSConnectionPool(host='cdn-lfs-us-1.hf.co', port=443): Read timed out. (read timeout=10)\"), '(Request ID: c53f70e2-aa8d-4b02-9bcc-47720a640892)')\n",
      "Compressed reviews to: D:\\BigData\\raw_review_Movies_and_TV.tar.gz\n",
      "Error: File does not exist: D:\\BigData\\raw_review_Movies_and_TV\n",
      "Error: File does not exist: D:\\BigData\\raw_meta_Movies_and_TV\n",
      "\n",
      "------Processing Office_Products------\n",
      "⠋ Processing Office_Products "
     ]
    },
    {
     "data": {
      "application/vnd.jupyter.widget-view+json": {
       "model_id": "aa02084fa463410d948642540ba781b8",
       "version_major": 2,
       "version_minor": 0
      },
      "text/plain": [
       "Office_Products.jsonl:   0%|          | 0.00/5.78G [00:00<?, ?B/s]"
      ]
     },
     "metadata": {},
     "output_type": "display_data"
    },
    {
     "name": "stdout",
     "output_type": "stream",
     "text": [
      "⠇ Processing Office_Products "
     ]
    },
    {
     "data": {
      "application/vnd.jupyter.widget-view+json": {
       "model_id": "d3a906513b7841489817ca6e0b57e47d",
       "version_major": 2,
       "version_minor": 0
      },
      "text/plain": [
       "Generating full split: 0 examples [00:00, ? examples/s]"
      ]
     },
     "metadata": {},
     "output_type": "display_data"
    },
    {
     "name": "stdout",
     "output_type": "stream",
     "text": [
      "⠇ Processing Office_Products "
     ]
    },
    {
     "data": {
      "application/vnd.jupyter.widget-view+json": {
       "model_id": "83a5bd1792fa4a48a1b2269b224e22ae",
       "version_major": 2,
       "version_minor": 0
      },
      "text/plain": [
       "Saving the dataset (0/9 shards):   0%|          | 0/12845712 [00:00<?, ? examples/s]"
      ]
     },
     "metadata": {},
     "output_type": "display_data"
    },
    {
     "name": "stdout",
     "output_type": "stream",
     "text": [
      "[DONE] raw_review_Office_Products downloaded\n",
      "⠏ Processing Office_Products "
     ]
    },
    {
     "data": {
      "application/vnd.jupyter.widget-view+json": {
       "model_id": "571be172b8a84d8ebeec0baeb6c7267f",
       "version_major": 2,
       "version_minor": 0
      },
      "text/plain": [
       "meta_Office_Products.jsonl:   0%|          | 0.00/2.15G [00:00<?, ?B/s]"
      ]
     },
     "metadata": {},
     "output_type": "display_data"
    },
    {
     "name": "stdout",
     "output_type": "stream",
     "text": [
      "⠏ Processing Office_Products "
     ]
    },
    {
     "data": {
      "application/vnd.jupyter.widget-view+json": {
       "model_id": "59c8fb0719834971a2f78d455a24e21e",
       "version_major": 2,
       "version_minor": 0
      },
      "text/plain": [
       "Generating full split: 0 examples [00:00, ? examples/s]"
      ]
     },
     "metadata": {},
     "output_type": "display_data"
    },
    {
     "name": "stdout",
     "output_type": "stream",
     "text": [
      "⠇ Processing Office_Products "
     ]
    },
    {
     "data": {
      "application/vnd.jupyter.widget-view+json": {
       "model_id": "134e838fbe6846efacaf2fd9b4cb6310",
       "version_major": 2,
       "version_minor": 0
      },
      "text/plain": [
       "Saving the dataset (0/4 shards):   0%|          | 0/710503 [00:00<?, ? examples/s]"
      ]
     },
     "metadata": {},
     "output_type": "display_data"
    },
    {
     "name": "stdout",
     "output_type": "stream",
     "text": [
      "[DONE] raw_meta_Office_Products downloaded\n",
      "✅ Processing Office_Products\n",
      "\n",
      "🎉 Download summary:\n",
      "  - Successfully processed: 1/1 categories\n",
      "Compressed reviews to: D:\\BigData\\raw_review_Office_Products.tar.gz\n",
      "Compressed metadata to: D:\\BigData\\raw_meta_Office_Products.tar.gz\n",
      "Error: File does not exist: D:\\BigData\\raw_review_Office_Products\n",
      "Error: File does not exist: D:\\BigData\\raw_meta_Office_Products\n",
      "\n",
      "------Processing Patio_Lawn_and_Garden------\n",
      "⠼ Processing Patio_Lawn_and_Garden "
     ]
    },
    {
     "data": {
      "application/vnd.jupyter.widget-view+json": {
       "model_id": "67d2b1273b6f4fbdb5acb70086762087",
       "version_major": 2,
       "version_minor": 0
      },
      "text/plain": [
       "Patio_Lawn_and_Garden.jsonl:   0%|          | 0.00/7.75G [00:00<?, ?B/s]"
      ]
     },
     "metadata": {},
     "output_type": "display_data"
    },
    {
     "name": "stdout",
     "output_type": "stream",
     "text": [
      "⠼ Processing Patio_Lawn_and_Garden "
     ]
    },
    {
     "data": {
      "application/vnd.jupyter.widget-view+json": {
       "model_id": "7aaaca68f7a04fff9c3abae4cadee823",
       "version_major": 2,
       "version_minor": 0
      },
      "text/plain": [
       "Generating full split: 0 examples [00:00, ? examples/s]"
      ]
     },
     "metadata": {},
     "output_type": "display_data"
    },
    {
     "name": "stdout",
     "output_type": "stream",
     "text": [
      "⠇ Processing Patio_Lawn_and_Garden "
     ]
    },
    {
     "data": {
      "application/vnd.jupyter.widget-view+json": {
       "model_id": "493769a066ac41259ea22c01c4d0567a",
       "version_major": 2,
       "version_minor": 0
      },
      "text/plain": [
       "Saving the dataset (0/11 shards):   0%|          | 0/16490047 [00:00<?, ? examples/s]"
      ]
     },
     "metadata": {},
     "output_type": "display_data"
    },
    {
     "name": "stdout",
     "output_type": "stream",
     "text": [
      "[DONE] raw_review_Patio_Lawn_and_Garden downloaded\n",
      "⠼ Processing Patio_Lawn_and_Garden "
     ]
    },
    {
     "data": {
      "application/vnd.jupyter.widget-view+json": {
       "model_id": "9f401102c8d54e168a9ded049198d1e4",
       "version_major": 2,
       "version_minor": 0
      },
      "text/plain": [
       "meta_Patio_Lawn_and_Garden.jsonl:   0%|          | 0.00/2.71G [00:00<?, ?B/s]"
      ]
     },
     "metadata": {},
     "output_type": "display_data"
    },
    {
     "name": "stdout",
     "output_type": "stream",
     "text": [
      "⠧ Processing Patio_Lawn_and_Garden "
     ]
    },
    {
     "data": {
      "application/vnd.jupyter.widget-view+json": {
       "model_id": "f6799f39a6c2443e8d0a9ff0349eafda",
       "version_major": 2,
       "version_minor": 0
      },
      "text/plain": [
       "Generating full split: 0 examples [00:00, ? examples/s]"
      ]
     },
     "metadata": {},
     "output_type": "display_data"
    },
    {
     "name": "stdout",
     "output_type": "stream",
     "text": [
      "⠇ Processing Patio_Lawn_and_Garden "
     ]
    },
    {
     "data": {
      "application/vnd.jupyter.widget-view+json": {
       "model_id": "662f8adbb8904793a78afdfd20019672",
       "version_major": 2,
       "version_minor": 0
      },
      "text/plain": [
       "Saving the dataset (0/5 shards):   0%|          | 0/851907 [00:00<?, ? examples/s]"
      ]
     },
     "metadata": {},
     "output_type": "display_data"
    },
    {
     "name": "stdout",
     "output_type": "stream",
     "text": [
      "[DONE] raw_meta_Patio_Lawn_and_Garden downloaded\n",
      "✅ Processing Patio_Lawn_and_Garden\n",
      "\n",
      "🎉 Download summary:\n",
      "  - Successfully processed: 1/1 categories\n",
      "Compressed reviews to: D:\\BigData\\raw_review_Patio_Lawn_and_Garden.tar.gz\n",
      "Compressed metadata to: D:\\BigData\\raw_meta_Patio_Lawn_and_Garden.tar.gz\n",
      "Error: File does not exist: D:\\BigData\\raw_review_Patio_Lawn_and_Garden\n",
      "Error: File does not exist: D:\\BigData\\raw_meta_Patio_Lawn_and_Garden\n",
      "\n",
      "------Processing Pet_Supplies------\n",
      "⠸ Processing Pet_Supplies "
     ]
    },
    {
     "data": {
      "application/vnd.jupyter.widget-view+json": {
       "model_id": "95f684ed8cf44c64885f22d240ca78fe",
       "version_major": 2,
       "version_minor": 0
      },
      "text/plain": [
       "Pet_Supplies.jsonl:   0%|          | 0.00/8.35G [00:00<?, ?B/s]"
      ]
     },
     "metadata": {},
     "output_type": "display_data"
    },
    {
     "name": "stdout",
     "output_type": "stream",
     "text": [
      "⠏ Processing Pet_Supplies "
     ]
    },
    {
     "data": {
      "application/vnd.jupyter.widget-view+json": {
       "model_id": "55a6f1a91df64f4b8193ccdc8859ca79",
       "version_major": 2,
       "version_minor": 0
      },
      "text/plain": [
       "Generating full split: 0 examples [00:00, ? examples/s]"
      ]
     },
     "metadata": {},
     "output_type": "display_data"
    },
    {
     "name": "stdout",
     "output_type": "stream",
     "text": [
      "⠏ Processing Pet_Supplies "
     ]
    },
    {
     "data": {
      "application/vnd.jupyter.widget-view+json": {
       "model_id": "1645e33cf1524e59aa3948729695ef19",
       "version_major": 2,
       "version_minor": 0
      },
      "text/plain": [
       "Saving the dataset (0/13 shards):   0%|          | 0/16827862 [00:00<?, ? examples/s]"
      ]
     },
     "metadata": {},
     "output_type": "display_data"
    },
    {
     "name": "stdout",
     "output_type": "stream",
     "text": [
      "[DONE] raw_review_Pet_Supplies downloaded\n",
      "⠦ Processing Pet_Supplies "
     ]
    },
    {
     "data": {
      "application/vnd.jupyter.widget-view+json": {
       "model_id": "198d9d080d724d068fff9922f3a46eda",
       "version_major": 2,
       "version_minor": 0
      },
      "text/plain": [
       "meta_Pet_Supplies.jsonl:   0%|          | 0.00/1.57G [00:00<?, ?B/s]"
      ]
     },
     "metadata": {},
     "output_type": "display_data"
    },
    {
     "name": "stdout",
     "output_type": "stream",
     "text": [
      "⠸ Processing Pet_Supplies "
     ]
    },
    {
     "data": {
      "application/vnd.jupyter.widget-view+json": {
       "model_id": "688a7adf34a74b35bf6f21f8997a7486",
       "version_major": 2,
       "version_minor": 0
      },
      "text/plain": [
       "Generating full split: 0 examples [00:00, ? examples/s]"
      ]
     },
     "metadata": {},
     "output_type": "display_data"
    },
    {
     "name": "stdout",
     "output_type": "stream",
     "text": [
      "⠏ Processing Pet_Supplies "
     ]
    },
    {
     "data": {
      "application/vnd.jupyter.widget-view+json": {
       "model_id": "12aa6e745114460b9fbf1ab742a49615",
       "version_major": 2,
       "version_minor": 0
      },
      "text/plain": [
       "Saving the dataset (0/3 shards):   0%|          | 0/492798 [00:00<?, ? examples/s]"
      ]
     },
     "metadata": {},
     "output_type": "display_data"
    },
    {
     "name": "stdout",
     "output_type": "stream",
     "text": [
      "[DONE] raw_meta_Pet_Supplies downloaded\n",
      "✅ Processing Pet_Supplies\n",
      "\n",
      "🎉 Download summary:\n",
      "  - Successfully processed: 1/1 categories\n",
      "Compressed reviews to: D:\\BigData\\raw_review_Pet_Supplies.tar.gz\n",
      "Compressed metadata to: D:\\BigData\\raw_meta_Pet_Supplies.tar.gz\n",
      "Error: File does not exist: D:\\BigData\\raw_review_Pet_Supplies\n",
      "Error: File does not exist: D:\\BigData\\raw_meta_Pet_Supplies\n",
      "\n",
      "------Processing Software------\n",
      "⠹ Processing Software "
     ]
    },
    {
     "data": {
      "application/vnd.jupyter.widget-view+json": {
       "model_id": "e52e3d4401ef46c39f3455eb00851915",
       "version_major": 2,
       "version_minor": 0
      },
      "text/plain": [
       "Software.jsonl:   0%|          | 0.00/1.87G [00:00<?, ?B/s]"
      ]
     },
     "metadata": {},
     "output_type": "display_data"
    },
    {
     "name": "stdout",
     "output_type": "stream",
     "text": [
      "⠹ Processing Software "
     ]
    },
    {
     "data": {
      "application/vnd.jupyter.widget-view+json": {
       "model_id": "f80fd1888ada4988b1b51b74ca414156",
       "version_major": 2,
       "version_minor": 0
      },
      "text/plain": [
       "Generating full split: 0 examples [00:00, ? examples/s]"
      ]
     },
     "metadata": {},
     "output_type": "display_data"
    },
    {
     "name": "stdout",
     "output_type": "stream",
     "text": [
      "⠼ Processing Software "
     ]
    },
    {
     "data": {
      "application/vnd.jupyter.widget-view+json": {
       "model_id": "70d01d931b984c72b8b6fcd373d2872a",
       "version_major": 2,
       "version_minor": 0
      },
      "text/plain": [
       "Saving the dataset (0/3 shards):   0%|          | 0/4880181 [00:00<?, ? examples/s]"
      ]
     },
     "metadata": {},
     "output_type": "display_data"
    },
    {
     "name": "stdout",
     "output_type": "stream",
     "text": [
      "[DONE] raw_review_Software downloaded\n",
      "⠦ Processing Software "
     ]
    },
    {
     "data": {
      "application/vnd.jupyter.widget-view+json": {
       "model_id": "3e636fa8649347318b34704ece0f229f",
       "version_major": 2,
       "version_minor": 0
      },
      "text/plain": [
       "meta_Software.jsonl:   0%|          | 0.00/256M [00:00<?, ?B/s]"
      ]
     },
     "metadata": {},
     "output_type": "display_data"
    },
    {
     "name": "stdout",
     "output_type": "stream",
     "text": [
      "⠼ Processing Software "
     ]
    },
    {
     "data": {
      "application/vnd.jupyter.widget-view+json": {
       "model_id": "bc7449342e8644ddab7a59eb8e85956c",
       "version_major": 2,
       "version_minor": 0
      },
      "text/plain": [
       "Generating full split: 0 examples [00:00, ? examples/s]"
      ]
     },
     "metadata": {},
     "output_type": "display_data"
    },
    {
     "name": "stdout",
     "output_type": "stream",
     "text": [
      "⠼ Processing Software "
     ]
    },
    {
     "data": {
      "application/vnd.jupyter.widget-view+json": {
       "model_id": "392873e9fffa4fb2aa19062e4b2c8bec",
       "version_major": 2,
       "version_minor": 0
      },
      "text/plain": [
       "Saving the dataset (0/1 shards):   0%|          | 0/89251 [00:00<?, ? examples/s]"
      ]
     },
     "metadata": {},
     "output_type": "display_data"
    },
    {
     "name": "stdout",
     "output_type": "stream",
     "text": [
      "[DONE] raw_meta_Software downloaded\n",
      "✅ Processing Software\n",
      "\n",
      "🎉 Download summary:\n",
      "  - Successfully processed: 1/1 categories\n",
      "Compressed reviews to: D:\\BigData\\raw_review_Software.tar.gz\n",
      "Compressed metadata to: D:\\BigData\\raw_meta_Software.tar.gz\n",
      "Error: File does not exist: D:\\BigData\\raw_review_Software\n",
      "Error: File does not exist: D:\\BigData\\raw_meta_Software\n",
      "\n",
      "------Processing Sports_and_Outdoors------\n",
      "⠴ Processing Sports_and_Outdoors "
     ]
    },
    {
     "data": {
      "application/vnd.jupyter.widget-view+json": {
       "model_id": "71473ca2b6574825ae03b68fb2e95dbf",
       "version_major": 2,
       "version_minor": 0
      },
      "text/plain": [
       "Sports_and_Outdoors.jsonl:   0%|          | 0.00/9.26G [00:00<?, ?B/s]"
      ]
     },
     "metadata": {},
     "output_type": "display_data"
    },
    {
     "name": "stdout",
     "output_type": "stream",
     "text": [
      "⠧ Processing Sports_and_Outdoors "
     ]
    },
    {
     "data": {
      "application/vnd.jupyter.widget-view+json": {
       "model_id": "3c2173775f9f47cd8f5f1002d372a98d",
       "version_major": 2,
       "version_minor": 0
      },
      "text/plain": [
       "Generating full split: 0 examples [00:00, ? examples/s]"
      ]
     },
     "metadata": {},
     "output_type": "display_data"
    },
    {
     "name": "stdout",
     "output_type": "stream",
     "text": [
      "⠏ Processing Sports_and_Outdoors "
     ]
    },
    {
     "data": {
      "application/vnd.jupyter.widget-view+json": {
       "model_id": "81e80e70bbb441ecb91d37f8dd9c7e5e",
       "version_major": 2,
       "version_minor": 0
      },
      "text/plain": [
       "Saving the dataset (0/14 shards):   0%|          | 0/19595170 [00:00<?, ? examples/s]"
      ]
     },
     "metadata": {},
     "output_type": "display_data"
    },
    {
     "name": "stdout",
     "output_type": "stream",
     "text": [
      "[DONE] raw_review_Sports_and_Outdoors downloaded\n",
      "💥 Processing Sports_and_Outdoors\n",
      "Failed to process category 'Sports_and_Outdoors': (ReadTimeoutError(\"HTTPSConnectionPool(host='cdn-lfs-us-1.hf.co', port=443): Read timed out. (read timeout=10)\"), '(Request ID: e1b6f79a-c692-4781-8672-7be951ea5186)')\n",
      "\n",
      "🎉 Download summary:\n",
      "  - Successfully processed: 0/1 categories\n",
      "  - Failed: 1/1 categories\n",
      "    - Sports_and_Outdoors: (ReadTimeoutError(\"HTTPSConnectionPool(host='cdn-lfs-us-1.hf.co', port=443): Read timed out. (read timeout=10)\"), '(Request ID: e1b6f79a-c692-4781-8672-7be951ea5186)')\n",
      "Compressed reviews to: D:\\BigData\\raw_review_Sports_and_Outdoors.tar.gz\n",
      "Error: File does not exist: D:\\BigData\\raw_review_Sports_and_Outdoors\n",
      "Error: File does not exist: D:\\BigData\\raw_meta_Sports_and_Outdoors\n",
      "\n",
      "------Processing Subscription_Boxes------\n",
      "⠇ Processing Subscription_Boxes "
     ]
    },
    {
     "data": {
      "application/vnd.jupyter.widget-view+json": {
       "model_id": "118dbb7d91bd42c7946524ac5bcab1a7",
       "version_major": 2,
       "version_minor": 0
      },
      "text/plain": [
       "Subscription_Boxes.jsonl:   0%|          | 0.00/8.95M [00:00<?, ?B/s]"
      ]
     },
     "metadata": {},
     "output_type": "display_data"
    },
    {
     "name": "stdout",
     "output_type": "stream",
     "text": [
      "⠇ Processing Subscription_Boxes "
     ]
    },
    {
     "data": {
      "application/vnd.jupyter.widget-view+json": {
       "model_id": "62da594b18264230b7d57bbc8957514e",
       "version_major": 2,
       "version_minor": 0
      },
      "text/plain": [
       "Generating full split: 0 examples [00:00, ? examples/s]"
      ]
     },
     "metadata": {},
     "output_type": "display_data"
    },
    {
     "name": "stdout",
     "output_type": "stream",
     "text": [
      "⠙ Processing Subscription_Boxes "
     ]
    },
    {
     "data": {
      "application/vnd.jupyter.widget-view+json": {
       "model_id": "b7825a369e764becba618bd1b8bb93ba",
       "version_major": 2,
       "version_minor": 0
      },
      "text/plain": [
       "Saving the dataset (0/1 shards):   0%|          | 0/16216 [00:00<?, ? examples/s]"
      ]
     },
     "metadata": {},
     "output_type": "display_data"
    },
    {
     "name": "stdout",
     "output_type": "stream",
     "text": [
      "[DONE] raw_review_Subscription_Boxes downloaded\n",
      "⠼ Processing Subscription_Boxes "
     ]
    },
    {
     "data": {
      "application/vnd.jupyter.widget-view+json": {
       "model_id": "6e23011684184859a529f039da262b86",
       "version_major": 2,
       "version_minor": 0
      },
      "text/plain": [
       "meta_Subscription_Boxes.jsonl:   0%|          | 0.00/1.40M [00:00<?, ?B/s]"
      ]
     },
     "metadata": {},
     "output_type": "display_data"
    },
    {
     "name": "stdout",
     "output_type": "stream",
     "text": [
      "⠴ Processing Subscription_Boxes "
     ]
    },
    {
     "data": {
      "application/vnd.jupyter.widget-view+json": {
       "model_id": "bc05b2041473479fab00207a9cb18dd3",
       "version_major": 2,
       "version_minor": 0
      },
      "text/plain": [
       "Generating full split: 0 examples [00:00, ? examples/s]"
      ]
     },
     "metadata": {},
     "output_type": "display_data"
    },
    {
     "name": "stdout",
     "output_type": "stream",
     "text": [
      "⠧ Processing Subscription_Boxes "
     ]
    },
    {
     "data": {
      "application/vnd.jupyter.widget-view+json": {
       "model_id": "c7eb21bfcba946a29affc7a6f58c7ef8",
       "version_major": 2,
       "version_minor": 0
      },
      "text/plain": [
       "Saving the dataset (0/1 shards):   0%|          | 0/641 [00:00<?, ? examples/s]"
      ]
     },
     "metadata": {},
     "output_type": "display_data"
    },
    {
     "name": "stdout",
     "output_type": "stream",
     "text": [
      "[DONE] raw_meta_Subscription_Boxes downloaded\n",
      "✅ Processing Subscription_Boxes\n",
      "\n",
      "🎉 Download summary:\n",
      "  - Successfully processed: 1/1 categories\n",
      "Compressed reviews to: D:\\BigData\\raw_review_Subscription_Boxes.tar.gz\n",
      "Compressed metadata to: D:\\BigData\\raw_meta_Subscription_Boxes.tar.gz\n",
      "Error: File does not exist: D:\\BigData\\raw_review_Subscription_Boxes\n",
      "Error: File does not exist: D:\\BigData\\raw_meta_Subscription_Boxes\n",
      "\n",
      "------Processing Tools_and_Home_Improvement------\n",
      "⠋ Processing Tools_and_Home_Improvement "
     ]
    },
    {
     "data": {
      "application/vnd.jupyter.widget-view+json": {
       "model_id": "87d0ec9f5ab24b4f98eb3b47e6bd9bbf",
       "version_major": 2,
       "version_minor": 0
      },
      "text/plain": [
       "Tools_and_Home_Improvement.jsonl:   0%|          | 0.00/12.8G [00:00<?, ?B/s]"
      ]
     },
     "metadata": {},
     "output_type": "display_data"
    },
    {
     "name": "stdout",
     "output_type": "stream",
     "text": [
      "⠋ Processing Tools_and_Home_Improvement "
     ]
    },
    {
     "data": {
      "application/vnd.jupyter.widget-view+json": {
       "model_id": "b584a339c4994ad09332d35b835504d4",
       "version_major": 2,
       "version_minor": 0
      },
      "text/plain": [
       "Generating full split: 0 examples [00:00, ? examples/s]"
      ]
     },
     "metadata": {},
     "output_type": "display_data"
    },
    {
     "name": "stdout",
     "output_type": "stream",
     "text": [
      "⠸ Processing Tools_and_Home_Improvement "
     ]
    },
    {
     "data": {
      "application/vnd.jupyter.widget-view+json": {
       "model_id": "c1e99f074e5b41d6a1521b001d0e9e22",
       "version_major": 2,
       "version_minor": 0
      },
      "text/plain": [
       "Loading dataset shards:   0%|          | 0/19 [00:00<?, ?it/s]"
      ]
     },
     "metadata": {},
     "output_type": "display_data"
    },
    {
     "name": "stdout",
     "output_type": "stream",
     "text": [
      "⠧ Processing Tools_and_Home_Improvement "
     ]
    },
    {
     "data": {
      "application/vnd.jupyter.widget-view+json": {
       "model_id": "7d228efd36b74bd5aa727b53c5de60aa",
       "version_major": 2,
       "version_minor": 0
      },
      "text/plain": [
       "Saving the dataset (0/19 shards):   0%|          | 0/26982256 [00:00<?, ? examples/s]"
      ]
     },
     "metadata": {},
     "output_type": "display_data"
    },
    {
     "name": "stdout",
     "output_type": "stream",
     "text": [
      "[DONE] raw_review_Tools_and_Home_Improvement downloaded\n",
      "⠋ Processing Tools_and_Home_Improvement "
     ]
    },
    {
     "data": {
      "application/vnd.jupyter.widget-view+json": {
       "model_id": "bd2e9f798cd248708af2c4cd057754d5",
       "version_major": 2,
       "version_minor": 0
      },
      "text/plain": [
       "meta_Tools_and_Home_Improvement.jsonl:   0%|          | 0.00/4.85G [00:00<?, ?B/s]"
      ]
     },
     "metadata": {},
     "output_type": "display_data"
    },
    {
     "name": "stdout",
     "output_type": "stream",
     "text": [
      "⠙ Processing Tools_and_Home_Improvement "
     ]
    },
    {
     "data": {
      "application/vnd.jupyter.widget-view+json": {
       "model_id": "9355c8b2f93a422297b9aea42ce1c3bf",
       "version_major": 2,
       "version_minor": 0
      },
      "text/plain": [
       "Generating full split: 0 examples [00:00, ? examples/s]"
      ]
     },
     "metadata": {},
     "output_type": "display_data"
    },
    {
     "name": "stdout",
     "output_type": "stream",
     "text": [
      "⠋ Processing Tools_and_Home_Improvement "
     ]
    },
    {
     "data": {
      "application/vnd.jupyter.widget-view+json": {
       "model_id": "c604527edcf344edb2909bd4872fd1ff",
       "version_major": 2,
       "version_minor": 0
      },
      "text/plain": [
       "Saving the dataset (0/9 shards):   0%|          | 0/1473810 [00:00<?, ? examples/s]"
      ]
     },
     "metadata": {},
     "output_type": "display_data"
    },
    {
     "name": "stdout",
     "output_type": "stream",
     "text": [
      "[DONE] raw_meta_Tools_and_Home_Improvement downloaded\n",
      "✅ Processing Tools_and_Home_Improvement\n",
      "\n",
      "🎉 Download summary:\n",
      "  - Successfully processed: 1/1 categories\n",
      "Compressed reviews to: D:\\BigData\\raw_review_Tools_and_Home_Improvement.tar.gz\n",
      "Compressed metadata to: D:\\BigData\\raw_meta_Tools_and_Home_Improvement.tar.gz\n",
      "Error: File does not exist: D:\\BigData\\raw_review_Tools_and_Home_Improvement\n",
      "Error: File does not exist: D:\\BigData\\raw_meta_Tools_and_Home_Improvement\n",
      "\n",
      "------Processing Toys_and_Games------\n",
      "⠙ Processing Toys_and_Games "
     ]
    },
    {
     "data": {
      "application/vnd.jupyter.widget-view+json": {
       "model_id": "fb4ea487630244d4b873e0d11de28210",
       "version_major": 2,
       "version_minor": 0
      },
      "text/plain": [
       "Toys_and_Games.jsonl:   0%|          | 0.00/7.32G [00:00<?, ?B/s]"
      ]
     },
     "metadata": {},
     "output_type": "display_data"
    },
    {
     "name": "stdout",
     "output_type": "stream",
     "text": [
      "⠹ Processing Toys_and_Games "
     ]
    },
    {
     "data": {
      "application/vnd.jupyter.widget-view+json": {
       "model_id": "87d959f0b5404a1d9fbfe9fead8db029",
       "version_major": 2,
       "version_minor": 0
      },
      "text/plain": [
       "Generating full split: 0 examples [00:00, ? examples/s]"
      ]
     },
     "metadata": {},
     "output_type": "display_data"
    },
    {
     "name": "stdout",
     "output_type": "stream",
     "text": [
      "⠴ Processing Toys_and_Games "
     ]
    },
    {
     "data": {
      "application/vnd.jupyter.widget-view+json": {
       "model_id": "8be26b0db218481b8052583eb412cbbd",
       "version_major": 2,
       "version_minor": 0
      },
      "text/plain": [
       "Saving the dataset (0/11 shards):   0%|          | 0/16260406 [00:00<?, ? examples/s]"
      ]
     },
     "metadata": {},
     "output_type": "display_data"
    },
    {
     "name": "stdout",
     "output_type": "stream",
     "text": [
      "[DONE] raw_review_Toys_and_Games downloaded\n",
      "⠋ Processing Toys_and_Games "
     ]
    },
    {
     "data": {
      "application/vnd.jupyter.widget-view+json": {
       "model_id": "0aaf7e7c74c24600a0b9b22f9e9377a2",
       "version_major": 2,
       "version_minor": 0
      },
      "text/plain": [
       "meta_Toys_and_Games.jsonl:   0%|          | 0.00/2.64G [00:00<?, ?B/s]"
      ]
     },
     "metadata": {},
     "output_type": "display_data"
    },
    {
     "name": "stdout",
     "output_type": "stream",
     "text": [
      "⠦ Processing Toys_and_Games "
     ]
    },
    {
     "data": {
      "application/vnd.jupyter.widget-view+json": {
       "model_id": "ed954a4c27ef4f4fb3a9a4d1414f5563",
       "version_major": 2,
       "version_minor": 0
      },
      "text/plain": [
       "Generating full split:   0%|          | 0/890874 [00:00<?, ? examples/s]"
      ]
     },
     "metadata": {},
     "output_type": "display_data"
    },
    {
     "name": "stdout",
     "output_type": "stream",
     "text": [
      "⠙ Processing Toys_and_Games "
     ]
    },
    {
     "data": {
      "application/vnd.jupyter.widget-view+json": {
       "model_id": "447e2401c30548328c9cdc469e08342a",
       "version_major": 2,
       "version_minor": 0
      },
      "text/plain": [
       "Saving the dataset (0/5 shards):   0%|          | 0/890874 [00:00<?, ? examples/s]"
      ]
     },
     "metadata": {},
     "output_type": "display_data"
    },
    {
     "name": "stdout",
     "output_type": "stream",
     "text": [
      "[DONE] raw_meta_Toys_and_Games downloaded\n",
      "✅ Processing Toys_and_Games\n",
      "\n",
      "🎉 Download summary:\n",
      "  - Successfully processed: 1/1 categories\n",
      "Compressed reviews to: D:\\BigData\\raw_review_Toys_and_Games.tar.gz\n",
      "Compressed metadata to: D:\\BigData\\raw_meta_Toys_and_Games.tar.gz\n",
      "Error: File does not exist: D:\\BigData\\raw_review_Toys_and_Games\n",
      "Error: File does not exist: D:\\BigData\\raw_meta_Toys_and_Games\n",
      "\n",
      "------Processing Video_Games------\n",
      "⠙ Processing Video_Games "
     ]
    },
    {
     "data": {
      "application/vnd.jupyter.widget-view+json": {
       "model_id": "738c0afeab8d4f368ec560855f33080c",
       "version_major": 2,
       "version_minor": 0
      },
      "text/plain": [
       "Video_Games.jsonl:   0%|          | 0.00/2.68G [00:00<?, ?B/s]"
      ]
     },
     "metadata": {},
     "output_type": "display_data"
    },
    {
     "name": "stdout",
     "output_type": "stream",
     "text": [
      "⠼ Processing Video_Games "
     ]
    },
    {
     "data": {
      "application/vnd.jupyter.widget-view+json": {
       "model_id": "987782deb2a94411a84a1069ebbbb488",
       "version_major": 2,
       "version_minor": 0
      },
      "text/plain": [
       "Generating full split: 0 examples [00:00, ? examples/s]"
      ]
     },
     "metadata": {},
     "output_type": "display_data"
    },
    {
     "name": "stdout",
     "output_type": "stream",
     "text": [
      "⠹ Processing Video_Games "
     ]
    },
    {
     "data": {
      "application/vnd.jupyter.widget-view+json": {
       "model_id": "805c49c473ae430db7613f08433b2361",
       "version_major": 2,
       "version_minor": 0
      },
      "text/plain": [
       "Saving the dataset (0/5 shards):   0%|          | 0/4624615 [00:00<?, ? examples/s]"
      ]
     },
     "metadata": {},
     "output_type": "display_data"
    },
    {
     "name": "stdout",
     "output_type": "stream",
     "text": [
      "[DONE] raw_review_Video_Games downloaded\n",
      "⠋ Processing Video_Games "
     ]
    },
    {
     "data": {
      "application/vnd.jupyter.widget-view+json": {
       "model_id": "ed7c802b54cf4dd1b6bccf29902c7141",
       "version_major": 2,
       "version_minor": 0
      },
      "text/plain": [
       "meta_Video_Games.jsonl:   0%|          | 0.00/437M [00:00<?, ?B/s]"
      ]
     },
     "metadata": {},
     "output_type": "display_data"
    },
    {
     "name": "stdout",
     "output_type": "stream",
     "text": [
      "⠧ Processing Video_Games "
     ]
    },
    {
     "data": {
      "application/vnd.jupyter.widget-view+json": {
       "model_id": "66e8156cf94142b493bb806b2bd22e20",
       "version_major": 2,
       "version_minor": 0
      },
      "text/plain": [
       "Generating full split: 0 examples [00:00, ? examples/s]"
      ]
     },
     "metadata": {},
     "output_type": "display_data"
    },
    {
     "name": "stdout",
     "output_type": "stream",
     "text": [
      "⠸ Processing Video_Games "
     ]
    },
    {
     "data": {
      "application/vnd.jupyter.widget-view+json": {
       "model_id": "22761a5c6f3e427ebb0fbf80afe316d6",
       "version_major": 2,
       "version_minor": 0
      },
      "text/plain": [
       "Saving the dataset (0/1 shards):   0%|          | 0/137269 [00:00<?, ? examples/s]"
      ]
     },
     "metadata": {},
     "output_type": "display_data"
    },
    {
     "name": "stdout",
     "output_type": "stream",
     "text": [
      "[DONE] raw_meta_Video_Games downloaded\n",
      "✅ Processing Video_Games \n",
      "\n",
      "🎉 Download summary:\n",
      "  - Successfully processed: 1/1 categories\n",
      "Compressed reviews to: D:\\BigData\\raw_review_Video_Games.tar.gz\n",
      "Compressed metadata to: D:\\BigData\\raw_meta_Video_Games.tar.gz\n",
      "Error: File does not exist: D:\\BigData\\raw_review_Video_Games\n",
      "Error: File does not exist: D:\\BigData\\raw_meta_Video_Games\n",
      "\n",
      "------Processing Unknown------\n",
      "⠹ Processing Unknown "
     ]
    },
    {
     "data": {
      "application/vnd.jupyter.widget-view+json": {
       "model_id": "157326f1ca674917ad6012f6616867aa",
       "version_major": 2,
       "version_minor": 0
      },
      "text/plain": [
       "Unknown.jsonl:   0%|          | 0.00/29.9G [00:00<?, ?B/s]"
      ]
     },
     "metadata": {},
     "output_type": "display_data"
    },
    {
     "name": "stdout",
     "output_type": "stream",
     "text": [
      "⠼ Processing Unknown "
     ]
    },
    {
     "data": {
      "application/vnd.jupyter.widget-view+json": {
       "model_id": "fa856b399d3b422b92047c4a0a0d9b3d",
       "version_major": 2,
       "version_minor": 0
      },
      "text/plain": [
       "Generating full split: 0 examples [00:00, ? examples/s]"
      ]
     },
     "metadata": {},
     "output_type": "display_data"
    },
    {
     "name": "stdout",
     "output_type": "stream",
     "text": [
      "⠦ Processing Unknown "
     ]
    },
    {
     "data": {
      "application/vnd.jupyter.widget-view+json": {
       "model_id": "b2c9b524c84543199cfa26ad088542b1",
       "version_major": 2,
       "version_minor": 0
      },
      "text/plain": [
       "Loading dataset shards:   0%|          | 0/43 [00:00<?, ?it/s]"
      ]
     },
     "metadata": {},
     "output_type": "display_data"
    },
    {
     "name": "stdout",
     "output_type": "stream",
     "text": [
      "⠸ Processing Unknown "
     ]
    },
    {
     "data": {
      "application/vnd.jupyter.widget-view+json": {
       "model_id": "9fc0280a23294a12ad4ae077a18bc182",
       "version_major": 2,
       "version_minor": 0
      },
      "text/plain": [
       "Saving the dataset (0/43 shards):   0%|          | 0/63814110 [00:00<?, ? examples/s]"
      ]
     },
     "metadata": {},
     "output_type": "display_data"
    },
    {
     "name": "stdout",
     "output_type": "stream",
     "text": [
      "[DONE] raw_review_Unknown downloaded\n",
      "💥 Processing Unknown\n",
      "Failed to process category 'Unknown': (ProtocolError('Connection aborted.', RemoteDisconnected('Remote end closed connection without response')), '(Request ID: df372fc8-bad9-4e85-8f54-e60203ad1539)')\n",
      "\n",
      "🎉 Download summary:\n",
      "  - Successfully processed: 0/1 categories\n",
      "  - Failed: 1/1 categories\n",
      "    - Unknown: (ProtocolError('Connection aborted.', RemoteDisconnected('Remote end closed connection without response')), '(Request ID: df372fc8-bad9-4e85-8f54-e60203ad1539)')\n",
      "Compressed reviews to: D:\\BigData\\raw_review_Unknown.tar.gz\n",
      "Error: File does not exist: D:\\BigData\\raw_review_Unknown\n",
      "Error: File does not exist: D:\\BigData\\raw_meta_Unknown\n"
     ]
    }
   ],
   "source": [
    "save_path = Path(r\"D:\\BigData\")\n",
    "save_path.mkdir(parents=True, exist_ok=True)\n",
    "# category = \"\"\n",
    "remaining= [\"Electronics\", \"Kindle_Store\", \"Movies_and_TV\", \n",
    "            \"Sports_and_Outdoors\", \"Unknown\"\n",
    "            ]\n",
    "\n",
    "for category in remaining:\n",
    "    logging.info(f\"n------Processing {category}------\")\n",
    "    print(f\"\\n------Processing {category}------\")\n",
    "\n",
    "    download_all_amazon_reviews(base_save_path=save_path, \n",
    "                                categories=[category], compress=False)\n",
    "\n",
    "    review_folder = save_path / f\"raw_review_{category}\"\n",
    "    metadata_folder = save_path / f\"raw_meta_{category}\"\n",
    "\n",
    "    if review_folder.exists():\n",
    "        compressed = compress_folder(review_folder, \n",
    "                                        compression_format=\"gz\", \n",
    "                                        level=6)\n",
    "        \n",
    "        logging.info(f\"Compressed reviews to: {compressed}\")\n",
    "        print(f\"Compressed reviews to: {compressed}\")\n",
    "\n",
    "    if metadata_folder.exists():\n",
    "        compressed = compress_folder(metadata_folder, \n",
    "                                        compression_format=\"gz\", \n",
    "                                        level=6)\n",
    "        \n",
    "        logging.info(f\"Compressed metadata to: {compressed}\")\n",
    "        print(f\"Compressed metadata to: {compressed}\")\n",
    "\n",
    "    verify_compressed_file(review_folder)\n",
    "    verify_compressed_file(metadata_folder) "
   ]
  }
 ],
 "metadata": {
  "kernelspec": {
   "display_name": "base",
   "language": "python",
   "name": "python3"
  },
  "language_info": {
   "codemirror_mode": {
    "name": "ipython",
    "version": 3
   },
   "file_extension": ".py",
   "mimetype": "text/x-python",
   "name": "python",
   "nbconvert_exporter": "python",
   "pygments_lexer": "ipython3",
   "version": "3.12.7"
  }
 },
 "nbformat": 4,
 "nbformat_minor": 5
}
