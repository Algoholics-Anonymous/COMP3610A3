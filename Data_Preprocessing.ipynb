{
 "cells": [
  {
   "cell_type": "markdown",
   "id": "58fe7329",
   "metadata": {},
   "source": [
    "# Data Preprocessing:\n",
    "# Please double check for errors or misinterpretation ~Kailash"
   ]
  },
  {
   "cell_type": "code",
   "execution_count": 2,
   "id": "57bada0f",
   "metadata": {},
   "outputs": [],
   "source": [
    "from bigdata_a3_utils import *\n",
    "import pandas as pd\n",
    "import pyarrow as pa\n",
    "import pyarrow.dataset as ds\n",
    "import pyarrow.parquet as pq\n",
    "from pathlib import Path\n",
    "import os\n",
    "import time\n",
    "import gc"
   ]
  },
  {
   "cell_type": "code",
   "execution_count": 3,
   "id": "6c80a5ee",
   "metadata": {},
   "outputs": [
    {
     "name": "stdout",
     "output_type": "stream",
     "text": [
      "Subset list: ['All_Beauty', 'Amazon_Fashion', 'Appliances', 'Arts_Crafts_and_Sewing', 'Automotive', 'Baby_Products', 'Beauty_and_Personal_Care', 'Books', 'CDs_and_Vinyl', 'Cell_Phones_and_Accessories', 'Clothing_Shoes_and_Jewelry']\n"
     ]
    }
   ],
   "source": [
    "subset_sizes = [11, 11, 12]  # Define the sizes of each subset\n",
    "\n",
    "# Create subsets\n",
    "subsets = []\n",
    "start_index = 0\n",
    "for size in subset_sizes:\n",
    "    subsets.append(VALID_CATEGORIES[start_index:start_index + size])\n",
    "    start_index += size\n",
    "\n",
    "# Unpack the subsets into individual variables\n",
    "kailash_subset, saeed_subset, johnny_subset = subsets\n",
    "\n",
    "print(f\"Subset list: {kailash_subset}\")\n",
    "# Output the subsets"
   ]
  },
  {
   "cell_type": "markdown",
   "id": "d72cc32b",
   "metadata": {},
   "source": [
    "Define paths below"
   ]
  },
  {
   "cell_type": "code",
   "execution_count": 4,
   "id": "4c938b28",
   "metadata": {},
   "outputs": [],
   "source": [
    "base_path = Path(\"D:\\\\COMP3610A3\")\n",
    "pickle_path = Path(\"D:\\\\COMP3610A3\\\\dataframes\")"
   ]
  },
  {
   "cell_type": "code",
   "execution_count": 5,
   "id": "5bd29a73",
   "metadata": {},
   "outputs": [],
   "source": [
    "def load_review_data(base_path, category):\n",
    "    review_path = base_path / f\"raw_review_{category}.tar.gz\"\n",
    "\n",
    "    print(f\"Loading review data for {category}...\")\n",
    "    review_dataset = load_compressed_dataset(review_path)    \n",
    "    reviews_df = review_dataset[\"full\"].to_pandas()\n",
    "\n",
    "    return reviews_df"
   ]
  },
  {
   "cell_type": "code",
   "execution_count": 6,
   "id": "f9b8a5c4",
   "metadata": {},
   "outputs": [],
   "source": [
    "def load_metadata(base_path, category):\n",
    "    metadata_folder_path = base_path / f\"raw_meta_{category}.tar.gz\"\n",
    "\n",
    "    print(f\"Loading metadata for {category}...\")\n",
    "    metadata = load_compressed_dataset(metadata_folder_path)\n",
    "    metadata_df = metadata[\"full\"].to_pandas()\n",
    "\n",
    "    return metadata_df"
   ]
  },
  {
   "cell_type": "code",
   "execution_count": 7,
   "id": "24466c3b",
   "metadata": {},
   "outputs": [],
   "source": [
    "def merge_dataframes(reviews_df, meta_df):\n",
    "    merged_df = pd.merge(\n",
    "        reviews_df,\n",
    "        meta_df,\n",
    "        left_on='parent_asin',\n",
    "        right_on='parent_asin',\n",
    "        how='inner',\n",
    "        suffixes=('_reviews', '_meta')\n",
    "    )\n",
    "\n",
    "    return merged_df"
   ]
  },
  {
   "cell_type": "code",
   "execution_count": 8,
   "id": "744c5099",
   "metadata": {},
   "outputs": [],
   "source": [
    "def extract_brand(row):\n",
    "    if row['store']:\n",
    "        return row['store']  # Return store if it has a value\n",
    "    elif row['details']:\n",
    "        # Extract brand from details (assuming brand is mentioned in a specific format)\n",
    "        # Here we just check if the string contains 'Brand' and extract it\n",
    "        for word in row['details'].split():\n",
    "            if 'Brand' in word:\n",
    "                return word  # Return the brand found in details\n",
    "    return 'Unknown'"
   ]
  },
  {
   "cell_type": "markdown",
   "id": "285866c7",
   "metadata": {},
   "source": [
    "# Preprocessing creates pickle files for temporary storage"
   ]
  },
  {
   "cell_type": "code",
   "execution_count": 9,
   "id": "ac9cdbaf",
   "metadata": {},
   "outputs": [
    {
     "name": "stdout",
     "output_type": "stream",
     "text": [
      "Pickle file already exists for Movies_and_TV. Skipping preprocessing...\n",
      "Pickle file already exists for Musical_Instruments. Skipping preprocessing...\n",
      "Pickle file already exists for Office_Products. Skipping preprocessing...\n",
      "Pickle file already exists for Patio_Lawn_and_Garden. Skipping preprocessing...\n",
      "Loading review data for Pet_Supplies...\n",
      "Extracting D:\\COMP3610A3\\raw_review_Pet_Supplies.tar.gz to D:\\COMP3610A3\\temp_91ef180841d64e7cbed41695de26afa4...\n",
      "Loading dataset from D:\\COMP3610A3\\temp_91ef180841d64e7cbed41695de26afa4\\raw_review_Pet_Supplies...\n",
      "Cleaning up temporary directory: D:\\COMP3610A3\\temp_91ef180841d64e7cbed41695de26afa4\n",
      "Loading metadata for Pet_Supplies...\n",
      "Extracting D:\\COMP3610A3\\raw_meta_Pet_Supplies.tar.gz to D:\\COMP3610A3\\temp_ab0ef047728b4af8b8002ba998c15457...\n",
      "Loading dataset from D:\\COMP3610A3\\temp_ab0ef047728b4af8b8002ba998c15457\\raw_meta_Pet_Supplies...\n",
      "Cleaning up temporary directory: D:\\COMP3610A3\\temp_ab0ef047728b4af8b8002ba998c15457\n",
      "Merged meta and reviews\n",
      "Filtered ratings\n",
      "Filtered empty reviews\n",
      "Extracted brands\n",
      "Dropped duplicates\n",
      "Calculated review length\n",
      "Extracted year\n",
      "Loading review data for Software...\n",
      "Extracting D:\\COMP3610A3\\raw_review_Software.tar.gz to D:\\COMP3610A3\\temp_5b374f344d74438293259a371fdcc116...\n",
      "Loading dataset from D:\\COMP3610A3\\temp_5b374f344d74438293259a371fdcc116\\raw_review_Software...\n",
      "Cleaning up temporary directory: D:\\COMP3610A3\\temp_5b374f344d74438293259a371fdcc116\n",
      "Loading metadata for Software...\n",
      "Extracting D:\\COMP3610A3\\raw_meta_Software.tar.gz to D:\\COMP3610A3\\temp_41cea5ffb5b744128bc406d412111e1c...\n",
      "Loading dataset from D:\\COMP3610A3\\temp_41cea5ffb5b744128bc406d412111e1c\\raw_meta_Software...\n",
      "Cleaning up temporary directory: D:\\COMP3610A3\\temp_41cea5ffb5b744128bc406d412111e1c\n"
     ]
    },
    {
     "ename": "KeyboardInterrupt",
     "evalue": "",
     "output_type": "error",
     "traceback": [
      "\u001b[31m---------------------------------------------------------------------------\u001b[39m",
      "\u001b[31mKeyboardInterrupt\u001b[39m                         Traceback (most recent call last)",
      "\u001b[36mCell\u001b[39m\u001b[36m \u001b[39m\u001b[32mIn[9]\u001b[39m\u001b[32m, line 17\u001b[39m\n\u001b[32m     14\u001b[39m metadata_df = load_metadata(base_path, category)\n\u001b[32m     16\u001b[39m df = merge_dataframes(reviews_df, metadata_df)\n\u001b[32m---> \u001b[39m\u001b[32m17\u001b[39m \u001b[38;5;28;43mprint\u001b[39;49m\u001b[43m(\u001b[49m\u001b[33;43m\"\u001b[39;49m\u001b[33;43mMerged meta and reviews\u001b[39;49m\u001b[33;43m\"\u001b[39;49m\u001b[43m)\u001b[49m\n\u001b[32m     19\u001b[39m df = df[(df[\u001b[33m'\u001b[39m\u001b[33mrating\u001b[39m\u001b[33m'\u001b[39m].notnull()) & (df[\u001b[33m'\u001b[39m\u001b[33mrating\u001b[39m\u001b[33m'\u001b[39m].between(\u001b[32m1\u001b[39m, \u001b[32m5\u001b[39m))]\n\u001b[32m     20\u001b[39m \u001b[38;5;28mprint\u001b[39m(\u001b[33m\"\u001b[39m\u001b[33mFiltered ratings\u001b[39m\u001b[33m\"\u001b[39m)\n",
      "\u001b[36mFile \u001b[39m\u001b[32mc:\\Users\\HomeUser\\Desktop\\COMP3610A3\\.conda\\Lib\\site-packages\\IPython\\core\\interactiveshell.py:3027\u001b[39m, in \u001b[36mInteractiveShell._tee.<locals>.write\u001b[39m\u001b[34m(data, *args, **kwargs)\u001b[39m\n\u001b[32m   3025\u001b[39m \u001b[38;5;28;01mdef\u001b[39;00m\u001b[38;5;250m \u001b[39m\u001b[34mwrite\u001b[39m(data, *args, **kwargs):\n\u001b[32m   3026\u001b[39m \u001b[38;5;250m    \u001b[39m\u001b[33;03m\"\"\"Write data to both the original destination and the capture dictionary.\"\"\"\u001b[39;00m\n\u001b[32m-> \u001b[39m\u001b[32m3027\u001b[39m     result = \u001b[43moriginal_write\u001b[49m\u001b[43m(\u001b[49m\u001b[43mdata\u001b[49m\u001b[43m,\u001b[49m\u001b[43m \u001b[49m\u001b[43m*\u001b[49m\u001b[43margs\u001b[49m\u001b[43m,\u001b[49m\u001b[43m \u001b[49m\u001b[43m*\u001b[49m\u001b[43m*\u001b[49m\u001b[43mkwargs\u001b[49m\u001b[43m)\u001b[49m\n\u001b[32m   3028\u001b[39m     \u001b[38;5;28;01mif\u001b[39;00m \u001b[38;5;28many\u001b[39m(\n\u001b[32m   3029\u001b[39m         [\n\u001b[32m   3030\u001b[39m             \u001b[38;5;28mself\u001b[39m.display_pub.is_publishing,\n\u001b[32m   (...)\u001b[39m\u001b[32m   3033\u001b[39m         ]\n\u001b[32m   3034\u001b[39m     ):\n\u001b[32m   3035\u001b[39m         \u001b[38;5;28;01mreturn\u001b[39;00m result\n",
      "\u001b[36mFile \u001b[39m\u001b[32mc:\\Users\\HomeUser\\Desktop\\COMP3610A3\\.conda\\Lib\\site-packages\\ipykernel\\iostream.py:655\u001b[39m, in \u001b[36mOutStream.write\u001b[39m\u001b[34m(self, string)\u001b[39m\n\u001b[32m    647\u001b[39m                     \u001b[38;5;28;01mreturn\u001b[39;00m\n\u001b[32m    649\u001b[39m             \u001b[38;5;28mself\u001b[39m.session.send(\n\u001b[32m    650\u001b[39m                 \u001b[38;5;28mself\u001b[39m.pub_thread,\n\u001b[32m    651\u001b[39m                 msg,\n\u001b[32m    652\u001b[39m                 ident=\u001b[38;5;28mself\u001b[39m.topic,\n\u001b[32m    653\u001b[39m             )\n\u001b[32m--> \u001b[39m\u001b[32m655\u001b[39m \u001b[38;5;28;01mdef\u001b[39;00m\u001b[38;5;250m \u001b[39m\u001b[34mwrite\u001b[39m(\u001b[38;5;28mself\u001b[39m, string: \u001b[38;5;28mstr\u001b[39m) -> Optional[\u001b[38;5;28mint\u001b[39m]:  \u001b[38;5;66;03m# type:ignore[override]\u001b[39;00m\n\u001b[32m    656\u001b[39m \u001b[38;5;250m    \u001b[39m\u001b[33;03m\"\"\"Write to current stream after encoding if necessary\u001b[39;00m\n\u001b[32m    657\u001b[39m \n\u001b[32m    658\u001b[39m \u001b[33;03m    Returns\u001b[39;00m\n\u001b[32m   (...)\u001b[39m\u001b[32m    662\u001b[39m \n\u001b[32m    663\u001b[39m \u001b[33;03m    \"\"\"\u001b[39;00m\n\u001b[32m    664\u001b[39m     parent = \u001b[38;5;28mself\u001b[39m.parent_header\n",
      "\u001b[31mKeyboardInterrupt\u001b[39m: "
     ]
    }
   ],
   "source": [
    "# Create directory if none exists\n",
    "if not os.path.exists(pickle_path):\n",
    "    os.makedirs(pickle_path)\n",
    "\n",
    "# Main preprocessing loop\n",
    "for category in johnny_subset:\n",
    "    pickle_file_name = os.path.join(pickle_path, f'cleaned_data_{category}.pkl')\n",
    "    \n",
    "    if os.path.exists(pickle_file_name):\n",
    "        print(f\"Pickle file already exists for {category}. Skipping preprocessing...\")\n",
    "        continue\n",
    "    \n",
    "    reviews_df = load_review_data(base_path, category)\n",
    "    metadata_df = load_metadata(base_path, category)\n",
    "    \n",
    "    df = merge_dataframes(reviews_df, metadata_df)\n",
    "    print(\"Merged meta and reviews\")\n",
    "\n",
    "    df = df[(df['rating'].notnull()) & (df['rating'].between(1, 5))]\n",
    "    print(\"Filtered ratings\")\n",
    "\n",
    "    df = df[df['text'].str.strip().astype(bool)]\n",
    "    print(\"Filtered empty reviews\")\n",
    "\n",
    "    df.loc[:, 'brand'] = df.apply(extract_brand, axis=1)\n",
    "    print(\"Extracted brands\")\n",
    "\n",
    "    df = df.drop_duplicates(subset=['user_id', 'text', 'asin'], keep='first')\n",
    "    print(\"Dropped duplicates\")\n",
    "\n",
    "    df.loc[:, 'review_length'] = df['text'].apply(lambda x: len(x.split()))\n",
    "    print(\"Calculated review length\")\n",
    "\n",
    "    df.loc[:, 'year'] = pd.to_datetime(df['timestamp'], unit='ms', errors='coerce').dt.year\n",
    "    print(\"Extracted year\")\n",
    "\n",
    "    pickle_file_name = os.path.join(pickle_path, f'cleaned_data_{category}.pkl')\n",
    "    df.to_pickle(pickle_file_name)\n",
    "    \n",
    "    del reviews_df\n",
    "    del metadata_df\n",
    "    gc.collect()\n"
   ]
  },
  {
   "cell_type": "code",
   "execution_count": null,
   "id": "5d103fce",
   "metadata": {},
   "outputs": [],
   "source": []
  }
 ],
 "metadata": {
  "kernelspec": {
   "display_name": "Python 3",
   "language": "python",
   "name": "python3"
  },
  "language_info": {
   "codemirror_mode": {
    "name": "ipython",
    "version": 3
   },
   "file_extension": ".py",
   "mimetype": "text/x-python",
   "name": "python",
   "nbconvert_exporter": "python",
   "pygments_lexer": "ipython3",
   "version": "3.11.11"
  }
 },
 "nbformat": 4,
 "nbformat_minor": 5
}
