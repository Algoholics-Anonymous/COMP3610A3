{
 "cells": [
  {
   "cell_type": "markdown",
   "id": "dff69578",
   "metadata": {},
   "source": [
    "# Clustering"
   ]
  },
  {
   "cell_type": "markdown",
   "id": "606a7a5b",
   "metadata": {},
   "source": [
    "Setup environment <br>\n",
    "Import relevant libraries"
   ]
  },
  {
   "cell_type": "code",
   "execution_count": 1,
   "id": "a38a6050",
   "metadata": {},
   "outputs": [],
   "source": [
    "from bigdata_a3_utils import *\n",
    "import pandas as pd\n",
    "import numpy as np\n",
    "from sklearn.cluster import KMeans\n",
    "from sklearn.preprocessing import LabelEncoder, StandardScaler\n",
    "import matplotlib.pyplot as plt\n",
    "import seaborn as sns\n",
    "from pathlib import Path\n",
    "import os, pickle, gc"
   ]
  },
  {
   "cell_type": "markdown",
   "id": "b2369a50",
   "metadata": {},
   "source": [
    "## Load Categories"
   ]
  },
  {
   "cell_type": "code",
   "execution_count": 2,
   "id": "e2264cd6",
   "metadata": {},
   "outputs": [],
   "source": [
    "def get_needed_cols(base_path, category):\n",
    "    #columns we want\n",
    "    needed= ['parent_asin', 'rating', 'brand', 'main_category']\n",
    "    #read in pickle file\n",
    "    print(f\"Reading in {category} data\")\n",
    "    df= pd.read_pickle(base_path / f\"cleaned_data_{category}.pkl\")\n",
    "    print(f\"Finished reading in {category} data\")\n",
    "    \n",
    "    columns_to_drop = df.columns.difference(needed)\n",
    "    df.drop(columns=columns_to_drop, inplace=True)\n",
    "    print(\"Dropped unneeded columns\")\n",
    "    gc.collect()\n",
    "    return df"
   ]
  },
  {
   "cell_type": "code",
   "execution_count": 3,
   "id": "c704ce75",
   "metadata": {},
   "outputs": [
    {
     "name": "stdout",
     "output_type": "stream",
     "text": [
      "Reading in All_Beauty data\n",
      "Finished reading in All_Beauty data\n",
      "Dropped unneeded columns\n",
      "Reading in Amazon_Fashion data\n",
      "Finished reading in Amazon_Fashion data\n",
      "Dropped unneeded columns\n",
      "Reading in Appliances data\n",
      "Finished reading in Appliances data\n",
      "Dropped unneeded columns\n",
      "Reading in Arts_Crafts_and_Sewing data\n",
      "Finished reading in Arts_Crafts_and_Sewing data\n",
      "Dropped unneeded columns\n",
      "Reading in Automotive data\n",
      "Finished reading in Automotive data\n",
      "Dropped unneeded columns\n",
      "Reading in Baby_Products data\n",
      "Finished reading in Baby_Products data\n",
      "Dropped unneeded columns\n",
      "Reading in Beauty_and_Personal_Care data\n",
      "Finished reading in Beauty_and_Personal_Care data\n",
      "Dropped unneeded columns\n",
      "Reading in Books data\n",
      "Finished reading in Books data\n",
      "Dropped unneeded columns\n",
      "Reading in CDs_and_Vinyl data\n",
      "Finished reading in CDs_and_Vinyl data\n",
      "Dropped unneeded columns\n",
      "Reading in Cell_Phones_and_Accessories data\n",
      "Finished reading in Cell_Phones_and_Accessories data\n",
      "Dropped unneeded columns\n",
      "Reading in Clothing_Shoes_and_Jewelry data\n",
      "Finished reading in Clothing_Shoes_and_Jewelry data\n",
      "Dropped unneeded columns\n",
      "Reading in Digital_Music data\n",
      "Finished reading in Digital_Music data\n",
      "Dropped unneeded columns\n",
      "Reading in Electronics data\n",
      "Finished reading in Electronics data\n",
      "Dropped unneeded columns\n",
      "Reading in Gift_Cards data\n",
      "Finished reading in Gift_Cards data\n",
      "Dropped unneeded columns\n",
      "Reading in Grocery_and_Gourmet_Food data\n",
      "Finished reading in Grocery_and_Gourmet_Food data\n",
      "Dropped unneeded columns\n",
      "Reading in Handmade_Products data\n",
      "Finished reading in Handmade_Products data\n",
      "Dropped unneeded columns\n",
      "Reading in Health_and_Household data\n",
      "Finished reading in Health_and_Household data\n",
      "Dropped unneeded columns\n",
      "Reading in Health_and_Personal_Care data\n",
      "Finished reading in Health_and_Personal_Care data\n",
      "Dropped unneeded columns\n",
      "Reading in Home_and_Kitchen data\n",
      "Finished reading in Home_and_Kitchen data\n",
      "Dropped unneeded columns\n",
      "Reading in Industrial_and_Scientific data\n",
      "Finished reading in Industrial_and_Scientific data\n",
      "Dropped unneeded columns\n",
      "Reading in Kindle_Store data\n",
      "Finished reading in Kindle_Store data\n",
      "Dropped unneeded columns\n",
      "Reading in Magazine_Subscriptions data\n",
      "Finished reading in Magazine_Subscriptions data\n",
      "Dropped unneeded columns\n",
      "Reading in Movies_and_TV data\n",
      "Finished reading in Movies_and_TV data\n",
      "Dropped unneeded columns\n",
      "Reading in Musical_Instruments data\n",
      "Finished reading in Musical_Instruments data\n",
      "Dropped unneeded columns\n",
      "Reading in Office_Products data\n",
      "Finished reading in Office_Products data\n",
      "Dropped unneeded columns\n",
      "Reading in Patio_Lawn_and_Garden data\n",
      "Finished reading in Patio_Lawn_and_Garden data\n",
      "Dropped unneeded columns\n",
      "Reading in Pet_Supplies data\n",
      "Finished reading in Pet_Supplies data\n",
      "Dropped unneeded columns\n",
      "Reading in Software data\n",
      "Finished reading in Software data\n",
      "Dropped unneeded columns\n",
      "Reading in Sports_and_Outdoors data\n",
      "Finished reading in Sports_and_Outdoors data\n",
      "Dropped unneeded columns\n",
      "Reading in Subscription_Boxes data\n",
      "Finished reading in Subscription_Boxes data\n",
      "Dropped unneeded columns\n",
      "Reading in Tools_and_Home_Improvement data\n",
      "Finished reading in Tools_and_Home_Improvement data\n",
      "Dropped unneeded columns\n",
      "Reading in Toys_and_Games data\n",
      "Finished reading in Toys_and_Games data\n",
      "Dropped unneeded columns\n",
      "Reading in Video_Games data\n",
      "Finished reading in Video_Games data\n",
      "Dropped unneeded columns\n",
      "Reading in Unknown data\n",
      "Finished reading in Unknown data\n",
      "Dropped unneeded columns\n"
     ]
    }
   ],
   "source": [
    "base_path= Path(r\"F:\\Saeed\\frames\")\n",
    "\n",
    "dfs = []\n",
    "\n",
    "for category in VALID_CATEGORIES:\n",
    "    x = get_needed_cols(base_path, category)\n",
    "    dfs.append(x)\n",
    "    gc.collect()\n",
    "\n",
    "df = pd.concat(dfs, ignore_index=True)"
   ]
  },
  {
   "cell_type": "markdown",
   "id": "21e52b88",
   "metadata": {},
   "source": [
    "## Features"
   ]
  },
  {
   "cell_type": "markdown",
   "id": "b4ac75d7",
   "metadata": {},
   "source": [
    "Category id map"
   ]
  },
  {
   "cell_type": "code",
   "execution_count": 4,
   "id": "c861fd21",
   "metadata": {},
   "outputs": [],
   "source": [
    "category_map = {\n",
    "    'all beauty': 0,\n",
    "    'amazon fashion': 1,\n",
    "    'appliances': 2,\n",
    "    'arts, crafts and sewing': 3,\n",
    "    'automotive': 4,\n",
    "    'baby products': 5,\n",
    "    'beauty and personal care': 6,\n",
    "    'books': 7,\n",
    "    'cds and vinyl': 8,\n",
    "    'cell phones and accessories': 9,\n",
    "    'clothing shoes and jewelry': 10,\n",
    "    'digital music': 11,\n",
    "    'electronics': 12,\n",
    "    'gift cards': 13,\n",
    "    'grocery and gourmet food': 14,\n",
    "    'handmade products': 15,\n",
    "    'health and household': 16,\n",
    "    'health and personal care': 17,\n",
    "    'home and kitchen': 18,\n",
    "    'industrial and scientific': 19,\n",
    "    'kindle store': 20,\n",
    "    'magazine subscriptions': 21,\n",
    "    'movies and tv': 22,\n",
    "    'musical instruments': 23,\n",
    "    'office products': 24,\n",
    "    'patio lawn and garden': 25,\n",
    "    'pet supplies': 26,\n",
    "    'software': 27,\n",
    "    'sports and outdoors': 28,\n",
    "    'subscription boxes': 29,\n",
    "    'tools and home improvement': 30,\n",
    "    'toys and games': 31,\n",
    "    'video games': 32,\n",
    "    'unknown': 33\n",
    "}"
   ]
  },
  {
   "cell_type": "markdown",
   "id": "33a2b669",
   "metadata": {},
   "source": [
    "Feature engineering"
   ]
  },
  {
   "cell_type": "code",
   "execution_count": 5,
   "id": "d4b85dd2",
   "metadata": {},
   "outputs": [
    {
     "name": "stdout",
     "output_type": "stream",
     "text": [
      "Encoding categorical features...\n"
     ]
    },
    {
     "data": {
      "text/html": [
       "<div>\n",
       "<style scoped>\n",
       "    .dataframe tbody tr th:only-of-type {\n",
       "        vertical-align: middle;\n",
       "    }\n",
       "\n",
       "    .dataframe tbody tr th {\n",
       "        vertical-align: top;\n",
       "    }\n",
       "\n",
       "    .dataframe thead th {\n",
       "        text-align: right;\n",
       "    }\n",
       "</style>\n",
       "<table border=\"1\" class=\"dataframe\">\n",
       "  <thead>\n",
       "    <tr style=\"text-align: right;\">\n",
       "      <th></th>\n",
       "      <th>parent_asin</th>\n",
       "      <th>mean_rating</th>\n",
       "      <th>total_reviews</th>\n",
       "      <th>brand_id</th>\n",
       "      <th>category_id</th>\n",
       "    </tr>\n",
       "  </thead>\n",
       "  <tbody>\n",
       "    <tr>\n",
       "      <th>0</th>\n",
       "      <td>0000000116</td>\n",
       "      <td>2.5</td>\n",
       "      <td>2</td>\n",
       "      <td>4320979</td>\n",
       "      <td>7</td>\n",
       "    </tr>\n",
       "    <tr>\n",
       "      <th>1</th>\n",
       "      <td>0000002488</td>\n",
       "      <td>2.0</td>\n",
       "      <td>1</td>\n",
       "      <td>1477294</td>\n",
       "      <td>7</td>\n",
       "    </tr>\n",
       "    <tr>\n",
       "      <th>2</th>\n",
       "      <td>0000004545</td>\n",
       "      <td>5.0</td>\n",
       "      <td>1</td>\n",
       "      <td>586020</td>\n",
       "      <td>7</td>\n",
       "    </tr>\n",
       "    <tr>\n",
       "      <th>3</th>\n",
       "      <td>0000005371</td>\n",
       "      <td>5.0</td>\n",
       "      <td>1</td>\n",
       "      <td>1329367</td>\n",
       "      <td>7</td>\n",
       "    </tr>\n",
       "    <tr>\n",
       "      <th>4</th>\n",
       "      <td>0000012297</td>\n",
       "      <td>1.0</td>\n",
       "      <td>1</td>\n",
       "      <td>516396</td>\n",
       "      <td>7</td>\n",
       "    </tr>\n",
       "  </tbody>\n",
       "</table>\n",
       "</div>"
      ],
      "text/plain": [
       "  parent_asin  mean_rating  total_reviews  brand_id  category_id\n",
       "0  0000000116          2.5              2   4320979            7\n",
       "1  0000002488          2.0              1   1477294            7\n",
       "2  0000004545          5.0              1    586020            7\n",
       "3  0000005371          5.0              1   1329367            7\n",
       "4  0000012297          1.0              1    516396            7"
      ]
     },
     "execution_count": 5,
     "metadata": {},
     "output_type": "execute_result"
    }
   ],
   "source": [
    "# Compute mean rating and total reviews for products\n",
    "product_df = df.groupby('parent_asin').agg(\n",
    "    mean_rating=('rating', 'mean'),\n",
    "    total_reviews=('rating', 'count'),\n",
    "    brand=('brand', lambda x: x.iloc[0]),\n",
    "    main_category=('main_category', lambda x: x.iloc[0]),\n",
    ").reset_index()\n",
    "\n",
    "# Delete df to free up memory\n",
    "del df\n",
    "gc.collect()\n",
    "\n",
    "# Encode categorical features, brand and main_category\n",
    "print(f\"Encoding categorical features...\")\n",
    "product_df['brand'] = product_df['brand'].fillna('Unknown')\n",
    "product_df['main_category'] = product_df['main_category'].fillna('Unknown')\n",
    "\n",
    "# Map category IDs\n",
    "product_df['main_category'] = product_df['main_category'].str.replace('&', 'and').str.lower()\n",
    "product_df['category_id'] = product_df['main_category'].map(category_map).fillna(33).astype(int)\n",
    "\n",
    "# Apply label encoding \n",
    "encoder_brand = LabelEncoder()\n",
    "product_df['brand'] = product_df['brand'].str.lower()\n",
    "product_df['brand_id'] = encoder_brand.fit_transform(product_df['brand'])\n",
    "\n",
    "# Prepare matrix\n",
    "product_df = product_df[['parent_asin', 'mean_rating', 'total_reviews', 'brand_id', 'category_id']]\n",
    "features = product_df[['mean_rating', 'total_reviews', 'brand_id', 'category_id']]\n",
    "\n",
    "product_df.head()\n"
   ]
  },
  {
   "cell_type": "markdown",
   "id": "3f8d6579",
   "metadata": {},
   "source": [
    "## k-means"
   ]
  },
  {
   "cell_type": "code",
   "execution_count": 6,
   "id": "e5207735",
   "metadata": {},
   "outputs": [
    {
     "name": "stdout",
     "output_type": "stream",
     "text": [
      "Applying KMeans clustering...\n"
     ]
    },
    {
     "name": "stderr",
     "output_type": "stream",
     "text": [
      "f:\\Saeed\\.conda\\Lib\\site-packages\\joblib\\externals\\loky\\backend\\context.py:136: UserWarning: Could not find the number of physical cores for the following reason:\n",
      "[WinError 2] The system cannot find the file specified\n",
      "Returning the number of logical cores instead. You can silence this warning by setting LOKY_MAX_CPU_COUNT to the number of cores you want to use.\n",
      "  warnings.warn(\n",
      "  File \"f:\\Saeed\\.conda\\Lib\\site-packages\\joblib\\externals\\loky\\backend\\context.py\", line 257, in _count_physical_cores\n",
      "    cpu_info = subprocess.run(\n",
      "               ^^^^^^^^^^^^^^^\n",
      "  File \"f:\\Saeed\\.conda\\Lib\\subprocess.py\", line 548, in run\n",
      "    with Popen(*popenargs, **kwargs) as process:\n",
      "         ^^^^^^^^^^^^^^^^^^^^^^^^^^^\n",
      "  File \"f:\\Saeed\\.conda\\Lib\\subprocess.py\", line 1026, in __init__\n",
      "    self._execute_child(args, executable, preexec_fn, close_fds,\n",
      "  File \"f:\\Saeed\\.conda\\Lib\\subprocess.py\", line 1538, in _execute_child\n",
      "    hp, ht, pid, tid = _winapi.CreateProcess(executable, args,\n",
      "                       ^^^^^^^^^^^^^^^^^^^^^^^^^^^^^^^^^^^^^^^\n"
     ]
    },
    {
     "data": {
      "text/html": [
       "<div>\n",
       "<style scoped>\n",
       "    .dataframe tbody tr th:only-of-type {\n",
       "        vertical-align: middle;\n",
       "    }\n",
       "\n",
       "    .dataframe tbody tr th {\n",
       "        vertical-align: top;\n",
       "    }\n",
       "\n",
       "    .dataframe thead th {\n",
       "        text-align: right;\n",
       "    }\n",
       "</style>\n",
       "<table border=\"1\" class=\"dataframe\">\n",
       "  <thead>\n",
       "    <tr style=\"text-align: right;\">\n",
       "      <th></th>\n",
       "      <th>parent_asin</th>\n",
       "      <th>mean_rating</th>\n",
       "      <th>total_reviews</th>\n",
       "      <th>brand_id</th>\n",
       "      <th>category_id</th>\n",
       "      <th>cluster</th>\n",
       "    </tr>\n",
       "  </thead>\n",
       "  <tbody>\n",
       "    <tr>\n",
       "      <th>0</th>\n",
       "      <td>0000000116</td>\n",
       "      <td>2.5</td>\n",
       "      <td>2</td>\n",
       "      <td>4320979</td>\n",
       "      <td>7</td>\n",
       "      <td>4</td>\n",
       "    </tr>\n",
       "    <tr>\n",
       "      <th>1</th>\n",
       "      <td>0000002488</td>\n",
       "      <td>2.0</td>\n",
       "      <td>1</td>\n",
       "      <td>1477294</td>\n",
       "      <td>7</td>\n",
       "      <td>0</td>\n",
       "    </tr>\n",
       "    <tr>\n",
       "      <th>2</th>\n",
       "      <td>0000004545</td>\n",
       "      <td>5.0</td>\n",
       "      <td>1</td>\n",
       "      <td>586020</td>\n",
       "      <td>7</td>\n",
       "      <td>3</td>\n",
       "    </tr>\n",
       "    <tr>\n",
       "      <th>3</th>\n",
       "      <td>0000005371</td>\n",
       "      <td>5.0</td>\n",
       "      <td>1</td>\n",
       "      <td>1329367</td>\n",
       "      <td>7</td>\n",
       "      <td>0</td>\n",
       "    </tr>\n",
       "    <tr>\n",
       "      <th>4</th>\n",
       "      <td>0000012297</td>\n",
       "      <td>1.0</td>\n",
       "      <td>1</td>\n",
       "      <td>516396</td>\n",
       "      <td>7</td>\n",
       "      <td>3</td>\n",
       "    </tr>\n",
       "  </tbody>\n",
       "</table>\n",
       "</div>"
      ],
      "text/plain": [
       "  parent_asin  mean_rating  total_reviews  brand_id  category_id  cluster\n",
       "0  0000000116          2.5              2   4320979            7        4\n",
       "1  0000002488          2.0              1   1477294            7        0\n",
       "2  0000004545          5.0              1    586020            7        3\n",
       "3  0000005371          5.0              1   1329367            7        0\n",
       "4  0000012297          1.0              1    516396            7        3"
      ]
     },
     "execution_count": 6,
     "metadata": {},
     "output_type": "execute_result"
    }
   ],
   "source": [
    "# Apply KMeans clustering\n",
    "print(f\"Applying KMeans clustering...\")\n",
    "kmeans = KMeans(n_clusters=5, random_state=42)\n",
    "product_df['cluster'] = kmeans.fit_predict(features)\n",
    "\n",
    "product_df.head()"
   ]
  },
  {
   "cell_type": "markdown",
   "id": "8582c5a9",
   "metadata": {},
   "source": [
    "## Cluster Analysis"
   ]
  },
  {
   "cell_type": "code",
   "execution_count": 7,
   "id": "b22f8ccc",
   "metadata": {},
   "outputs": [
    {
     "name": "stdout",
     "output_type": "stream",
     "text": [
      "Cluster 0:\n",
      " - Size: 7743867\n",
      " - Avg Rating: 4.100073592600259\n",
      " - Avg Total Reviews: 13.879377189716713\n",
      " - Avg Brand ID: 1525628.1220091977\n",
      " - Avg Category ID: 18.02556745873864\n",
      "Cluster 1:\n",
      " - Size: 6807250\n",
      " - Avg Rating: 4.119294474506734\n",
      " - Avg Total Reviews: 14.717685702743399\n",
      " - Avg Brand ID: 3429858.3685385436\n",
      " - Avg Category ID: 17.55742921150244\n",
      "Cluster 2:\n",
      " - Size: 5047838\n",
      " - Avg Rating: 4.155410906622286\n",
      " - Avg Total Reviews: 13.612285695380875\n",
      " - Avg Brand ID: 2560649.815551727\n",
      " - Avg Category ID: 17.445013488943186\n",
      "Cluster 3:\n",
      " - Size: 7516484\n",
      " - Avg Rating: 4.125054782669324\n",
      " - Avg Total Reviews: 14.664901169216884\n",
      " - Avg Brand ID: 479765.41833535465\n",
      " - Avg Category ID: 17.359501995879988\n",
      "Cluster 4:\n",
      " - Size: 8249889\n",
      " - Avg Rating: 4.071682579620797\n",
      " - Avg Total Reviews: 14.106471008276596\n",
      " - Avg Brand ID: 4402059.07439591\n",
      " - Avg Category ID: 18.644812796875208\n"
     ]
    }
   ],
   "source": [
    "# Analyse clusters\n",
    "cluster_analysis = product_df.groupby('cluster').agg(\n",
    "    cluster_size=('parent_asin', 'count'),\n",
    "    avg_rating=('mean_rating', 'mean'),\n",
    "    avg_total_reviews=('total_reviews', 'mean'),\n",
    "    avg_brand_id=('brand_id', 'mean'),\n",
    "    avg_category_id=('category_id', 'mean')\n",
    ").reset_index()\n",
    "\n",
    "for idx, row in cluster_analysis.iterrows():\n",
    "    print(f\"Cluster {int(row['cluster'])}:\")\n",
    "    print(f\" - Size: {int(row['cluster_size'])}\")\n",
    "    print(f\" - Avg Rating: {row['avg_rating']}\")\n",
    "    print(f\" - Avg Total Reviews: {row['avg_total_reviews']}\")\n",
    "    print(f\" - Avg Brand ID: {row['avg_brand_id']}\")\n",
    "    print(f\" - Avg Category ID: {row['avg_category_id']}\")\n"
   ]
  },
  {
   "cell_type": "markdown",
   "id": "e264ea7f",
   "metadata": {},
   "source": [
    "## Interpretation"
   ]
  },
  {
   "cell_type": "markdown",
   "id": "6bbb86a7",
   "metadata": {},
   "source": [
    "Remap brand and category names"
   ]
  },
  {
   "cell_type": "code",
   "execution_count": 8,
   "id": "6ad19db5",
   "metadata": {},
   "outputs": [],
   "source": [
    "brand_mapping = dict(zip(encoder_brand.transform(encoder_brand.classes_), encoder_brand.classes_))\n",
    "category_mapping = {v: k for k, v in category_map.items()}\n",
    "\n",
    "# Add the original brand and category names to the dataframe\n",
    "product_df['brand_name'] = product_df['brand_id'].map(brand_mapping)\n",
    "product_df['category_name'] = product_df['category_id'].map(category_mapping)\n"
   ]
  },
  {
   "cell_type": "markdown",
   "id": "187dd3c6",
   "metadata": {},
   "source": [
    "Brand and category distribution within each cluster"
   ]
  },
  {
   "cell_type": "code",
   "execution_count": 9,
   "id": "10ef49d0",
   "metadata": {},
   "outputs": [],
   "source": [
    "product_df.head()\n",
    "\n",
    "# Brand distribution within each cluster\n",
    "brand_distribution = pd.DataFrame()\n",
    "for cluster_id in range(5):\n",
    "    # Get top 10 brands in this cluster\n",
    "    cluster_brands = product_df[product_df['cluster'] == cluster_id]['brand_name'].value_counts().nlargest(10)\n",
    "    brand_distribution[f'Cluster {cluster_id}'] = cluster_brands\n",
    "\n",
    "# Category distribution within each cluster\n",
    "category_distribution = pd.DataFrame()\n",
    "for cluster_id in range(5):\n",
    "    # Get category distribution in this cluster\n",
    "    cluster_categories = product_df[product_df['cluster'] == cluster_id]['category_name'].value_counts()\n",
    "    category_distribution[f'Cluster {cluster_id}'] = cluster_categories\n",
    "\n",
    "# Calculate the percentage of each category within clusters\n",
    "category_percentages = pd.DataFrame()\n",
    "for cluster_id in range(5):\n",
    "    cluster_df = product_df[product_df['cluster'] == cluster_id]\n",
    "    category_counts = cluster_df['category_name'].value_counts()\n",
    "    total_in_cluster = len(cluster_df)\n",
    "    percentages = (category_counts / total_in_cluster * 100).round(2)\n",
    "    category_percentages[f'Cluster {cluster_id}'] = percentages\n",
    "\n"
   ]
  },
  {
   "cell_type": "markdown",
   "id": "c40f40b8",
   "metadata": {},
   "source": [
    "Rating distribution within each cluster"
   ]
  },
  {
   "cell_type": "code",
   "execution_count": 10,
   "id": "bf60d33e",
   "metadata": {},
   "outputs": [
    {
     "data": {
      "image/png": "[encoded data removed]",
      "text/plain": [
       "<Figure size 1600x600 with 5 Axes>"
      ]
     },
     "metadata": {},
     "output_type": "display_data"
    }
   ],
   "source": [
    "# 4. Rating distribution within each cluster\n",
    "plt.figure(figsize=(16, 6))\n",
    "for i in range(5):\n",
    "    plt.subplot(1, 5, i+1)\n",
    "    product_df[product_df['cluster'] == i]['mean_rating'].hist(bins=20, alpha=0.7)\n",
    "    plt.title(f'Cluster {i} Ratings')\n",
    "    plt.xlabel('Rating')\n",
    "    plt.ylabel('Frequency')\n",
    "plt.tight_layout()\n",
    "plt.show()"
   ]
  },
  {
   "cell_type": "markdown",
   "id": "bfc880c3",
   "metadata": {},
   "source": [
    "Review distribution within each cluser"
   ]
  },
  {
   "cell_type": "code",
   "execution_count": 11,
   "id": "9be95b29",
   "metadata": {},
   "outputs": [
    {
     "data": {
      "image/png": "[encoded data removed]",
      "text/plain": [
       "<Figure size 1600x600 with 5 Axes>"
      ]
     },
     "metadata": {},
     "output_type": "display_data"
    }
   ],
   "source": [
    "# Review count distribution within each cluster\n",
    "plt.figure(figsize=(16, 6))\n",
    "for i in range(5):\n",
    "    plt.subplot(1, 5, i+1)\n",
    "    product_df[product_df['cluster'] == i]['total_reviews'].apply(np.log1p).hist(bins=20, alpha=0.7)\n",
    "    plt.title(f'Cluster {i} Reviews')\n",
    "    plt.xlabel('Review Count')\n",
    "    plt.ylabel('Frequency')\n",
    "plt.tight_layout()\n",
    "plt.show()"
   ]
  },
  {
   "cell_type": "markdown",
   "id": "cfed9c3e",
   "metadata": {},
   "source": []
  }
 ],
 "metadata": {
  "kernelspec": {
   "display_name": "Python 3",
   "language": "python",
   "name": "python3"
  },
  "language_info": {
   "codemirror_mode": {
    "name": "ipython",
    "version": 3
   },
   "file_extension": ".py",
   "mimetype": "text/x-python",
   "name": "python",
   "nbconvert_exporter": "python",
   "pygments_lexer": "ipython3",
   "version": "3.11.11"
  }
 },
 "nbformat": 4,
 "nbformat_minor": 5
}
