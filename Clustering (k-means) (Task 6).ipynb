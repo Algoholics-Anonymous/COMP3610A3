{
 "cells": [
  {
   "cell_type": "markdown",
   "id": "dff69578",
   "metadata": {},
   "source": [
    "# Clustering"
   ]
  },
  {
   "cell_type": "markdown",
   "id": "606a7a5b",
   "metadata": {},
   "source": [
    "Setup environment <br>\n",
    "Import relevant libraries"
   ]
  },
  {
   "cell_type": "code",
   "execution_count": 9,
   "id": "a38a6050",
   "metadata": {},
   "outputs": [],
   "source": [
    "# %pip install scikit-learn\n",
    "# %pip install matplotlib\n",
    "# %pip install seaborn\n",
    "\n",
    "from bigdata_a3_utils import *\n",
    "import pandas as pd\n",
    "import numpy as np\n",
    "from sklearn.cluster import KMeans\n",
    "from sklearn.preprocessing import LabelEncoder\n",
    "import matplotlib.pyplot as plt\n",
    "import seaborn as sns\n",
    "from pathlib import Path\n",
    "import os"
   ]
  },
  {
   "cell_type": "markdown",
   "id": "d4a2438f",
   "metadata": {},
   "source": [
    "## Load Categories"
   ]
  },
  {
   "cell_type": "markdown",
   "id": "423e2583",
   "metadata": {},
   "source": [
    "Define bath path"
   ]
  },
  {
   "cell_type": "code",
   "execution_count": 33,
   "id": "184db6cf",
   "metadata": {},
   "outputs": [],
   "source": [
    "base_path = Path('D:\\\\COMP3610A3')"
   ]
  },
  {
   "cell_type": "markdown",
   "id": "2dbe10bf",
   "metadata": {},
   "source": [
    "Define function to load reviews"
   ]
  },
  {
   "cell_type": "code",
   "execution_count": null,
   "id": "7ffabc39",
   "metadata": {},
   "outputs": [],
   "source": [
    "def load_reviews(base_path, category):\n",
    "    review_path = base_path / f\"raw_review_{category}.tar.gz\"\n",
    "    \n",
    "    print(f\"Loading reviews from {review_path}...\")\n",
    "    \n",
    "    try:\n",
    "        review = load_compressed_dataset(review_path)\n",
    "        \n",
    "        # Check if the returned object is a DatasetDict\n",
    "        if isinstance(review, dict) in review:\n",
    "            # return review['train'].to_pandas()\n",
    "            return pd.Dataframe(review)\n",
    "        else:\n",
    "            return review.to_pandas()\n",
    "    except Exception as e:\n",
    "        print(f\"Error loading reviews: {e}\")\n",
    "        # Return an empty DataFrame as a fallback\n",
    "        return pd.DataFrame()\n"
   ]
  },
  {
   "cell_type": "markdown",
   "id": "2ce2ea19",
   "metadata": {},
   "source": [
    "Define function to load metadata"
   ]
  },
  {
   "cell_type": "code",
   "execution_count": null,
   "id": "5c4cb87e",
   "metadata": {},
   "outputs": [],
   "source": [
    "def load_metadata(base_path, category):\n",
    "    metadata_path = base_path / f\"raw_meta_{category}.tar.gz\"\n",
    "    \n",
    "    print(f\"Loading metadata from {metadata_path}...\")\n",
    "\n",
    "    try:\n",
    "        metadata = load_compressed_dataset(metadata_path)\n",
    "        \n",
    "        # Check if the returned object is a DatasetDict\n",
    "        if isinstance(metadata, dict) in metadata:\n",
    "            # return metadata['train'].to_pandas()\n",
    "            return pd.Dataframe(metadata)\n",
    "        else:\n",
    "            return metadata.to_pandas()\n",
    "    except Exception as e:\n",
    "        print(f\"Error loading metadata: {e}\")\n",
    "        # Return an empty DataFrame as a fallback\n",
    "        return pd.DataFrame()\n"
   ]
  },
  {
   "cell_type": "markdown",
   "id": "aa4f2d3d",
   "metadata": {},
   "source": [
    "Define function to merge dataframes"
   ]
  },
  {
   "cell_type": "code",
   "execution_count": 40,
   "id": "36edba4f",
   "metadata": {},
   "outputs": [],
   "source": [
    "def merge_dfs(review_df, meta_df):\n",
    "    return pd.merge(\n",
    "        review_df,\n",
    "        meta_df,\n",
    "        left_on='parent_asin',\n",
    "        right_on='parent_asin',\n",
    "        how='inner',\n",
    "        suffixes=('_review', '_meta')\n",
    "    )\n"
   ]
  },
  {
   "cell_type": "markdown",
   "id": "b2369a50",
   "metadata": {},
   "source": [
    "Main code loop below"
   ]
  },
  {
   "cell_type": "code",
   "execution_count": 41,
   "id": "b22f8ccc",
   "metadata": {},
   "outputs": [
    {
     "name": "stdout",
     "output_type": "stream",
     "text": [
      "Loading reviews from D:\\COMP3610A3\\raw_review_Movies_and_TV.tar.gz...\n",
      "Extracting D:\\COMP3610A3\\raw_review_Movies_and_TV.tar.gz to D:\\COMP3610A3\\temp_96be0da7390047299607a1d6aec1a12c...\n",
      "Loading dataset from D:\\COMP3610A3\\temp_96be0da7390047299607a1d6aec1a12c\\raw_review_Movies_and_TV...\n",
      "Cleaning up temporary directory: D:\\COMP3610A3\\temp_96be0da7390047299607a1d6aec1a12c\n",
      "Error loading reviews: 'DatasetDict' object has no attribute 'to_pandas'\n",
      "Loading metadata from D:\\COMP3610A3\\raw_meta_Movies_and_TV.tar.gz...\n",
      "Extracting D:\\COMP3610A3\\raw_meta_Movies_and_TV.tar.gz to D:\\COMP3610A3\\temp_f74bb7a39ee248f3859e9d82d999976f...\n",
      "Loading dataset from D:\\COMP3610A3\\temp_f74bb7a39ee248f3859e9d82d999976f\\raw_meta_Movies_and_TV...\n",
      "Cleaning up temporary directory: D:\\COMP3610A3\\temp_f74bb7a39ee248f3859e9d82d999976f\n",
      "Error loading metadata: 'DatasetDict' object has no attribute 'to_pandas'\n"
     ]
    },
    {
     "ename": "KeyError",
     "evalue": "'parent_asin'",
     "output_type": "error",
     "traceback": [
      "\u001b[31m---------------------------------------------------------------------------\u001b[39m",
      "\u001b[31mKeyError\u001b[39m                                  Traceback (most recent call last)",
      "\u001b[32m~\\AppData\\Local\\Temp\\ipykernel_29192\\2297950325.py\u001b[39m in \u001b[36m?\u001b[39m\u001b[34m()\u001b[39m\n\u001b[32m      3\u001b[39m     review_df = load_reviews(base_path, category)\n\u001b[32m      4\u001b[39m     meta_df = load_metadata(base_path, category)\n\u001b[32m      5\u001b[39m \n\u001b[32m      6\u001b[39m     \u001b[38;5;66;03m# Merge the two DataFrames\u001b[39;00m\n\u001b[32m----> \u001b[39m\u001b[32m7\u001b[39m     merged_df = merge_dfs(review_df, meta_df)\n\u001b[32m      8\u001b[39m \n\u001b[32m      9\u001b[39m     \u001b[38;5;66;03m# Display the first few rows of the merged DataFrame\u001b[39;00m\n\u001b[32m     10\u001b[39m     print(merged_df.head())\n",
      "\u001b[32m~\\AppData\\Local\\Temp\\ipykernel_29192\\1602831631.py\u001b[39m in \u001b[36m?\u001b[39m\u001b[34m(review_df, meta_df)\u001b[39m\n\u001b[32m      1\u001b[39m \u001b[38;5;28;01mdef\u001b[39;00m merge_dfs(review_df, meta_df):\n\u001b[32m----> \u001b[39m\u001b[32m2\u001b[39m     return pd.merge(\n\u001b[32m      3\u001b[39m         review_df,\n\u001b[32m      4\u001b[39m         meta_df,\n\u001b[32m      5\u001b[39m         left_on=\u001b[33m'parent_asin'\u001b[39m,\n",
      "\u001b[32mc:\\Users\\HomeUser\\Desktop\\COMP3610A3\\.venv\\Lib\\site-packages\\pandas\\core\\reshape\\merge.py\u001b[39m in \u001b[36m?\u001b[39m\u001b[34m(left, right, how, on, left_on, right_on, left_index, right_index, sort, suffixes, copy, indicator, validate)\u001b[39m\n\u001b[32m    166\u001b[39m             validate=validate,\n\u001b[32m    167\u001b[39m             copy=copy,\n\u001b[32m    168\u001b[39m         )\n\u001b[32m    169\u001b[39m     \u001b[38;5;28;01melse\u001b[39;00m:\n\u001b[32m--> \u001b[39m\u001b[32m170\u001b[39m         op = _MergeOperation(\n\u001b[32m    171\u001b[39m             left_df,\n\u001b[32m    172\u001b[39m             right_df,\n\u001b[32m    173\u001b[39m             how=how,\n",
      "\u001b[32mc:\\Users\\HomeUser\\Desktop\\COMP3610A3\\.venv\\Lib\\site-packages\\pandas\\core\\reshape\\merge.py\u001b[39m in \u001b[36m?\u001b[39m\u001b[34m(self, left, right, how, on, left_on, right_on, left_index, right_index, sort, suffixes, indicator, validate)\u001b[39m\n\u001b[32m    790\u001b[39m             self.right_join_keys,\n\u001b[32m    791\u001b[39m             self.join_names,\n\u001b[32m    792\u001b[39m             left_drop,\n\u001b[32m    793\u001b[39m             right_drop,\n\u001b[32m--> \u001b[39m\u001b[32m794\u001b[39m         ) = self._get_merge_keys()\n\u001b[32m    795\u001b[39m \n\u001b[32m    796\u001b[39m         \u001b[38;5;28;01mif\u001b[39;00m left_drop:\n\u001b[32m    797\u001b[39m             self.left = self.left._drop_labels_or_levels(left_drop)\n",
      "\u001b[32mc:\\Users\\HomeUser\\Desktop\\COMP3610A3\\.venv\\Lib\\site-packages\\pandas\\core\\reshape\\merge.py\u001b[39m in \u001b[36m?\u001b[39m\u001b[34m(self)\u001b[39m\n\u001b[32m   1293\u001b[39m                         \u001b[38;5;66;03m# Then we're either Hashable or a wrong-length arraylike,\u001b[39;00m\n\u001b[32m   1294\u001b[39m                         \u001b[38;5;66;03m#  the latter of which will raise\u001b[39;00m\n\u001b[32m   1295\u001b[39m                         rk = cast(Hashable, rk)\n\u001b[32m   1296\u001b[39m                         \u001b[38;5;28;01mif\u001b[39;00m rk \u001b[38;5;28;01mis\u001b[39;00m \u001b[38;5;28;01mnot\u001b[39;00m \u001b[38;5;28;01mNone\u001b[39;00m:\n\u001b[32m-> \u001b[39m\u001b[32m1297\u001b[39m                             right_keys.append(right._get_label_or_level_values(rk))\n\u001b[32m   1298\u001b[39m                         \u001b[38;5;28;01melse\u001b[39;00m:\n\u001b[32m   1299\u001b[39m                             \u001b[38;5;66;03m# work-around for merge_asof(right_index=True)\u001b[39;00m\n\u001b[32m   1300\u001b[39m                             right_keys.append(right.index._values)\n",
      "\u001b[32mc:\\Users\\HomeUser\\Desktop\\COMP3610A3\\.venv\\Lib\\site-packages\\pandas\\core\\generic.py\u001b[39m in \u001b[36m?\u001b[39m\u001b[34m(self, key, axis)\u001b[39m\n\u001b[32m   1907\u001b[39m             values = self.xs(key, axis=other_axes[\u001b[32m0\u001b[39m])._values\n\u001b[32m   1908\u001b[39m         \u001b[38;5;28;01melif\u001b[39;00m self._is_level_reference(key, axis=axis):\n\u001b[32m   1909\u001b[39m             values = self.axes[axis].get_level_values(key)._values\n\u001b[32m   1910\u001b[39m         \u001b[38;5;28;01melse\u001b[39;00m:\n\u001b[32m-> \u001b[39m\u001b[32m1911\u001b[39m             \u001b[38;5;28;01mraise\u001b[39;00m KeyError(key)\n\u001b[32m   1912\u001b[39m \n\u001b[32m   1913\u001b[39m         \u001b[38;5;66;03m# Check for duplicates\u001b[39;00m\n\u001b[32m   1914\u001b[39m         \u001b[38;5;28;01mif\u001b[39;00m values.ndim > \u001b[32m1\u001b[39m:\n",
      "\u001b[31mKeyError\u001b[39m: 'parent_asin'"
     ]
    }
   ],
   "source": [
    "for category in ['Movies_and_TV', 'Musical_Instruments', 'Office_Products']:\n",
    "    # Load the reviews and metadata for the specified category\n",
    "    review_df = load_reviews(base_path, category)\n",
    "    meta_df = load_metadata(base_path, category)\n",
    "\n",
    "    # Merge the two DataFrames\n",
    "    merged_df = merge_dfs(review_df, meta_df)\n",
    "\n",
    "    # Display the first few rows of the merged DataFrame\n",
    "    print(merged_df.head())"
   ]
  },
  {
   "cell_type": "markdown",
   "id": "e264ea7f",
   "metadata": {},
   "source": []
  },
  {
   "cell_type": "code",
   "execution_count": null,
   "id": "6bbb86a7",
   "metadata": {},
   "outputs": [],
   "source": []
  }
 ],
 "metadata": {
  "kernelspec": {
   "display_name": ".venv",
   "language": "python",
   "name": "python3"
  },
  "language_info": {
   "codemirror_mode": {
    "name": "ipython",
    "version": 3
   },
   "file_extension": ".py",
   "mimetype": "text/x-python",
   "name": "python",
   "nbconvert_exporter": "python",
   "pygments_lexer": "ipython3",
   "version": "3.12.7"
  }
 },
 "nbformat": 4,
 "nbformat_minor": 5
}
