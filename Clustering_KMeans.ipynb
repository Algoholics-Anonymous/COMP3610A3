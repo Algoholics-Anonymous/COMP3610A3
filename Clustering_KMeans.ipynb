{
 "cells": [
  {
   "cell_type": "markdown",
   "id": "dff69578",
   "metadata": {},
   "source": [
    "# Clustering"
   ]
  },
  {
   "cell_type": "markdown",
   "id": "606a7a5b",
   "metadata": {},
   "source": [
    "Setup environment <br>\n",
    "Import relevant libraries"
   ]
  },
  {
   "cell_type": "code",
   "execution_count": null,
   "id": "a38a6050",
   "metadata": {},
   "outputs": [],
   "source": [
    "# %pip install scikit-learn\n",
    "# %pip install matplotlib\n",
    "# %pip install seaborn\n",
    "# %pip install pandas\n",
    "\n",
    "from bigdata_a3_utils import *\n",
    "import pandas as pd\n",
    "import numpy as np\n",
    "from sklearn.cluster import KMeans\n",
    "from sklearn.preprocessing import LabelEncoder, StandardScaler\n",
    "import matplotlib.pyplot as plt\n",
    "import seaborn as sns\n",
    "from pathlib import Path\n",
    "import os, pickle, gc"
   ]
  },
  {
   "cell_type": "markdown",
   "id": "423e2583",
   "metadata": {},
   "source": [
    "Define bath path"
   ]
  },
  {
   "cell_type": "code",
   "execution_count": 49,
   "id": "184db6cf",
   "metadata": {},
   "outputs": [],
   "source": [
    "# base_path = Path('D:\\COMP3610A3\\dataframes')"
   ]
  },
  {
   "cell_type": "markdown",
   "id": "b2369a50",
   "metadata": {},
   "source": [
    "## Load Categories\n",
    "\n",
    "Define a function to combine the dataframes into one for analysis"
   ]
  },
  {
   "cell_type": "code",
   "execution_count": 50,
   "id": "ddc55507",
   "metadata": {},
   "outputs": [],
   "source": [
    "# def get_dataset(base_path, category):\n",
    "#     combined_df = pd.DataFrame()\n",
    "    \n",
    "#     for category in VALID_CATEGORIES:\n",
    "#         try:\n",
    "#             pickle_path = os.path.join(base_path, f'cleaned_data_{category}.pkl')\n",
    "#             category_df = pd.read_pickle(pickle_path)\n",
    "#         except Exception as e:\n",
    "#             print(f\"Error processing category {category}: {e}\")\n",
    "#             continue\n",
    "        \n",
    "#         print(f\"Processing category: {category}\")\n",
    "#         category_df = category_df[['parent_asin', 'rating', 'brand', 'main_category']]\n",
    "#         combined_df = pd.concat([combined_df, category_df], ignore_index=True)\n",
    "        \n",
    "#         del category_df\n",
    "#         gc.collect()\n",
    "    \n",
    "#     if combined_df.empty:\n",
    "#         print(\"No data available after processing all categories...\")\n",
    "#         return None\n",
    "    \n",
    "#     return combined_df\n",
    "        "
   ]
  },
  {
   "cell_type": "markdown",
   "id": "57c9f219",
   "metadata": {},
   "source": [
    "Now get the dataframe for the k-means clustering algorithm"
   ]
  },
  {
   "cell_type": "code",
   "execution_count": 51,
   "id": "182c7063",
   "metadata": {},
   "outputs": [],
   "source": [
    "# df = get_dataset(base_path, VALID_CATEGORIES)\n",
    "# df.head()"
   ]
  },
  {
   "cell_type": "code",
   "execution_count": 52,
   "id": "e2264cd6",
   "metadata": {},
   "outputs": [],
   "source": [
    "def get_needed_cols(base_path, category):\n",
    "    #columns we want\n",
    "    needed= ['parent_asin', 'rating', 'brand', 'main_category']\n",
    "    #read in pickle file\n",
    "    print(f\"Reading in {category} data\")\n",
    "    df= pd.read_pickle(base_path / f\"cleaned_data_{category}.pkl\")\n",
    "    print(f\"Finished reading in {category} data\")\n",
    "    \n",
    "    columns_to_drop = df.columns.difference(needed)\n",
    "    df.drop(columns=columns_to_drop, inplace=True)\n",
    "    print(\"Dropped unneeded columns\")\n",
    "    gc.collect()\n",
    "    return df"
   ]
  },
  {
   "cell_type": "code",
   "execution_count": 53,
   "id": "c704ce75",
   "metadata": {},
   "outputs": [
    {
     "name": "stdout",
     "output_type": "stream",
     "text": [
      "Reading in All_Beauty data\n",
      "Finished reading in All_Beauty data\n",
      "Dropped unneeded columns\n",
      "Reading in Amazon_Fashion data\n",
      "Finished reading in Amazon_Fashion data\n",
      "Dropped unneeded columns\n",
      "Reading in Appliances data\n",
      "Finished reading in Appliances data\n",
      "Dropped unneeded columns\n"
     ]
    }
   ],
   "source": [
    "base_path= Path(f\"D:\\COMP3610A3\\dataframes\")\n",
    "\n",
    "dfs = []\n",
    "\n",
    "#test run. Please run this to ensure you are getting the categories in the list below\n",
    "#Once working, comment test code and uncomment real code and then Run All\n",
    "categories= ['All_Beauty', 'Amazon_Fashion', 'Appliances']\n",
    "for category in categories:\n",
    "    x = get_needed_cols(base_path, category)\n",
    "    dfs.append(x)\n",
    "    gc.collect()\n",
    "\n",
    "df = pd.concat(dfs, ignore_index=True)"
   ]
  },
  {
   "cell_type": "markdown",
   "id": "21e52b88",
   "metadata": {},
   "source": [
    "## Features"
   ]
  },
  {
   "cell_type": "markdown",
   "id": "b4ac75d7",
   "metadata": {},
   "source": [
    "Category id map"
   ]
  },
  {
   "cell_type": "code",
   "execution_count": 54,
   "id": "c861fd21",
   "metadata": {},
   "outputs": [],
   "source": [
    "category_map = {\n",
    "    'all beauty': 0,\n",
    "    'amazon fashion': 1,\n",
    "    'appliances': 2,\n",
    "    'arts, crafts and sewing': 3,\n",
    "    'automotive': 4,\n",
    "    'baby products': 5,\n",
    "    'beauty and personal care': 6,\n",
    "    'books': 7,\n",
    "    'cds and vinyl': 8,\n",
    "    'cell phones and accessories': 9,\n",
    "    'clothing shoes and jewelry': 10,\n",
    "    'digital music': 11,\n",
    "    'electronics': 12,\n",
    "    'gift cards': 13,\n",
    "    'grocery and gourmet food': 14,\n",
    "    'handmade products': 15,\n",
    "    'health and household': 16,\n",
    "    'health and personal care': 17,\n",
    "    'home and kitchen': 18,\n",
    "    'industrial and scientific': 19,\n",
    "    'kindle store': 20,\n",
    "    'magazine subscriptions': 21,\n",
    "    'movies and tv': 22,\n",
    "    'musical instruments': 23,\n",
    "    'office products': 24,\n",
    "    'patio lawn and garden': 25,\n",
    "    'pet supplies': 26,\n",
    "    'software': 27,\n",
    "    'sports and outdoors': 28,\n",
    "    'subscription boxes': 29,\n",
    "    'tools and home improvement': 30,\n",
    "    'toys and games': 31,\n",
    "    'video games': 32,\n",
    "    'unknown': 33\n",
    "}"
   ]
  },
  {
   "cell_type": "markdown",
   "id": "33a2b669",
   "metadata": {},
   "source": [
    "Feature engineering"
   ]
  },
  {
   "cell_type": "code",
   "execution_count": 55,
   "id": "d4b85dd2",
   "metadata": {},
   "outputs": [
    {
     "name": "stdout",
     "output_type": "stream",
     "text": [
      "Encoding categorical features...\n"
     ]
    },
    {
     "data": {
      "text/html": [
       "<div>\n",
       "<style scoped>\n",
       "    .dataframe tbody tr th:only-of-type {\n",
       "        vertical-align: middle;\n",
       "    }\n",
       "\n",
       "    .dataframe tbody tr th {\n",
       "        vertical-align: top;\n",
       "    }\n",
       "\n",
       "    .dataframe thead th {\n",
       "        text-align: right;\n",
       "    }\n",
       "</style>\n",
       "<table border=\"1\" class=\"dataframe\">\n",
       "  <thead>\n",
       "    <tr style=\"text-align: right;\">\n",
       "      <th></th>\n",
       "      <th>parent_asin</th>\n",
       "      <th>mean_rating</th>\n",
       "      <th>total_reviews</th>\n",
       "      <th>brand_id</th>\n",
       "      <th>category_id</th>\n",
       "    </tr>\n",
       "  </thead>\n",
       "  <tbody>\n",
       "    <tr>\n",
       "      <th>0</th>\n",
       "      <td>0000099813</td>\n",
       "      <td>5.000000</td>\n",
       "      <td>3</td>\n",
       "      <td>70713</td>\n",
       "      <td>1</td>\n",
       "    </tr>\n",
       "    <tr>\n",
       "      <th>1</th>\n",
       "      <td>0005946468</td>\n",
       "      <td>5.000000</td>\n",
       "      <td>1</td>\n",
       "      <td>81872</td>\n",
       "      <td>0</td>\n",
       "    </tr>\n",
       "    <tr>\n",
       "      <th>2</th>\n",
       "      <td>0123034892</td>\n",
       "      <td>5.000000</td>\n",
       "      <td>1</td>\n",
       "      <td>108685</td>\n",
       "      <td>0</td>\n",
       "    </tr>\n",
       "    <tr>\n",
       "      <th>3</th>\n",
       "      <td>0124784577</td>\n",
       "      <td>4.333333</td>\n",
       "      <td>3</td>\n",
       "      <td>115451</td>\n",
       "      <td>0</td>\n",
       "    </tr>\n",
       "    <tr>\n",
       "      <th>4</th>\n",
       "      <td>0310807115</td>\n",
       "      <td>5.000000</td>\n",
       "      <td>1</td>\n",
       "      <td>108685</td>\n",
       "      <td>1</td>\n",
       "    </tr>\n",
       "  </tbody>\n",
       "</table>\n",
       "</div>"
      ],
      "text/plain": [
       "  parent_asin  mean_rating  total_reviews  brand_id  category_id\n",
       "0  0000099813     5.000000              3     70713            1\n",
       "1  0005946468     5.000000              1     81872            0\n",
       "2  0123034892     5.000000              1    108685            0\n",
       "3  0124784577     4.333333              3    115451            0\n",
       "4  0310807115     5.000000              1    108685            1"
      ]
     },
     "execution_count": 55,
     "metadata": {},
     "output_type": "execute_result"
    }
   ],
   "source": [
    "# Compute mean rating and total reviews for products\n",
    "product_df = df.groupby('parent_asin').agg(\n",
    "    mean_rating=('rating', 'mean'),\n",
    "    total_reviews=('rating', 'count'),\n",
    "    brand=('brand', lambda x: x.iloc[0]),\n",
    "    main_category=('main_category', lambda x: x.iloc[0]),\n",
    ").reset_index()\n",
    "\n",
    "# Delete df to free up memory\n",
    "del df\n",
    "gc.collect()\n",
    "\n",
    "# Encode categorical features, brand and main_category\n",
    "print(f\"Encoding categorical features...\")\n",
    "product_df['brand'] = product_df['brand'].fillna('Unknown')\n",
    "product_df['main_category'] = product_df['main_category'].fillna('Unknown')\n",
    "\n",
    "# Map category IDs\n",
    "product_df['main_category'] = product_df['main_category'].str.replace('&', 'and').str.lower()\n",
    "product_df['category_id'] = product_df['main_category'].map(category_map).fillna(33).astype(int)\n",
    "\n",
    "# Apply label encoding \n",
    "encoder_brand = LabelEncoder()\n",
    "product_df['brand'] = product_df['brand'].str.lower()\n",
    "product_df['brand_id'] = encoder_brand.fit_transform(product_df['brand'])\n",
    "\n",
    "# Prepare matrix\n",
    "product_df = product_df[['parent_asin', 'mean_rating', 'total_reviews', 'brand_id', 'category_id']]\n",
    "features = product_df[['mean_rating', 'total_reviews', 'brand_id', 'category_id']]\n",
    "\n",
    "product_df.head()\n"
   ]
  },
  {
   "cell_type": "markdown",
   "id": "3f8d6579",
   "metadata": {},
   "source": [
    "## k-means"
   ]
  },
  {
   "cell_type": "code",
   "execution_count": 56,
   "id": "e5207735",
   "metadata": {},
   "outputs": [
    {
     "name": "stdout",
     "output_type": "stream",
     "text": [
      "Applying KMeans clustering...\n"
     ]
    },
    {
     "data": {
      "text/html": [
       "<div>\n",
       "<style scoped>\n",
       "    .dataframe tbody tr th:only-of-type {\n",
       "        vertical-align: middle;\n",
       "    }\n",
       "\n",
       "    .dataframe tbody tr th {\n",
       "        vertical-align: top;\n",
       "    }\n",
       "\n",
       "    .dataframe thead th {\n",
       "        text-align: right;\n",
       "    }\n",
       "</style>\n",
       "<table border=\"1\" class=\"dataframe\">\n",
       "  <thead>\n",
       "    <tr style=\"text-align: right;\">\n",
       "      <th></th>\n",
       "      <th>parent_asin</th>\n",
       "      <th>mean_rating</th>\n",
       "      <th>total_reviews</th>\n",
       "      <th>brand_id</th>\n",
       "      <th>category_id</th>\n",
       "      <th>cluster</th>\n",
       "    </tr>\n",
       "  </thead>\n",
       "  <tbody>\n",
       "    <tr>\n",
       "      <th>0</th>\n",
       "      <td>0000099813</td>\n",
       "      <td>5.000000</td>\n",
       "      <td>3</td>\n",
       "      <td>70713</td>\n",
       "      <td>1</td>\n",
       "      <td>3</td>\n",
       "    </tr>\n",
       "    <tr>\n",
       "      <th>1</th>\n",
       "      <td>0005946468</td>\n",
       "      <td>5.000000</td>\n",
       "      <td>1</td>\n",
       "      <td>81872</td>\n",
       "      <td>0</td>\n",
       "      <td>4</td>\n",
       "    </tr>\n",
       "    <tr>\n",
       "      <th>2</th>\n",
       "      <td>0123034892</td>\n",
       "      <td>5.000000</td>\n",
       "      <td>1</td>\n",
       "      <td>108685</td>\n",
       "      <td>0</td>\n",
       "      <td>0</td>\n",
       "    </tr>\n",
       "    <tr>\n",
       "      <th>3</th>\n",
       "      <td>0124784577</td>\n",
       "      <td>4.333333</td>\n",
       "      <td>3</td>\n",
       "      <td>115451</td>\n",
       "      <td>0</td>\n",
       "      <td>0</td>\n",
       "    </tr>\n",
       "    <tr>\n",
       "      <th>4</th>\n",
       "      <td>0310807115</td>\n",
       "      <td>5.000000</td>\n",
       "      <td>1</td>\n",
       "      <td>108685</td>\n",
       "      <td>1</td>\n",
       "      <td>0</td>\n",
       "    </tr>\n",
       "  </tbody>\n",
       "</table>\n",
       "</div>"
      ],
      "text/plain": [
       "  parent_asin  mean_rating  total_reviews  brand_id  category_id  cluster\n",
       "0  0000099813     5.000000              3     70713            1        3\n",
       "1  0005946468     5.000000              1     81872            0        4\n",
       "2  0123034892     5.000000              1    108685            0        0\n",
       "3  0124784577     4.333333              3    115451            0        0\n",
       "4  0310807115     5.000000              1    108685            1        0"
      ]
     },
     "execution_count": 56,
     "metadata": {},
     "output_type": "execute_result"
    }
   ],
   "source": [
    "# Apply KMeans clustering\n",
    "print(f\"Applying KMeans clustering...\")\n",
    "kmeans = KMeans(n_clusters=5, random_state=42)\n",
    "product_df['cluster'] = kmeans.fit_predict(features)\n",
    "\n",
    "product_df.head()"
   ]
  },
  {
   "cell_type": "markdown",
   "id": "8582c5a9",
   "metadata": {},
   "source": [
    "## Cluster Analysis"
   ]
  },
  {
   "cell_type": "code",
   "execution_count": 57,
   "id": "b22f8ccc",
   "metadata": {},
   "outputs": [
    {
     "name": "stdout",
     "output_type": "stream",
     "text": [
      "Cluster 0:\n",
      " - Size: 233409\n",
      " - Avg Rating: 3.8616473725361766\n",
      " - Avg Total Reviews: 4.734384706673693\n",
      " - Avg Brand ID: 110156.68571905968\n",
      " - Avg Category ID: 3.3930653916515645\n",
      "Cluster 1:\n",
      " - Size: 219914\n",
      " - Avg Rating: 3.8809664229351077\n",
      " - Avg Total Reviews: 5.478077794046763\n",
      " - Avg Brand ID: 37680.935383831864\n",
      " - Avg Category ID: 3.432200769391671\n",
      "Cluster 2:\n",
      " - Size: 198698\n",
      " - Avg Rating: 3.9045616713939166\n",
      " - Avg Total Reviews: 5.216177314316198\n",
      " - Avg Brand ID: 12806.438791532879\n",
      " - Avg Category ID: 2.490321996195231\n",
      "Cluster 3:\n",
      " - Size: 189530\n",
      " - Avg Rating: 3.8661407747862198\n",
      " - Avg Total Reviews: 4.947844668390228\n",
      " - Avg Brand ID: 62915.95247190419\n",
      " - Avg Category ID: 2.193267556587348\n",
      "Cluster 4:\n",
      " - Size: 190587\n",
      " - Avg Rating: 3.8994952780614565\n",
      " - Avg Total Reviews: 5.1777455964992365\n",
      " - Avg Brand ID: 86707.17415668436\n",
      " - Avg Category ID: 2.443650406376091\n"
     ]
    }
   ],
   "source": [
    "# Analyse clusters\n",
    "cluster_analysis = product_df.groupby('cluster').agg(\n",
    "    cluster_size=('parent_asin', 'count'),\n",
    "    avg_rating=('mean_rating', 'mean'),\n",
    "    avg_total_reviews=('total_reviews', 'mean'),\n",
    "    avg_brand_id=('brand_id', 'mean'),\n",
    "    avg_category_id=('category_id', 'mean')\n",
    ").reset_index()\n",
    "\n",
    "for idx, row in cluster_analysis.iterrows():\n",
    "    print(f\"Cluster {int(row['cluster'])}:\")\n",
    "    print(f\" - Size: {int(row['cluster_size'])}\")\n",
    "    print(f\" - Avg Rating: {row['avg_rating']}\")\n",
    "    print(f\" - Avg Total Reviews: {row['avg_total_reviews']}\")\n",
    "    print(f\" - Avg Brand ID: {row['avg_brand_id']}\")\n",
    "    print(f\" - Avg Category ID: {row['avg_category_id']}\")\n"
   ]
  },
  {
   "cell_type": "markdown",
   "id": "e264ea7f",
   "metadata": {},
   "source": [
    "## Interpretation"
   ]
  },
  {
   "cell_type": "markdown",
   "id": "6bbb86a7",
   "metadata": {},
   "source": [
    "Remap brand and category names"
   ]
  },
  {
   "cell_type": "code",
   "execution_count": 66,
   "id": "6ad19db5",
   "metadata": {},
   "outputs": [],
   "source": [
    "brand_mapping = dict(zip(encoder_brand.transform(encoder_brand.classes_), encoder_brand.classes_))\n",
    "category_mapping = {v: k for k, v in category_map.items()}\n",
    "\n",
    "# Add the original brand and category names to the dataframe\n",
    "product_df['brand_name'] = product_df['brand_id'].map(brand_mapping)\n",
    "product_df['category_name'] = product_df['category_id'].map(category_mapping)\n"
   ]
  },
  {
   "cell_type": "markdown",
   "id": "187dd3c6",
   "metadata": {},
   "source": [
    "Brand and category distribution within each cluster"
   ]
  },
  {
   "cell_type": "code",
   "execution_count": 60,
   "id": "10ef49d0",
   "metadata": {},
   "outputs": [],
   "source": [
    "product_df.head()\n",
    "\n",
    "# Brand distribution within each cluster\n",
    "brand_distribution = pd.DataFrame()\n",
    "for cluster_id in range(5):\n",
    "    # Get top 10 brands in this cluster\n",
    "    cluster_brands = product_df[product_df['cluster'] == cluster_id]['brand_name'].value_counts().nlargest(10)\n",
    "    brand_distribution[f'Cluster {cluster_id}'] = cluster_brands\n",
    "\n",
    "# Category distribution within each cluster\n",
    "category_distribution = pd.DataFrame()\n",
    "for cluster_id in range(5):\n",
    "    # Get category distribution in this cluster\n",
    "    cluster_categories = product_df[product_df['cluster'] == cluster_id]['category_name'].value_counts()\n",
    "    category_distribution[f'Cluster {cluster_id}'] = cluster_categories\n",
    "\n",
    "# Calculate the percentage of each category within clusters\n",
    "category_percentages = pd.DataFrame()\n",
    "for cluster_id in range(5):\n",
    "    cluster_df = product_df[product_df['cluster'] == cluster_id]\n",
    "    category_counts = cluster_df['category_name'].value_counts()\n",
    "    total_in_cluster = len(cluster_df)\n",
    "    percentages = (category_counts / total_in_cluster * 100).round(2)\n",
    "    category_percentages[f'Cluster {cluster_id}'] = percentages\n",
    "\n"
   ]
  },
  {
   "cell_type": "markdown",
   "id": "c40f40b8",
   "metadata": {},
   "source": [
    "Rating distribution within each cluster"
   ]
  },
  {
   "cell_type": "code",
   "execution_count": 61,
   "id": "bf60d33e",
   "metadata": {},
   "outputs": [
    {
     "data": {
      "image/png": "[encoded data removed]",
      "text/plain": [
       "<Figure size 1600x600 with 5 Axes>"
      ]
     },
     "metadata": {},
     "output_type": "display_data"
    }
   ],
   "source": [
    "# 4. Rating distribution within each cluster\n",
    "plt.figure(figsize=(16, 6))\n",
    "for i in range(5):\n",
    "    plt.subplot(1, 5, i+1)\n",
    "    product_df[product_df['cluster'] == i]['mean_rating'].hist(bins=20, alpha=0.7)\n",
    "    plt.title(f'Cluster {i} Ratings')\n",
    "    plt.xlabel('Rating')\n",
    "    plt.ylabel('Frequency')\n",
    "plt.tight_layout()\n",
    "plt.show()"
   ]
  },
  {
   "cell_type": "markdown",
   "id": "bfc880c3",
   "metadata": {},
   "source": [
    "Review distribution within each cluser"
   ]
  },
  {
   "cell_type": "code",
   "execution_count": null,
   "id": "9be95b29",
   "metadata": {},
   "outputs": [
    {
     "data": {
      "image/png": "[encoded data removed]",
      "text/plain": [
       "<Figure size 1600x600 with 5 Axes>"
      ]
     },
     "metadata": {},
     "output_type": "display_data"
    }
   ],
   "source": [
    "# Review count distribution within each cluster\n",
    "plt.figure(figsize=(16, 6))\n",
    "for i in range(5):\n",
    "    plt.subplot(1, 5, i+1)\n",
    "    product_df[product_df['cluster'] == i]['total_reviews'].apply(np.log1p).hist(bins=20, alpha=0.7)\n",
    "    plt.title(f'Cluster {i} Reviews')\n",
    "    plt.xlabel('Review Count')\n",
    "    plt.ylabel('Frequency')\n",
    "plt.tight_layout()\n",
    "plt.show()"
   ]
  },
  {
   "cell_type": "markdown",
   "id": "cfed9c3e",
   "metadata": {},
   "source": []
  }
 ],
 "metadata": {
  "kernelspec": {
   "display_name": "Python 3",
   "language": "python",
   "name": "python3"
  },
  "language_info": {
   "codemirror_mode": {
    "name": "ipython",
    "version": 3
   },
   "file_extension": ".py",
   "mimetype": "text/x-python",
   "name": "python",
   "nbconvert_exporter": "python",
   "pygments_lexer": "ipython3",
   "version": "3.11.11"
  }
 },
 "nbformat": 4,
 "nbformat_minor": 5
}
