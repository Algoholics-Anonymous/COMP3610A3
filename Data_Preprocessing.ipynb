{
 "cells": [
  {
   "cell_type": "markdown",
   "id": "58fe7329",
   "metadata": {},
   "source": [
    "# Data Preprocessing:"
   ]
  },
  {
   "cell_type": "code",
   "execution_count": 1,
   "id": "57bada0f",
   "metadata": {},
   "outputs": [],
   "source": [
    "from bigdata_a3_utils import *\n",
    "import pandas as pd\n",
    "import pyarrow as pa\n",
    "import pyarrow.dataset as ds\n",
    "import pyarrow.parquet as pq\n",
    "from pathlib import Path"
   ]
  },
  {
   "cell_type": "code",
   "execution_count": 8,
   "id": "e7639de0",
   "metadata": {},
   "outputs": [],
   "source": [
    "df_list = []"
   ]
  },
  {
   "cell_type": "code",
   "execution_count": 9,
   "id": "6c80a5ee",
   "metadata": {},
   "outputs": [
    {
     "name": "stdout",
     "output_type": "stream",
     "text": [
      "Subset list: ['All_Beauty', 'Amazon_Fashion', 'Appliances', 'Arts_Crafts_and_Sewing', 'Automotive', 'Baby_Products', 'Beauty_and_Personal_Care', 'Books', 'CDs_and_Vinyl', 'Cell_Phones_and_Accessories', 'Clothing_Shoes_and_Jewelry']\n"
     ]
    }
   ],
   "source": [
    "subset_sizes = [11, 11, 12]  # Define the sizes of each subset\n",
    "\n",
    "# Create subsets\n",
    "subsets = []\n",
    "start_index = 0\n",
    "for size in subset_sizes:\n",
    "    subsets.append(VALID_CATEGORIES[start_index:start_index + size])\n",
    "    start_index += size\n",
    "\n",
    "# Unpack the subsets into individual variables\n",
    "kailash_subset, tbd_subset1, tbd_subset2 = subsets\n",
    "\n",
    "print(f\"Subset list: {kailash_subset}\")\n",
    "# Output the subsets"
   ]
  },
  {
   "cell_type": "code",
   "execution_count": 10,
   "id": "5bd29a73",
   "metadata": {},
   "outputs": [],
   "source": [
    "def load_all_data(category):\n",
    "    base_path = Path(\"C:/BigDataA3/A3_dataset\")\n",
    "    review_path = base_path / f\"raw_review_{category}.tar.gz\"\n",
    "    meta_folder_path = base_path / f\"raw_meta_{category}\" / \"full\"\n",
    "\n",
    "    print(f\"Loading review data for {category}...\")\n",
    "    review_dataset = load_compressed_dataset(review_path)\n",
    "\n",
    "    print(f\"Loading metadata for {category}...\")\n",
    "    meta_dataset = load_from_disk(str(meta_folder_path))\n",
    "\n",
    "    reviews_df = review_dataset[\"full\"].to_pandas()\n",
    "    meta_df = meta_dataset.to_pandas()\n",
    "\n",
    "    return reviews_df, meta_df"
   ]
  },
  {
   "cell_type": "code",
   "execution_count": 11,
   "id": "24466c3b",
   "metadata": {},
   "outputs": [],
   "source": [
    "def merge_dataframes(reviews_df, meta_df):\n",
    "    merged_df = pd.merge(\n",
    "    reviews_df,\n",
    "    meta_df,\n",
    "    left_on='parent_asin',\n",
    "    right_on='parent_asin',\n",
    "    how='inner',\n",
    "    suffixes=('_reviews', '_meta')\n",
    "    )\n",
    "\n",
    "    return merged_df"
   ]
  },
  {
   "cell_type": "code",
   "execution_count": 12,
   "id": "744c5099",
   "metadata": {},
   "outputs": [],
   "source": [
    "def extract_brand(row):\n",
    "    if row['store']:\n",
    "        return row['store']  # Return store if it has a value\n",
    "    elif row['details']:\n",
    "        # Extract brand from details (assuming brand is mentioned in a specific format)\n",
    "        # Here we just check if the string contains 'Brand' and extract it\n",
    "        for word in row['details'].split():\n",
    "            if 'Brand' in word:\n",
    "                return word  # Return the brand found in details\n",
    "    return 'Unknown'"
   ]
  },
  {
   "cell_type": "markdown",
   "id": "7d12f714",
   "metadata": {},
   "source": [
    "# MEMBERS READ\n",
    "- replace the kailash_subset varible with the subset you chose. Also update the code and whatsapp chat to reflect that"
   ]
  },
  {
   "cell_type": "code",
   "execution_count": null,
   "id": "ac9cdbaf",
   "metadata": {},
   "outputs": [
    {
     "name": "stdout",
     "output_type": "stream",
     "text": [
      "Loading review data for All_Beauty...\n",
      "Extracting C:\\BigDataA3\\A3_dataset\\raw_review_All_Beauty.tar.gz to C:\\BigDataA3\\A3_dataset\\temp_a46cdf4b74e24cb2ba5de8aa3dbce771...\n",
      "Loading dataset from C:\\BigDataA3\\A3_dataset\\temp_a46cdf4b74e24cb2ba5de8aa3dbce771\\raw_review_All_Beauty...\n",
      "Cleaning up temporary directory: C:\\BigDataA3\\A3_dataset\\temp_a46cdf4b74e24cb2ba5de8aa3dbce771\n",
      "Loading metadata for All_Beauty...\n"
     ]
    },
    {
     "name": "stderr",
     "output_type": "stream",
     "text": [
      "C:\\Users\\kaila\\AppData\\Local\\Temp\\ipykernel_15168\\1135423965.py:11: SettingWithCopyWarning: \n",
      "A value is trying to be set on a copy of a slice from a DataFrame.\n",
      "Try using .loc[row_indexer,col_indexer] = value instead\n",
      "\n",
      "See the caveats in the documentation: https://pandas.pydata.org/pandas-docs/stable/user_guide/indexing.html#returning-a-view-versus-a-copy\n",
      "  cleaned_empty_review.loc[:, 'brand'] = cleaned_empty_review.apply(extract_brand, axis=1)\n",
      "C:\\Users\\kaila\\AppData\\Local\\Temp\\ipykernel_15168\\1135423965.py:16: SettingWithCopyWarning: \n",
      "A value is trying to be set on a copy of a slice from a DataFrame.\n",
      "Try using .loc[row_indexer,col_indexer] = value instead\n",
      "\n",
      "See the caveats in the documentation: https://pandas.pydata.org/pandas-docs/stable/user_guide/indexing.html#returning-a-view-versus-a-copy\n",
      "  cleaned_dup.loc[:, 'review_length'] = cleaned_dup['text'].apply(lambda x: len(x.split()))\n",
      "C:\\Users\\kaila\\AppData\\Local\\Temp\\ipykernel_15168\\1135423965.py:17: SettingWithCopyWarning: \n",
      "A value is trying to be set on a copy of a slice from a DataFrame.\n",
      "Try using .loc[row_indexer,col_indexer] = value instead\n",
      "\n",
      "See the caveats in the documentation: https://pandas.pydata.org/pandas-docs/stable/user_guide/indexing.html#returning-a-view-versus-a-copy\n",
      "  cleaned_dup.loc[:, 'year'] = pd.to_datetime(cleaned_dup['timestamp'], unit='ms', errors='coerce').dt.year\n"
     ]
    },
    {
     "name": "stdout",
     "output_type": "stream",
     "text": [
      "Loading review data for Amazon_Fashion...\n",
      "Extracting C:\\BigDataA3\\A3_dataset\\raw_review_Amazon_Fashion.tar.gz to C:\\BigDataA3\\A3_dataset\\temp_6aba93d2e9d245538eb4be632b8424f1...\n",
      "Loading dataset from C:\\BigDataA3\\A3_dataset\\temp_6aba93d2e9d245538eb4be632b8424f1\\raw_review_Amazon_Fashion...\n",
      "Cleaning up temporary directory: C:\\BigDataA3\\A3_dataset\\temp_6aba93d2e9d245538eb4be632b8424f1\n",
      "Loading metadata for Amazon_Fashion...\n"
     ]
    },
    {
     "name": "stderr",
     "output_type": "stream",
     "text": [
      "C:\\Users\\kaila\\AppData\\Local\\Temp\\ipykernel_15168\\1135423965.py:11: SettingWithCopyWarning: \n",
      "A value is trying to be set on a copy of a slice from a DataFrame.\n",
      "Try using .loc[row_indexer,col_indexer] = value instead\n",
      "\n",
      "See the caveats in the documentation: https://pandas.pydata.org/pandas-docs/stable/user_guide/indexing.html#returning-a-view-versus-a-copy\n",
      "  cleaned_empty_review.loc[:, 'brand'] = cleaned_empty_review.apply(extract_brand, axis=1)\n",
      "C:\\Users\\kaila\\AppData\\Local\\Temp\\ipykernel_15168\\1135423965.py:16: SettingWithCopyWarning: \n",
      "A value is trying to be set on a copy of a slice from a DataFrame.\n",
      "Try using .loc[row_indexer,col_indexer] = value instead\n",
      "\n",
      "See the caveats in the documentation: https://pandas.pydata.org/pandas-docs/stable/user_guide/indexing.html#returning-a-view-versus-a-copy\n",
      "  cleaned_dup.loc[:, 'review_length'] = cleaned_dup['text'].apply(lambda x: len(x.split()))\n",
      "C:\\Users\\kaila\\AppData\\Local\\Temp\\ipykernel_15168\\1135423965.py:17: SettingWithCopyWarning: \n",
      "A value is trying to be set on a copy of a slice from a DataFrame.\n",
      "Try using .loc[row_indexer,col_indexer] = value instead\n",
      "\n",
      "See the caveats in the documentation: https://pandas.pydata.org/pandas-docs/stable/user_guide/indexing.html#returning-a-view-versus-a-copy\n",
      "  cleaned_dup.loc[:, 'year'] = pd.to_datetime(cleaned_dup['timestamp'], unit='ms', errors='coerce').dt.year\n"
     ]
    }
   ],
   "source": [
    "for category in kailash_subset:\n",
    "    reviews_df, metadata_df = load_all_data(category)\n",
    "    # print(f\"Review dataset shape: {reviews_df.shape}\")\n",
    "    # print(f\"Review dataset columns:\\n{reviews_df.columns}\")\n",
    "    # print(f\"Metadata dataset shape: {metadata_df.shape}\")\n",
    "    # print(f\"Metadata dataset columns:\\n{metadata_df.columns}\")\n",
    "    merged_df = merge_dataframes(reviews_df, metadata_df)\n",
    "    cleaned_rating = merged_df[(merged_df['rating'].notnull()) & \n",
    "                              (merged_df['rating'].between(1, 5))]\n",
    "    cleaned_empty_review = cleaned_rating[cleaned_rating['text'].str.strip().astype(bool)]\n",
    "    cleaned_empty_review.loc[:, 'brand'] = cleaned_empty_review.apply(extract_brand, axis=1)\n",
    "\n",
    "    cleaned_brands = cleaned_empty_review\n",
    "\n",
    "    cleaned_dup = cleaned_brands.drop_duplicates(subset=['user_id', 'text'], keep='first')\n",
    "    cleaned_dup.loc[:, 'review_length'] = cleaned_dup['text'].apply(lambda x: len(x.split()))\n",
    "    cleaned_dup.loc[:, 'year'] = pd.to_datetime(cleaned_dup['timestamp'], unit='ms', errors='coerce').dt.year\n",
    "    \n",
    "    cleaned_df = cleaned_dup\n",
    "    df_list.append(cleaned_df)\n",
    "    "
   ]
  },
  {
   "cell_type": "code",
   "execution_count": null,
   "id": "ee59318b",
   "metadata": {},
   "outputs": [],
   "source": []
  }
 ],
 "metadata": {
  "kernelspec": {
   "display_name": "Python 3",
   "language": "python",
   "name": "python3"
  },
  "language_info": {
   "name": "python",
   "version": "3.12.6"
  }
 },
 "nbformat": 4,
 "nbformat_minor": 5
}
