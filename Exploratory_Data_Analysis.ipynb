{
 "cells": [
  {
   "cell_type": "markdown",
   "id": "a46f3565",
   "metadata": {},
   "source": [
    "# Please double check for errors or misinterpretations ~Kailash"
   ]
  },
  {
   "cell_type": "code",
   "execution_count": null,
   "id": "a0a3a6d4",
   "metadata": {},
   "outputs": [],
   "source": [
    "from bigdata_a3_utils import *\n",
    "import pandas as pd\n",
    "import matplotlib.pyplot as plt\n",
    "import seaborn as sns\n",
    "from pathlib import Path\n",
    "import gc\n",
    "from scipy.stats import pearsonr"
   ]
  },
  {
   "cell_type": "code",
   "execution_count": null,
   "id": "93b7449d",
   "metadata": {},
   "outputs": [],
   "source": [
    "def get_needed_cols(base_path, category):\n",
    "    #columns we want\n",
    "    needed= [\"rating\", \"main_category\", \"brand\", \"year\", \"review_length\", \"helpful_vote\", \"verified_purchase\"]\n",
    "    #read in pickle file\n",
    "    print(f\"Reading in {category} data\")\n",
    "    df= pd.read_pickle(base_path / f\"cleaned_data_{category}.pkl\")\n",
    "    print(f\"Finished reading in {category} data\")\n",
    "    \n",
    "    columns_to_drop = df.columns.difference(needed)\n",
    "    df.drop(columns=columns_to_drop, inplace=True)\n",
    "    print(\"Dropped unneeded columns\")\n",
    "    gc.collect()\n",
    "    return df\n",
    "    "
   ]
  },
  {
   "cell_type": "code",
   "execution_count": null,
   "id": "d04f1090",
   "metadata": {},
   "outputs": [],
   "source": [
    "base_path= Path(r\"F:\\Saeed\\frames\")\n",
    "\n",
    "dfs = []\n",
    "\n",
    "categories= VALID_CATEGORIES\n",
    "for category in categories:\n",
    "    x = get_needed_cols(base_path, category)\n",
    "    dfs.append(x)\n",
    "    gc.collect()\n",
    "\n",
    "temp_unified = pd.concat(dfs, ignore_index=True)\n",
    "del dfs\n",
    "gc.collect()"
   ]
  },
  {
   "cell_type": "code",
   "execution_count": null,
   "id": "50c5bda5",
   "metadata": {},
   "outputs": [],
   "source": [
    "temp_unified.head(1)"
   ]
  },
  {
   "cell_type": "markdown",
   "id": "bc9fcd17",
   "metadata": {},
   "source": [
    "# Star Rating"
   ]
  },
  {
   "cell_type": "code",
   "execution_count": null,
   "id": "c6c4cf26",
   "metadata": {},
   "outputs": [],
   "source": [
    "def plot_star_rating():\n",
    "    plt.figure(figsize=(10, 6))\n",
    "    temp_unified['rating'].hist(bins=5, edgecolor='black')\n",
    "    plt.title('Star Rating Histogram')\n",
    "    plt.xlabel('Star Rating')\n",
    "    plt.ylabel('Frequency')\n",
    "    plt.xticks(range(1, 6))\n",
    "    plt.grid(axis='y')\n",
    "    plt.show()\n",
    "\n",
    "plot_star_rating()"
   ]
  },
  {
   "cell_type": "markdown",
   "id": "104d8798",
   "metadata": {},
   "source": [
    "# Top 10 Categories"
   ]
  },
  {
   "cell_type": "code",
   "execution_count": null,
   "id": "20da36e0",
   "metadata": {},
   "outputs": [],
   "source": [
    "def plot_top_10_categories():\n",
    "    top_categories = temp_unified['main_category'].value_counts().head(10)\n",
    "    plt.figure(figsize=(12, 6))\n",
    "    top_categories.plot(kind='bar', color='skyblue')\n",
    "    plt.title('Top 10 Categories by Total Review Count')\n",
    "    plt.xlabel('Category')\n",
    "    plt.ylabel('Total Review Count')\n",
    "    plt.xticks(rotation=45)\n",
    "    plt.show()\n",
    "    \n",
    "plot_top_10_categories()"
   ]
  },
  {
   "cell_type": "markdown",
   "id": "08ba936a",
   "metadata": {},
   "source": [
    "# Top 10 brands excluding Unknown"
   ]
  },
  {
   "cell_type": "code",
   "execution_count": null,
   "id": "ee299401",
   "metadata": {},
   "outputs": [],
   "source": [
    "def plot_top_10_brands_excluding_unknown():\n",
    "    top_brands = temp_unified[temp_unified['brand'] != 'Unknown']['brand'].value_counts().head(10)\n",
    "    plt.figure(figsize=(12, 6))\n",
    "    top_brands.plot(kind='bar', color='lightgreen')\n",
    "    plt.title('Top 10 Brands by Total Review Count')\n",
    "    plt.xlabel('Brand')\n",
    "    plt.ylabel('Total Review Count')\n",
    "    plt.xticks(rotation=45)\n",
    "    plt.show()\n",
    "\n",
    "plot_top_10_brands_excluding_unknown()"
   ]
  },
  {
   "cell_type": "markdown",
   "id": "fe28fe01",
   "metadata": {},
   "source": [
    "# Average rating per year"
   ]
  },
  {
   "cell_type": "code",
   "execution_count": null,
   "id": "655165a4",
   "metadata": {},
   "outputs": [],
   "source": [
    "\n",
    "def plot_average_rating_per_year():\n",
    "    average_rating_per_year = temp_unified.groupby('year')['rating'].mean()\n",
    "    plt.figure(figsize=(12, 6))\n",
    "    average_rating_per_year.plot(kind='line', marker='o', color='orange')\n",
    "    plt.title('Average Star Rating per Year')\n",
    "    plt.xlabel('Year')\n",
    "    plt.ylabel('Average Star Rating')\n",
    "    plt.grid()\n",
    "    plt.show()\n",
    "\n",
    "plot_average_rating_per_year()"
   ]
  },
  {
   "cell_type": "markdown",
   "id": "38d6bacc",
   "metadata": {},
   "source": [
    "# Correlation"
   ]
  },
  {
   "cell_type": "code",
   "execution_count": null,
   "id": "726674d8",
   "metadata": {},
   "outputs": [],
   "source": [
    "correlation = temp_unified['review_length'].corr(temp_unified['rating'])\n",
    "print(f'Pearson correlation between review length and star rating: {correlation:.2f}')"
   ]
  },
  {
   "cell_type": "code",
   "execution_count": null,
   "id": "ea7dd5df",
   "metadata": {},
   "outputs": [],
   "source": [
    "correlation, p_value = pearsonr(temp_unified['review_length'], temp_unified['rating'])\n",
    "print(f\"Pearson correlation coefficient: {correlation:.4f}\")\n",
    "print(f\"P-value: {p_value:.4f}\")\n",
    "\n",
    "\n",
    "\n",
    "plt.figure(figsize=(10, 6))\n",
    "plt.scatter(temp_unified['review_length'], temp_unified['rating'], alpha=0.6)\n",
    "plt.title('Relationship Between Review Length and Star Rating')\n",
    "plt.xlabel('Review Length (words)')\n",
    "plt.ylabel('Star Rating')\n",
    "\n",
    "plt.text(0.05, 0.95, f'Correlation: {correlation:.4f}\\nP-value: {p_value:.4f}', \n",
    "         transform=plt.gca().transAxes, fontsize=12, \n",
    "         verticalalignment='top', bbox=dict(boxstyle='round', facecolor='white', alpha=0.8))\n",
    "\n",
    "plt.tight_layout()\n",
    "plt.show()\n"
   ]
  },
  {
   "cell_type": "markdown",
   "id": "ed7d08e9",
   "metadata": {},
   "source": [
    "# Distribution of helpful vote counts"
   ]
  },
  {
   "cell_type": "code",
   "execution_count": null,
   "id": "d17d283a",
   "metadata": {},
   "outputs": [],
   "source": [
    "def plot_helpful_vote_counts():\n",
    "    plt.figure(figsize=(10, 6))\n",
    "    temp_unified['helpful_vote'].hist(bins=30, edgecolor='black')\n",
    "    plt.title('Distribution of Helpful Vote Counts')\n",
    "    plt.xlabel('Helpful Votes')\n",
    "    plt.ylabel('Frequency')\n",
    "    plt.grid(axis='y')\n",
    "    plt.show()\n",
    "\n",
    "plot_helpful_vote_counts()"
   ]
  },
  {
   "cell_type": "markdown",
   "id": "643e4268",
   "metadata": {},
   "source": [
    "# Relationship between verified purchase and star rating"
   ]
  },
  {
   "cell_type": "code",
   "execution_count": null,
   "id": "cb6558a6",
   "metadata": {},
   "outputs": [],
   "source": [
    "def plot_relationship_between_verified_purchase_and_rating():\n",
    "    plt.figure(figsize=(10, 6))\n",
    "    sns.boxplot(x='verified_purchase', y='rating', data=temp_unified, palette='Set2')\n",
    "    plt.title('Star Rating by Verified Purchase Status')\n",
    "    plt.xlabel('Verified Purchase')\n",
    "    plt.ylabel('Star Rating')\n",
    "    plt.grid()\n",
    "    plt.show()\n",
    "\n",
    "plot_relationship_between_verified_purchase_and_rating()"
   ]
  },
  {
   "cell_type": "code",
   "execution_count": null,
   "id": "bada6b28",
   "metadata": {},
   "outputs": [],
   "source": []
  }
 ],
 "metadata": {
  "kernelspec": {
   "display_name": "Python 3",
   "language": "python",
   "name": "python3"
  },
  "language_info": {
   "codemirror_mode": {
    "name": "ipython",
    "version": 3
   },
   "file_extension": ".py",
   "mimetype": "text/x-python",
   "name": "python",
   "nbconvert_exporter": "python",
   "pygments_lexer": "ipython3",
   "version": "3.12.6"
  }
 },
 "nbformat": 4,
 "nbformat_minor": 5
}
