{
 "cells": [
  {
   "cell_type": "markdown",
   "id": "dff69578",
   "metadata": {},
   "source": [
    "# Clustering"
   ]
  },
  {
   "cell_type": "markdown",
   "id": "606a7a5b",
   "metadata": {},
   "source": [
    "Setup environment <br>\n",
    "Import relevant libraries"
   ]
  },
  {
   "cell_type": "code",
   "execution_count": 14,
   "id": "a38a6050",
   "metadata": {},
   "outputs": [],
   "source": [
    "# %pip install scikit-learn\n",
    "# %pip install matplotlib\n",
    "# %pip install seaborn\n",
    "# %pip install pandas\n",
    "\n",
    "from bigdata_a3_utils import *\n",
    "import pandas as pd\n",
    "import numpy as np\n",
    "from sklearn.cluster import KMeans\n",
    "from sklearn.preprocessing import LabelEncoder\n",
    "import matplotlib.pyplot as plt\n",
    "import seaborn as sns\n",
    "from pathlib import Path\n",
    "import os, pickle, gc"
   ]
  },
  {
   "cell_type": "markdown",
   "id": "423e2583",
   "metadata": {},
   "source": [
    "Define bath path"
   ]
  },
  {
   "cell_type": "code",
   "execution_count": 15,
   "id": "184db6cf",
   "metadata": {},
   "outputs": [],
   "source": [
    "base_path = Path('D:\\COMP3610A3\\dataframes')"
   ]
  },
  {
   "cell_type": "markdown",
   "id": "b2369a50",
   "metadata": {},
   "source": [
    "## Load Categories\n",
    "\n",
    "Define a function to combine the dataframes into one for analysis"
   ]
  },
  {
   "cell_type": "code",
   "execution_count": 16,
   "id": "ddc55507",
   "metadata": {},
   "outputs": [],
   "source": [
    "def get_dataset(base_path, category):\n",
    "    combined_df = pd.DataFrame()\n",
    "    \n",
    "    for category in VALID_CATEGORIES:\n",
    "        try:\n",
    "            pickle_path = os.path.join(base_path, f'cleaned_data_{category}.pkl')\n",
    "            category_df = pd.read_pickle(pickle_path)\n",
    "        except Exception as e:\n",
    "            print(f\"Error processing category {category}: {e}\")\n",
    "            continue\n",
    "        \n",
    "        print(f\"Processing category: {category}\")\n",
    "        category_df = category_df[['parent_asin', 'rating', 'brand', 'main_category']]\n",
    "        combined_df = pd.concat([combined_df, category_df], ignore_index=True)\n",
    "        \n",
    "        del category_df\n",
    "        gc.collect()\n",
    "    \n",
    "    if combined_df.empty:\n",
    "        print(\"No data available after processing all categories...\")\n",
    "        return None\n",
    "    \n",
    "    return combined_df\n",
    "        "
   ]
  },
  {
   "cell_type": "markdown",
   "id": "57c9f219",
   "metadata": {},
   "source": [
    "Now get the dataframe for the k-means clustering algorithm"
   ]
  },
  {
   "cell_type": "code",
   "execution_count": 17,
   "id": "182c7063",
   "metadata": {},
   "outputs": [
    {
     "name": "stdout",
     "output_type": "stream",
     "text": [
      "Error processing category All_Beauty: [Errno 2] No such file or directory: 'D:\\\\COMP3610A3\\\\dataframes\\\\cleaned_data_All_Beauty.pkl'\n",
      "Error processing category Amazon_Fashion: [Errno 2] No such file or directory: 'D:\\\\COMP3610A3\\\\dataframes\\\\cleaned_data_Amazon_Fashion.pkl'\n",
      "Error processing category Appliances: [Errno 2] No such file or directory: 'D:\\\\COMP3610A3\\\\dataframes\\\\cleaned_data_Appliances.pkl'\n",
      "Error processing category Arts_Crafts_and_Sewing: [Errno 2] No such file or directory: 'D:\\\\COMP3610A3\\\\dataframes\\\\cleaned_data_Arts_Crafts_and_Sewing.pkl'\n",
      "Error processing category Automotive: [Errno 2] No such file or directory: 'D:\\\\COMP3610A3\\\\dataframes\\\\cleaned_data_Automotive.pkl'\n",
      "Error processing category Baby_Products: [Errno 2] No such file or directory: 'D:\\\\COMP3610A3\\\\dataframes\\\\cleaned_data_Baby_Products.pkl'\n",
      "Error processing category Beauty_and_Personal_Care: [Errno 2] No such file or directory: 'D:\\\\COMP3610A3\\\\dataframes\\\\cleaned_data_Beauty_and_Personal_Care.pkl'\n",
      "Error processing category Books: [Errno 2] No such file or directory: 'D:\\\\COMP3610A3\\\\dataframes\\\\cleaned_data_Books.pkl'\n",
      "Error processing category CDs_and_Vinyl: [Errno 2] No such file or directory: 'D:\\\\COMP3610A3\\\\dataframes\\\\cleaned_data_CDs_and_Vinyl.pkl'\n",
      "Error processing category Cell_Phones_and_Accessories: [Errno 2] No such file or directory: 'D:\\\\COMP3610A3\\\\dataframes\\\\cleaned_data_Cell_Phones_and_Accessories.pkl'\n",
      "Error processing category Clothing_Shoes_and_Jewelry: [Errno 2] No such file or directory: 'D:\\\\COMP3610A3\\\\dataframes\\\\cleaned_data_Clothing_Shoes_and_Jewelry.pkl'\n",
      "Error processing category Digital_Music: [Errno 2] No such file or directory: 'D:\\\\COMP3610A3\\\\dataframes\\\\cleaned_data_Digital_Music.pkl'\n",
      "Error processing category Electronics: [Errno 2] No such file or directory: 'D:\\\\COMP3610A3\\\\dataframes\\\\cleaned_data_Electronics.pkl'\n",
      "Error processing category Gift_Cards: [Errno 2] No such file or directory: 'D:\\\\COMP3610A3\\\\dataframes\\\\cleaned_data_Gift_Cards.pkl'\n",
      "Error processing category Grocery_and_Gourmet_Food: [Errno 2] No such file or directory: 'D:\\\\COMP3610A3\\\\dataframes\\\\cleaned_data_Grocery_and_Gourmet_Food.pkl'\n",
      "Error processing category Handmade_Products: [Errno 2] No such file or directory: 'D:\\\\COMP3610A3\\\\dataframes\\\\cleaned_data_Handmade_Products.pkl'\n",
      "Error processing category Health_and_Household: [Errno 2] No such file or directory: 'D:\\\\COMP3610A3\\\\dataframes\\\\cleaned_data_Health_and_Household.pkl'\n",
      "Error processing category Health_and_Personal_Care: [Errno 2] No such file or directory: 'D:\\\\COMP3610A3\\\\dataframes\\\\cleaned_data_Health_and_Personal_Care.pkl'\n",
      "Error processing category Home_and_Kitchen: [Errno 2] No such file or directory: 'D:\\\\COMP3610A3\\\\dataframes\\\\cleaned_data_Home_and_Kitchen.pkl'\n",
      "Error processing category Industrial_and_Scientific: [Errno 2] No such file or directory: 'D:\\\\COMP3610A3\\\\dataframes\\\\cleaned_data_Industrial_and_Scientific.pkl'\n",
      "Error processing category Kindle_Store: [Errno 2] No such file or directory: 'D:\\\\COMP3610A3\\\\dataframes\\\\cleaned_data_Kindle_Store.pkl'\n",
      "Error processing category Magazine_Subscriptions: [Errno 2] No such file or directory: 'D:\\\\COMP3610A3\\\\dataframes\\\\cleaned_data_Magazine_Subscriptions.pkl'\n",
      "Processing category: Movies_and_TV\n",
      "Processing category: Musical_Instruments\n",
      "Processing category: Office_Products\n",
      "Error processing category Patio_Lawn_and_Garden: [Errno 2] No such file or directory: 'D:\\\\COMP3610A3\\\\dataframes\\\\cleaned_data_Patio_Lawn_and_Garden.pkl'\n",
      "Processing category: Pet_Supplies\n",
      "Error processing category Software: [Errno 2] No such file or directory: 'D:\\\\COMP3610A3\\\\dataframes\\\\cleaned_data_Software.pkl'\n",
      "Error processing category Sports_and_Outdoors: [Errno 2] No such file or directory: 'D:\\\\COMP3610A3\\\\dataframes\\\\cleaned_data_Sports_and_Outdoors.pkl'\n",
      "Error processing category Subscription_Boxes: [Errno 2] No such file or directory: 'D:\\\\COMP3610A3\\\\dataframes\\\\cleaned_data_Subscription_Boxes.pkl'\n",
      "Error processing category Tools_and_Home_Improvement: [Errno 2] No such file or directory: 'D:\\\\COMP3610A3\\\\dataframes\\\\cleaned_data_Tools_and_Home_Improvement.pkl'\n",
      "Error processing category Toys_and_Games: [Errno 2] No such file or directory: 'D:\\\\COMP3610A3\\\\dataframes\\\\cleaned_data_Toys_and_Games.pkl'\n",
      "Error processing category Video_Games: [Errno 2] No such file or directory: 'D:\\\\COMP3610A3\\\\dataframes\\\\cleaned_data_Video_Games.pkl'\n",
      "Error processing category Unknown: [Errno 2] No such file or directory: 'D:\\\\COMP3610A3\\\\dataframes\\\\cleaned_data_Unknown.pkl'\n"
     ]
    },
    {
     "data": {
      "text/html": [
       "<div>\n",
       "<style scoped>\n",
       "    .dataframe tbody tr th:only-of-type {\n",
       "        vertical-align: middle;\n",
       "    }\n",
       "\n",
       "    .dataframe tbody tr th {\n",
       "        vertical-align: top;\n",
       "    }\n",
       "\n",
       "    .dataframe thead th {\n",
       "        text-align: right;\n",
       "    }\n",
       "</style>\n",
       "<table border=\"1\" class=\"dataframe\">\n",
       "  <thead>\n",
       "    <tr style=\"text-align: right;\">\n",
       "      <th></th>\n",
       "      <th>parent_asin</th>\n",
       "      <th>rating</th>\n",
       "      <th>brand</th>\n",
       "      <th>main_category</th>\n",
       "    </tr>\n",
       "  </thead>\n",
       "  <tbody>\n",
       "    <tr>\n",
       "      <th>0</th>\n",
       "      <td>B013488XFS</td>\n",
       "      <td>5.0</td>\n",
       "      <td>Unknown</td>\n",
       "      <td>Prime Video</td>\n",
       "    </tr>\n",
       "    <tr>\n",
       "      <th>1</th>\n",
       "      <td>B00CB6VTDS</td>\n",
       "      <td>5.0</td>\n",
       "      <td>Unknown</td>\n",
       "      <td>Prime Video</td>\n",
       "    </tr>\n",
       "    <tr>\n",
       "      <th>2</th>\n",
       "      <td>B096Z8Z3R6</td>\n",
       "      <td>3.0</td>\n",
       "      <td>Unknown</td>\n",
       "      <td>Prime Video</td>\n",
       "    </tr>\n",
       "    <tr>\n",
       "      <th>3</th>\n",
       "      <td>B09M14D9FZ</td>\n",
       "      <td>4.0</td>\n",
       "      <td>Unknown</td>\n",
       "      <td>Prime Video</td>\n",
       "    </tr>\n",
       "    <tr>\n",
       "      <th>4</th>\n",
       "      <td>B001H1SVZC</td>\n",
       "      <td>5.0</td>\n",
       "      <td>Unknown</td>\n",
       "      <td>Prime Video</td>\n",
       "    </tr>\n",
       "  </tbody>\n",
       "</table>\n",
       "</div>"
      ],
      "text/plain": [
       "  parent_asin  rating    brand main_category\n",
       "0  B013488XFS     5.0  Unknown   Prime Video\n",
       "1  B00CB6VTDS     5.0  Unknown   Prime Video\n",
       "2  B096Z8Z3R6     3.0  Unknown   Prime Video\n",
       "3  B09M14D9FZ     4.0  Unknown   Prime Video\n",
       "4  B001H1SVZC     5.0  Unknown   Prime Video"
      ]
     },
     "execution_count": 17,
     "metadata": {},
     "output_type": "execute_result"
    }
   ],
   "source": [
    "df = get_dataset(base_path, VALID_CATEGORIES)\n",
    "df.head()"
   ]
  },
  {
   "cell_type": "markdown",
   "id": "21e52b88",
   "metadata": {},
   "source": [
    "## Features"
   ]
  },
  {
   "cell_type": "code",
   "execution_count": 18,
   "id": "d4b85dd2",
   "metadata": {},
   "outputs": [
    {
     "name": "stdout",
     "output_type": "stream",
     "text": [
      "Encoding categorical features...\n"
     ]
    },
    {
     "data": {
      "text/html": [
       "<div>\n",
       "<style scoped>\n",
       "    .dataframe tbody tr th:only-of-type {\n",
       "        vertical-align: middle;\n",
       "    }\n",
       "\n",
       "    .dataframe tbody tr th {\n",
       "        vertical-align: top;\n",
       "    }\n",
       "\n",
       "    .dataframe thead th {\n",
       "        text-align: right;\n",
       "    }\n",
       "</style>\n",
       "<table border=\"1\" class=\"dataframe\">\n",
       "  <thead>\n",
       "    <tr style=\"text-align: right;\">\n",
       "      <th></th>\n",
       "      <th>parent_asin</th>\n",
       "      <th>mean_rating</th>\n",
       "      <th>total_reviews</th>\n",
       "      <th>brand_id</th>\n",
       "      <th>category_id</th>\n",
       "    </tr>\n",
       "  </thead>\n",
       "  <tbody>\n",
       "    <tr>\n",
       "      <th>0</th>\n",
       "      <td>0000041386</td>\n",
       "      <td>1.000000</td>\n",
       "      <td>1</td>\n",
       "      <td>355584</td>\n",
       "      <td>28</td>\n",
       "    </tr>\n",
       "    <tr>\n",
       "      <th>1</th>\n",
       "      <td>0000098906</td>\n",
       "      <td>4.203704</td>\n",
       "      <td>108</td>\n",
       "      <td>364099</td>\n",
       "      <td>29</td>\n",
       "    </tr>\n",
       "    <tr>\n",
       "      <th>2</th>\n",
       "      <td>0000143499</td>\n",
       "      <td>5.000000</td>\n",
       "      <td>1</td>\n",
       "      <td>15874</td>\n",
       "      <td>28</td>\n",
       "    </tr>\n",
       "    <tr>\n",
       "      <th>3</th>\n",
       "      <td>0000143502</td>\n",
       "      <td>5.000000</td>\n",
       "      <td>1</td>\n",
       "      <td>15872</td>\n",
       "      <td>28</td>\n",
       "    </tr>\n",
       "    <tr>\n",
       "      <th>4</th>\n",
       "      <td>0000143529</td>\n",
       "      <td>5.000000</td>\n",
       "      <td>1</td>\n",
       "      <td>15872</td>\n",
       "      <td>41</td>\n",
       "    </tr>\n",
       "  </tbody>\n",
       "</table>\n",
       "</div>"
      ],
      "text/plain": [
       "  parent_asin  mean_rating  total_reviews  brand_id  category_id\n",
       "0  0000041386     1.000000              1    355584           28\n",
       "1  0000098906     4.203704            108    364099           29\n",
       "2  0000143499     5.000000              1     15874           28\n",
       "3  0000143502     5.000000              1     15872           28\n",
       "4  0000143529     5.000000              1     15872           41"
      ]
     },
     "execution_count": 18,
     "metadata": {},
     "output_type": "execute_result"
    }
   ],
   "source": [
    "# Compute mean rating and total reviews for products\n",
    "product_df = df.groupby('parent_asin').agg(\n",
    "    mean_rating=('rating', 'mean'),\n",
    "    total_reviews=('rating', 'count'),\n",
    "    brand=('brand', lambda x: x.iloc[0]),\n",
    "    main_category=('main_category', lambda x: x.iloc[0]),\n",
    ").reset_index()\n",
    "\n",
    "# Delete df to free up memory\n",
    "del df\n",
    "gc.collect()\n",
    "\n",
    "# Encode categorical features, brand and main_category\n",
    "print(f\"Encoding categorical features...\")\n",
    "product_df['brand'] = product_df['brand'].fillna('Unknown')\n",
    "product_df['main_category'] = product_df['main_category'].fillna('Unknown')\n",
    "\n",
    "# Apply label encoding \n",
    "encoder_brand = LabelEncoder()\n",
    "encoder_main_category = LabelEncoder()\n",
    "\n",
    "product_df['brand_id'] = encoder_brand.fit_transform(product_df['brand'])\n",
    "product_df['category_id'] = encoder_main_category.fit_transform(product_df['main_category'])\n",
    "product_df = product_df.drop(columns=['brand', 'main_category'])\n",
    "\n",
    "# Prepare matrix\n",
    "features = product_df[['mean_rating', 'total_reviews', 'brand_id', 'category_id']]\n",
    "\n",
    "product_df.head()\n"
   ]
  },
  {
   "cell_type": "markdown",
   "id": "3f8d6579",
   "metadata": {},
   "source": [
    "## k-means"
   ]
  },
  {
   "cell_type": "code",
   "execution_count": 19,
   "id": "e5207735",
   "metadata": {},
   "outputs": [
    {
     "name": "stdout",
     "output_type": "stream",
     "text": [
      "Applying KMeans clustering...\n"
     ]
    },
    {
     "data": {
      "text/html": [
       "<div>\n",
       "<style scoped>\n",
       "    .dataframe tbody tr th:only-of-type {\n",
       "        vertical-align: middle;\n",
       "    }\n",
       "\n",
       "    .dataframe tbody tr th {\n",
       "        vertical-align: top;\n",
       "    }\n",
       "\n",
       "    .dataframe thead th {\n",
       "        text-align: right;\n",
       "    }\n",
       "</style>\n",
       "<table border=\"1\" class=\"dataframe\">\n",
       "  <thead>\n",
       "    <tr style=\"text-align: right;\">\n",
       "      <th></th>\n",
       "      <th>parent_asin</th>\n",
       "      <th>mean_rating</th>\n",
       "      <th>total_reviews</th>\n",
       "      <th>brand_id</th>\n",
       "      <th>category_id</th>\n",
       "      <th>cluster</th>\n",
       "    </tr>\n",
       "  </thead>\n",
       "  <tbody>\n",
       "    <tr>\n",
       "      <th>0</th>\n",
       "      <td>0000041386</td>\n",
       "      <td>1.000000</td>\n",
       "      <td>1</td>\n",
       "      <td>355584</td>\n",
       "      <td>28</td>\n",
       "      <td>1</td>\n",
       "    </tr>\n",
       "    <tr>\n",
       "      <th>1</th>\n",
       "      <td>0000098906</td>\n",
       "      <td>4.203704</td>\n",
       "      <td>108</td>\n",
       "      <td>364099</td>\n",
       "      <td>29</td>\n",
       "      <td>1</td>\n",
       "    </tr>\n",
       "    <tr>\n",
       "      <th>2</th>\n",
       "      <td>0000143499</td>\n",
       "      <td>5.000000</td>\n",
       "      <td>1</td>\n",
       "      <td>15874</td>\n",
       "      <td>28</td>\n",
       "      <td>0</td>\n",
       "    </tr>\n",
       "    <tr>\n",
       "      <th>3</th>\n",
       "      <td>0000143502</td>\n",
       "      <td>5.000000</td>\n",
       "      <td>1</td>\n",
       "      <td>15872</td>\n",
       "      <td>28</td>\n",
       "      <td>0</td>\n",
       "    </tr>\n",
       "    <tr>\n",
       "      <th>4</th>\n",
       "      <td>0000143529</td>\n",
       "      <td>5.000000</td>\n",
       "      <td>1</td>\n",
       "      <td>15872</td>\n",
       "      <td>41</td>\n",
       "      <td>0</td>\n",
       "    </tr>\n",
       "  </tbody>\n",
       "</table>\n",
       "</div>"
      ],
      "text/plain": [
       "  parent_asin  mean_rating  total_reviews  brand_id  category_id  cluster\n",
       "0  0000041386     1.000000              1    355584           28        1\n",
       "1  0000098906     4.203704            108    364099           29        1\n",
       "2  0000143499     5.000000              1     15874           28        0\n",
       "3  0000143502     5.000000              1     15872           28        0\n",
       "4  0000143529     5.000000              1     15872           41        0"
      ]
     },
     "execution_count": 19,
     "metadata": {},
     "output_type": "execute_result"
    }
   ],
   "source": [
    "# Apply KMeans clustering\n",
    "print(f\"Applying KMeans clustering...\")\n",
    "kmeans = KMeans(n_clusters=5, random_state=42)\n",
    "product_df['cluster'] = kmeans.fit_predict(features)\n",
    "\n",
    "product_df.head()"
   ]
  },
  {
   "cell_type": "markdown",
   "id": "8582c5a9",
   "metadata": {},
   "source": [
    "## Cluster Analysis"
   ]
  },
  {
   "cell_type": "code",
   "execution_count": 20,
   "id": "b22f8ccc",
   "metadata": {},
   "outputs": [
    {
     "name": "stdout",
     "output_type": "stream",
     "text": [
      "Cluster 0:\n",
      " - Size: 343493\n",
      " - Avg Rating: 4.096760928471286\n",
      " - Avg Total Reviews: 23.193969018291494\n",
      " - Avg Brand ID: 38832.842171456185\n",
      " - Avg Category ID: 27.758891738696278\n",
      "Cluster 1:\n",
      " - Size: 738255\n",
      " - Avg Rating: 3.9597142325450165\n",
      " - Avg Total Reviews: 24.806543809388355\n",
      " - Avg Brand ID: 357416.28764180397\n",
      " - Avg Category ID: 30.625873173903326\n",
      "Cluster 2:\n",
      " - Size: 239465\n",
      " - Avg Rating: 4.073790872545362\n",
      " - Avg Total Reviews: 22.303443091892344\n",
      " - Avg Brand ID: 208567.7760466039\n",
      " - Avg Category ID: 27.846228050028188\n",
      "Cluster 3:\n",
      " - Size: 410615\n",
      " - Avg Rating: 4.073248762936489\n",
      " - Avg Total Reviews: 22.906963944327412\n",
      " - Avg Brand ID: 279537.120616636\n",
      " - Avg Category ID: 28.235115619254046\n",
      "Cluster 4:\n",
      " - Size: 431839\n",
      " - Avg Rating: 4.054319535161279\n",
      " - Avg Total Reviews: 19.577828774149626\n",
      " - Avg Brand ID: 123563.33120908486\n",
      " - Avg Category ID: 28.116897732719835\n"
     ]
    }
   ],
   "source": [
    "# Analyse clusters\n",
    "cluster_analysis = product_df.groupby('cluster').agg(\n",
    "    cluster_size=('parent_asin', 'count'),\n",
    "    avg_rating=('mean_rating', 'mean'),\n",
    "    avg_total_reviews=('total_reviews', 'mean'),\n",
    "    avg_brand_id=('brand_id', 'mean'),\n",
    "    avg_category_id=('category_id', 'mean')\n",
    ").reset_index()\n",
    "\n",
    "for idx, row in cluster_analysis.iterrows():\n",
    "    print(f\"Cluster {int(row['cluster'])}:\")\n",
    "    print(f\" - Size: {int(row['cluster_size'])}\")\n",
    "    print(f\" - Avg Rating: {row['avg_rating']}\")\n",
    "    print(f\" - Avg Total Reviews: {row['avg_total_reviews']}\")\n",
    "    print(f\" - Avg Brand ID: {row['avg_brand_id']}\")\n",
    "    print(f\" - Avg Category ID: {row['avg_category_id']}\")\n"
   ]
  },
  {
   "cell_type": "markdown",
   "id": "e264ea7f",
   "metadata": {},
   "source": [
    "## Interpretation"
   ]
  },
  {
   "cell_type": "markdown",
   "id": "6bbb86a7",
   "metadata": {},
   "source": []
  }
 ],
 "metadata": {
  "kernelspec": {
   "display_name": "Python 3",
   "language": "python",
   "name": "python3"
  },
  "language_info": {
   "codemirror_mode": {
    "name": "ipython",
    "version": 3
   },
   "file_extension": ".py",
   "mimetype": "text/x-python",
   "name": "python",
   "nbconvert_exporter": "python",
   "pygments_lexer": "ipython3",
   "version": "3.11.11"
  }
 },
 "nbformat": 4,
 "nbformat_minor": 5
}
