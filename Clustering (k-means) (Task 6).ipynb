{
 "cells": [
  {
   "cell_type": "markdown",
   "id": "dff69578",
   "metadata": {},
   "source": [
    "# Clustering"
   ]
  },
  {
   "cell_type": "markdown",
   "id": "606a7a5b",
   "metadata": {},
   "source": [
    "Setup environment <br>\n",
    "Import relevant libraries"
   ]
  },
  {
   "cell_type": "code",
   "execution_count": 2,
   "id": "a38a6050",
   "metadata": {},
   "outputs": [],
   "source": [
    "# %pip install scikit-learn\n",
    "# %pip install matplotlib\n",
    "# %pip install seaborn\n",
    "# %pip install pandas\n",
    "\n",
    "from bigdata_a3_utils import *\n",
    "import pandas as pd\n",
    "import numpy as np\n",
    "from sklearn.cluster import KMeans\n",
    "from sklearn.preprocessing import LabelEncoder\n",
    "import matplotlib.pyplot as plt\n",
    "import seaborn as sns\n",
    "from pathlib import Path\n",
    "import os, pickle, gc"
   ]
  },
  {
   "cell_type": "markdown",
   "id": "d4a2438f",
   "metadata": {},
   "source": [
    "## Load Categories"
   ]
  },
  {
   "cell_type": "markdown",
   "id": "423e2583",
   "metadata": {},
   "source": [
    "Define bath path"
   ]
  },
  {
   "cell_type": "code",
   "execution_count": 3,
   "id": "184db6cf",
   "metadata": {},
   "outputs": [],
   "source": [
    "base_path = Path('D:\\COMP3610A3\\dataframes')"
   ]
  },
  {
   "cell_type": "markdown",
   "id": "b2369a50",
   "metadata": {},
   "source": [
    "Main code loop below"
   ]
  },
  {
   "cell_type": "code",
   "execution_count": 5,
   "id": "b22f8ccc",
   "metadata": {},
   "outputs": [
    {
     "name": "stdout",
     "output_type": "stream",
     "text": [
      "Loaded df for category: Movies_and_TV\n",
      "Computing mean rating and total reviews for Movies_and_TV...\n",
      "Deleting df to free up memory...\n",
      "Encoding categorical features...\n",
      "Deleting aggregate_df to free up memory...\n",
      "Applying KMeans clustering...\n",
      "Cluster analysis for Movies_and_TV:\n",
      "Cluster 0:\n",
      " - Size: 743508.0\n",
      " - Avg Rating: 3.979678516824734\n",
      " - Avg Total Reviews: 14.988901262662944\n",
      " - Avg Brand ID: 0.0\n",
      " - Avg Category ID: 21.339626473420594\n",
      " - Interpretation: \n",
      "\n",
      "Cluster 1:\n",
      " - Size: 231.0\n",
      " - Avg Rating: 4.359838165093903\n",
      " - Avg Total Reviews: 5751.233766233766\n",
      " - Avg Brand ID: 0.0\n",
      " - Avg Category ID: 22.861471861471863\n",
      " - Interpretation: \n",
      "\n",
      "Cluster 2:\n",
      " - Size: 37.0\n",
      " - Avg Rating: 4.509718834332255\n",
      " - Avg Total Reviews: 17649.216216216217\n",
      " - Avg Brand ID: 0.0\n",
      " - Avg Category ID: 23.0\n",
      " - Interpretation: \n",
      "\n",
      "Cluster 3:\n",
      " - Size: 3.0\n",
      " - Avg Rating: 4.591263527049477\n",
      " - Avg Total Reviews: 55158.666666666664\n",
      " - Avg Brand ID: 0.0\n",
      " - Avg Category ID: 23.0\n",
      " - Interpretation: \n",
      "\n",
      "Cluster 4:\n",
      " - Size: 3960.0\n",
      " - Avg Rating: 4.289248211261374\n",
      " - Avg Total Reviews: 976.25\n",
      " - Avg Brand ID: 0.0\n",
      " - Avg Category ID: 21.931818181818183\n",
      " - Interpretation: \n",
      "\n"
     ]
    }
   ],
   "source": [
    "for category in ['Movies_and_TV']:\n",
    "    # Load the reviews and metadata for the specified category\n",
    "    pickle_path = os.path.join(base_path, f'cleaned_data_{category}.pkl')\n",
    "    df = pd.read_pickle(pickle_path)\n",
    "    \n",
    "    if df.empty:\n",
    "        print(f\"No data found for category: {category}\")\n",
    "        continue\n",
    "    \n",
    "    print(f\"Loaded df for category: {category}\")\n",
    "    \n",
    "    # Compute mean rating and total reviews for product\n",
    "    print(f\"Computing mean rating and total reviews for {category}...\")\n",
    "    aggregate_df = df.groupby('parent_asin').agg(\n",
    "        mean_rating=('rating', 'mean'),\n",
    "        total_reviews=('rating', 'count'),\n",
    "        brand=('details', lambda x: x.iloc[0].get('brand') if isinstance(x.iloc[0], dict) else None),\n",
    "        main_category=('main_category', lambda x: x.iloc[0]),\n",
    "    ).reset_index()\n",
    "    \n",
    "    # Delete df to free up memory\n",
    "    print(f\"Deleting df to free up memory...\")\n",
    "    del df\n",
    "    gc.collect()\n",
    "    \n",
    "    # Encode categorical features, brand and main_category\n",
    "    print(f\"Encoding categorical features...\")\n",
    "    aggregate_df['brand'] = aggregate_df['brand'].fillna('Unknown')\n",
    "    aggregate_df['main_category'] = aggregate_df['main_category'].fillna('Unknown')\n",
    "    \n",
    "    # Apply label encoding \n",
    "    encoder_brand = LabelEncoder()\n",
    "    encoder_main_category = LabelEncoder()\n",
    "    \n",
    "    aggregate_df['brand_id'] = encoder_brand.fit_transform(aggregate_df['brand'])\n",
    "    aggregate_df['category_id'] = encoder_main_category.fit_transform(aggregate_df['main_category'])\n",
    "    \n",
    "    # Drop irrelevant columns\n",
    "    product_df = aggregate_df[['parent_asin', 'mean_rating', 'total_reviews', 'brand_id', 'category_id']]\n",
    "    \n",
    "    # Delete aggregate_df to free up memory\n",
    "    print(f\"Deleting aggregate_df to free up memory...\")\n",
    "    del aggregate_df\n",
    "    gc.collect()\n",
    "    \n",
    "    # Prepare matrix\n",
    "    features = product_df[['mean_rating', 'total_reviews', 'brand_id', 'category_id']]\n",
    "    \n",
    "    # Apply KMeans clustering\n",
    "    print(f\"Applying KMeans clustering...\")\n",
    "    kmeans = KMeans(n_clusters=5, random_state=42)\n",
    "    product_df['cluster'] = kmeans.fit_predict(features)\n",
    "    \n",
    "    # Analyse clusters\n",
    "    cluster_analysis = product_df.groupby('cluster').agg(\n",
    "        cluster_size=('parent_asin', 'count'),\n",
    "        avg_rating=('mean_rating', 'mean'),\n",
    "        avg_total_reviews=('total_reviews', 'mean'),\n",
    "        avg_brand_id=('brand_id', 'mean'),\n",
    "        avg_category_id=('category_id', 'mean')\n",
    "    ).reset_index()\n",
    "    \n",
    "    print(f\"Cluster analysis for {category}:\")\n",
    "    for idx, row in cluster_analysis.iterrows():\n",
    "        print(f\"Cluster {int(row['cluster'])}:\")\n",
    "        print(f\" - Size: {row['cluster_size']}\")\n",
    "        print(f\" - Avg Rating: {row['avg_rating']}\")\n",
    "        print(f\" - Avg Total Reviews: {row['avg_total_reviews']}\")\n",
    "        print(f\" - Avg Brand ID: {row['avg_brand_id']}\")\n",
    "        print(f\" - Avg Category ID: {row['avg_category_id']}\")\n",
    "        print(f\" - Interpretation: \")\n",
    "        print()\n",
    "\n",
    "\n",
    "    "
   ]
  },
  {
   "cell_type": "markdown",
   "id": "e264ea7f",
   "metadata": {},
   "source": []
  },
  {
   "cell_type": "code",
   "execution_count": null,
   "id": "6bbb86a7",
   "metadata": {},
   "outputs": [],
   "source": []
  }
 ],
 "metadata": {
  "kernelspec": {
   "display_name": "Python 3",
   "language": "python",
   "name": "python3"
  },
  "language_info": {
   "codemirror_mode": {
    "name": "ipython",
    "version": 3
   },
   "file_extension": ".py",
   "mimetype": "text/x-python",
   "name": "python",
   "nbconvert_exporter": "python",
   "pygments_lexer": "ipython3",
   "version": "3.11.11"
  }
 },
 "nbformat": 4,
 "nbformat_minor": 5
}
