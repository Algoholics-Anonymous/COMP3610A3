{
 "cells": [
  {
   "cell_type": "markdown",
   "id": "58fe7329",
   "metadata": {},
   "source": [
    "# Data Preprocessing:\n",
    "# Please double check for errors or misinterpretation ~Kailash"
   ]
  },
  {
   "cell_type": "code",
   "execution_count": null,
   "id": "57bada0f",
   "metadata": {},
   "outputs": [],
   "source": [
    "from bigdata_a3_utils import *\n",
    "import pandas as pd\n",
    "import pyarrow as pa\n",
    "import pyarrow.dataset as ds\n",
    "import pyarrow.parquet as pq\n",
    "from pathlib import Path\n",
    "import os\n",
    "import time\n",
    "import gc\n",
    "import re"
   ]
  },
  {
   "cell_type": "code",
   "execution_count": null,
   "id": "6c80a5ee",
   "metadata": {},
   "outputs": [],
   "source": [
    "subset_sizes = [11, 11, 12]  # Define the sizes of each subset\n",
    "\n",
    "# Create subsets\n",
    "subsets = []\n",
    "start_index = 0\n",
    "for size in subset_sizes:\n",
    "    subsets.append(VALID_CATEGORIES[start_index:start_index + size])\n",
    "    start_index += size\n",
    "\n",
    "# Unpack the subsets into individual variables\n",
    "kailash_subset, saeed_subset, johnny_subset = subsets\n",
    "\n",
    "print(f\"Subset list: {kailash_subset}\")\n",
    "# Output the subsets"
   ]
  },
  {
   "cell_type": "markdown",
   "id": "d72cc32b",
   "metadata": {},
   "source": [
    "Define paths below"
   ]
  },
  {
   "cell_type": "code",
   "execution_count": 7,
   "id": "4c938b28",
   "metadata": {},
   "outputs": [
    {
     "name": "stderr",
     "output_type": "stream",
     "text": [
      "<>:1: SyntaxWarning: invalid escape sequence '\\d'\n",
      "<>:1: SyntaxWarning: invalid escape sequence '\\d'\n",
      "C:\\Users\\kaila\\AppData\\Local\\Temp\\ipykernel_18496\\3111377308.py:1: SyntaxWarning: invalid escape sequence '\\d'\n",
      "  base_path = Path(\"C:\\dataset\")\n"
     ]
    }
   ],
   "source": [
    "base_path = Path(\"C:\\dataset\")\n",
    "pickle_path = Path(\"D:\\\\COMP3610A3\\\\dataframes\")"
   ]
  },
  {
   "cell_type": "code",
   "execution_count": null,
   "id": "5bd29a73",
   "metadata": {},
   "outputs": [],
   "source": [
    "def load_review_data(base_path, category):\n",
    "    review_path = base_path / f\"raw_review_{category}.tar.gz\"\n",
    "\n",
    "    print(f\"Loading review data for {category}...\")\n",
    "    review_dataset = load_compressed_dataset(review_path)    \n",
    "    reviews_df = review_dataset[\"full\"].to_pandas()\n",
    "\n",
    "    return reviews_df"
   ]
  },
  {
   "cell_type": "code",
   "execution_count": null,
   "id": "f9b8a5c4",
   "metadata": {},
   "outputs": [],
   "source": [
    "def load_metadata(base_path, category):\n",
    "    metadata_folder_path = base_path / f\"raw_meta_{category}.tar.gz\"\n",
    "\n",
    "    print(f\"Loading metadata for {category}...\")\n",
    "    metadata = load_compressed_dataset(metadata_folder_path)\n",
    "    metadata_df = metadata[\"full\"].to_pandas()\n",
    "\n",
    "    return metadata_df"
   ]
  },
  {
   "cell_type": "code",
   "execution_count": null,
   "id": "24466c3b",
   "metadata": {},
   "outputs": [],
   "source": [
    "def merge_dataframes(reviews_df, meta_df):\n",
    "    merged_df = pd.merge(\n",
    "        reviews_df,\n",
    "        meta_df,\n",
    "        left_on='parent_asin',\n",
    "        right_on='parent_asin',\n",
    "        how='inner',\n",
    "        suffixes=('_reviews', '_meta')\n",
    "    )\n",
    "\n",
    "    return merged_df"
   ]
  },
  {
   "cell_type": "code",
   "execution_count": null,
   "id": "3a5d5d21",
   "metadata": {},
   "outputs": [],
   "source": [
    "def extract_brand(row):\n",
    "    if row.get('store'):\n",
    "        return row['store']  # Return store if it has a value\n",
    "    elif row.get('details'):\n",
    "        # Extract brand from details using regex to find the word \"Brand\" followed by the actual brand name\n",
    "        match = re.search(r'Brand\\s*:\\s*(\\w+)', row['details'], re.IGNORECASE)\n",
    "        if match:\n",
    "            return match.group(1)  # Return the brand found in details\n",
    "    return 'Unknown'"
   ]
  },
  {
   "cell_type": "markdown",
   "id": "285866c7",
   "metadata": {},
   "source": [
    "# Preprocessing creates pickle files for temporary storage"
   ]
  },
  {
   "cell_type": "code",
   "execution_count": null,
   "id": "ac9cdbaf",
   "metadata": {},
   "outputs": [],
   "source": [
    "# Create directory if none exists\n",
    "if not os.path.exists(pickle_path):\n",
    "    os.makedirs(pickle_path)\n",
    "\n",
    "# Main preprocessing loop\n",
    "for category in johnny_subset:\n",
    "    pickle_file_name = os.path.join(pickle_path, f'cleaned_data_{category}.pkl')\n",
    "    \n",
    "    if os.path.exists(pickle_file_name):\n",
    "        print(f\"Pickle file already exists for {category}. Skipping preprocessing...\")\n",
    "        continue\n",
    "    \n",
    "    reviews_df = load_review_data(base_path, category)\n",
    "    metadata_df = load_metadata(base_path, category)\n",
    "    \n",
    "    df = merge_dataframes(reviews_df, metadata_df)\n",
    "    print(\"Merged meta and reviews\")\n",
    "\n",
    "    df = df[(df['rating'].notnull()) & (df['rating'].between(1, 5))]\n",
    "    print(\"Filtered ratings\")\n",
    "\n",
    "    df = df[df['text'].str.strip().astype(bool)]\n",
    "    print(\"Filtered empty reviews\")\n",
    "\n",
    "    df.loc[:, 'brand'] = df.apply(extract_brand, axis=1)\n",
    "    print(\"Extracted brands\")\n",
    "\n",
    "    df = df.drop_duplicates(subset=['user_id', 'text', 'asin'], keep='first')\n",
    "    print(\"Dropped duplicates\")\n",
    "\n",
    "    df.loc[:, 'review_length'] = df['text'].apply(lambda x: len(x.split()))\n",
    "    print(\"Calculated review length\")\n",
    "\n",
    "    df.loc[:, 'year'] = pd.to_datetime(df['timestamp'], unit='ms', errors='coerce').dt.year\n",
    "    print(\"Extracted year\")\n",
    "\n",
    "    pickle_file_name = os.path.join(pickle_path, f'cleaned_data_{category}.pkl')\n",
    "    df.to_pickle(pickle_file_name)\n",
    "    \n",
    "    del reviews_df\n",
    "    del metadata_df\n",
    "    gc.collect()\n"
   ]
  },
  {
   "cell_type": "code",
   "execution_count": null,
   "id": "fa9a00d4",
   "metadata": {},
   "outputs": [],
   "source": []
  }
 ],
 "metadata": {
  "kernelspec": {
   "display_name": "Python 3",
   "language": "python",
   "name": "python3"
  },
  "language_info": {
   "codemirror_mode": {
    "name": "ipython",
    "version": 3
   },
   "file_extension": ".py",
   "mimetype": "text/x-python",
   "name": "python",
   "nbconvert_exporter": "python",
   "pygments_lexer": "ipython3",
   "version": "3.12.6"
  }
 },
 "nbformat": 4,
 "nbformat_minor": 5
}
